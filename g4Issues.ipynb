{
 "cells": [
  {
   "cell_type": "code",
   "execution_count": 1,
   "metadata": {},
   "outputs": [
    {
     "name": "stderr",
     "output_type": "stream",
     "text": [
      "── \u001b[1mAttaching packages\u001b[22m ─────────────────────────────────────── tidyverse 1.3.1 ──\n",
      "\n",
      "\u001b[32m✔\u001b[39m \u001b[34mggplot2\u001b[39m 3.3.5     \u001b[32m✔\u001b[39m \u001b[34mpurrr  \u001b[39m 0.3.4\n",
      "\u001b[32m✔\u001b[39m \u001b[34mtibble \u001b[39m 3.1.4     \u001b[32m✔\u001b[39m \u001b[34mdplyr  \u001b[39m 1.0.7\n",
      "\u001b[32m✔\u001b[39m \u001b[34mtidyr  \u001b[39m 1.1.3     \u001b[32m✔\u001b[39m \u001b[34mstringr\u001b[39m 1.4.0\n",
      "\u001b[32m✔\u001b[39m \u001b[34mreadr  \u001b[39m 2.0.1     \u001b[32m✔\u001b[39m \u001b[34mforcats\u001b[39m 0.5.1\n",
      "\n",
      "── \u001b[1mConflicts\u001b[22m ────────────────────────────────────────── tidyverse_conflicts() ──\n",
      "\u001b[31m✖\u001b[39m \u001b[34mdplyr\u001b[39m::\u001b[32mfilter()\u001b[39m masks \u001b[34mstats\u001b[39m::filter()\n",
      "\u001b[31m✖\u001b[39m \u001b[34mdplyr\u001b[39m::\u001b[32mlag()\u001b[39m    masks \u001b[34mstats\u001b[39m::lag()\n",
      "\n"
     ]
    },
    {
     "ename": "ERROR",
     "evalue": "Error in library(tidymodels): there is no package called ‘tidymodels’\n",
     "output_type": "error",
     "traceback": [
      "Error in library(tidymodels): there is no package called ‘tidymodels’\nTraceback:\n",
      "1. library(tidymodels)"
     ]
    }
   ],
   "source": [
    "library(tidyverse)\n",
    "library(tidymodels)\n",
    "library(repr)\n",
    "options(repr.matrix.max.rows = 6)"
   ]
  },
  {
   "cell_type": "code",
   "execution_count": 2,
   "metadata": {},
   "outputs": [
    {
     "name": "stderr",
     "output_type": "stream",
     "text": [
      "\u001b[1m\u001b[1mRows: \u001b[1m\u001b[22m\u001b[34m\u001b[34m19653\u001b[34m\u001b[39m \u001b[1m\u001b[1mColumns: \u001b[1m\u001b[22m\u001b[34m\u001b[34m84\u001b[34m\u001b[39m\n",
      "\n",
      "\u001b[36m──\u001b[39m \u001b[1m\u001b[1mColumn specification\u001b[1m\u001b[22m \u001b[36m────────────────────────────────────────────────────────\u001b[39m\n",
      "\u001b[1mDelimiter:\u001b[22m \",\"\n",
      "\u001b[31mchr\u001b[39m (64): 0Phys Props LabID, Sample Name *, Alt Sample Name, SMS Curation Nu...\n",
      "\u001b[32mdbl\u001b[39m (20): Date Mapped (yyyy/mm/dd) *, Lat Deg, Long Deg, UTM zone, Easting, ...\n",
      "\n",
      "\n",
      "\u001b[36mℹ\u001b[39m Use \u001b[30m\u001b[47m\u001b[30m\u001b[47m`spec()`\u001b[47m\u001b[30m\u001b[49m\u001b[39m to retrieve the full column specification for this data.\n",
      "\u001b[36mℹ\u001b[39m Specify the column types or set \u001b[30m\u001b[47m\u001b[30m\u001b[47m`show_col_types = FALSE`\u001b[47m\u001b[30m\u001b[49m\u001b[39m to quiet this message.\n",
      "\n"
     ]
    },
    {
     "ename": "ERROR",
     "evalue": "Error in initial_split(borehole_data_unscaled, prop = 0.75, strata = lithology): could not find function \"initial_split\"\n",
     "output_type": "error",
     "traceback": [
      "Error in initial_split(borehole_data_unscaled, prop = 0.75, strata = lithology): could not find function \"initial_split\"\nTraceback:\n"
     ]
    }
   ],
   "source": [
    "set.seed(100)\n",
    "# Necessary Code for reproducibility\n",
    "rock_data_raw <- read_csv(\"https://raw.githubusercontent.com/yxing6/DSCI_100_Project_Group4/main/data/of_8460_database.csv\")\n",
    "\n",
    "borehole_data_raw <- rock_data_raw %>% \n",
    "    select(\"Location Type *\", \"MIRA Master Litho 1\", \"GRAIN DEN Sample Value [g/cm3]\",\n",
    "           \"POR Sample Value [%]\",\"MS Sample Value [SI A/m / A/m]\",\n",
    "           \"NRM Sample Value [A/m]\",\"RES Sample Value [Ohm.m]\",\"CHG Sample Value [ms]\") %>%\n",
    "    rename(\"sample_type\" = \"Location Type *\",\n",
    "          \"lithology\" = \"MIRA Master Litho 1\",\n",
    "           \"density\" = \"GRAIN DEN Sample Value [g/cm3]\",\n",
    "           \"porosity\" = \"POR Sample Value [%]\",\n",
    "           \"MS\" = \"MS Sample Value [SI A/m / A/m]\",\n",
    "           \"NRM\" = \"NRM Sample Value [A/m]\",\n",
    "           \"RES\" = \"RES Sample Value [Ohm.m]\",\n",
    "           \"chargeability\" = \"CHG Sample Value [ms]\") %>%\n",
    "    mutate(sample_type = as_factor(sample_type),\n",
    "          lithology = as_factor(lithology)) %>%\n",
    "    filter(lithology != \"Other\", sample_type == \"Borehole\")\n",
    "\n",
    "borehole_data_unscaled <- na.omit(borehole_data_raw) %>%\n",
    "    select(-sample_type)\n",
    "\n",
    "borehole_data_split <- initial_split(borehole_data_unscaled, prop = 0.75, strata = lithology)\n",
    "data_train <- training(borehole_data_split)\n",
    "data_test <- testing(borehole_data_split)"
   ]
  },
  {
   "cell_type": "markdown",
   "metadata": {},
   "source": [
    "Down the line you may run into this issue.\n",
    "> ! Fold1: internal: No observations were detected in `truth` for level(s): 'Other'...\n",
    "\n",
    "I'll let you figure out this issue. But this is closely related to one of the issues when you try and upsample. Since they're also trying to upsample the `Other` factor there's an additional couple of hundred `NA` observations."
   ]
  },
  {
   "cell_type": "code",
   "execution_count": 82,
   "metadata": {},
   "outputs": [
    {
     "data": {
      "text/html": [
       "<style>\n",
       ".list-inline {list-style: none; margin:0; padding: 0}\n",
       ".list-inline>li {display: inline-block}\n",
       ".list-inline>li:not(:last-child)::after {content: \"\\00b7\"; padding: 0 .5ex}\n",
       "</style>\n",
       "<ol class=list-inline><li>'Igneous'</li><li>'Metamorphic'</li><li>'Sedimentary'</li><li>'Other'</li></ol>\n"
      ],
      "text/latex": [
       "\\begin{enumerate*}\n",
       "\\item 'Igneous'\n",
       "\\item 'Metamorphic'\n",
       "\\item 'Sedimentary'\n",
       "\\item 'Other'\n",
       "\\end{enumerate*}\n"
      ],
      "text/markdown": [
       "1. 'Igneous'\n",
       "2. 'Metamorphic'\n",
       "3. 'Sedimentary'\n",
       "4. 'Other'\n",
       "\n",
       "\n"
      ],
      "text/plain": [
       "[1] \"Igneous\"     \"Metamorphic\" \"Sedimentary\" \"Other\"      "
      ]
     },
     "metadata": {},
     "output_type": "display_data"
    }
   ],
   "source": [
    "levels(data_train$lithology)"
   ]
  },
  {
   "cell_type": "markdown",
   "metadata": {},
   "source": [
    "If you look closely at the MS column of your training date, you will notice there are 26 observations with negative values. As you may know, you cannot log a negative number so for MS columns that contain a negative value the recipe will produce `NaN`. For now I'll just remove all the observations that contain a negative MS with `setdiff()` "
   ]
  },
  {
   "cell_type": "code",
   "execution_count": 83,
   "metadata": {},
   "outputs": [
    {
     "data": {
      "text/html": [
       "<table>\n",
       "<caption>A tibble: 26 × 7</caption>\n",
       "<thead>\n",
       "\t<tr><th scope=col>lithology</th><th scope=col>density</th><th scope=col>porosity</th><th scope=col>MS</th><th scope=col>NRM</th><th scope=col>RES</th><th scope=col>chargeability</th></tr>\n",
       "\t<tr><th scope=col>&lt;fct&gt;</th><th scope=col>&lt;dbl&gt;</th><th scope=col>&lt;dbl&gt;</th><th scope=col>&lt;dbl&gt;</th><th scope=col>&lt;dbl&gt;</th><th scope=col>&lt;dbl&gt;</th><th scope=col>&lt;dbl&gt;</th></tr>\n",
       "</thead>\n",
       "<tbody>\n",
       "\t<tr><td>Metamorphic</td><td>2.665</td><td> 0.35</td><td>-1.60e-06</td><td>0.000587</td><td>3540</td><td>1.535</td></tr>\n",
       "\t<tr><td>Sedimentary</td><td>2.636</td><td>10.66</td><td>-1.51e-06</td><td>0.000392</td><td> 964</td><td>0.299</td></tr>\n",
       "\t<tr><td>Sedimentary</td><td>2.639</td><td> 8.51</td><td>-1.78e-06</td><td>0.000241</td><td>1600</td><td>0.272</td></tr>\n",
       "\t<tr><td>⋮</td><td>⋮</td><td>⋮</td><td>⋮</td><td>⋮</td><td>⋮</td><td>⋮</td></tr>\n",
       "\t<tr><td>Metamorphic</td><td>2.646</td><td>0.33</td><td>-1.09e-05</td><td>0.000373</td><td>20400</td><td>3.223</td></tr>\n",
       "\t<tr><td>Metamorphic</td><td>2.637</td><td>0.51</td><td>-9.72e-06</td><td>0.000335</td><td>15100</td><td>1.351</td></tr>\n",
       "\t<tr><td>Metamorphic</td><td>2.644</td><td>0.67</td><td>-4.34e-06</td><td>0.000255</td><td>13200</td><td>2.330</td></tr>\n",
       "</tbody>\n",
       "</table>\n"
      ],
      "text/latex": [
       "A tibble: 26 × 7\n",
       "\\begin{tabular}{lllllll}\n",
       " lithology & density & porosity & MS & NRM & RES & chargeability\\\\\n",
       " <fct> & <dbl> & <dbl> & <dbl> & <dbl> & <dbl> & <dbl>\\\\\n",
       "\\hline\n",
       "\t Metamorphic & 2.665 &  0.35 & -1.60e-06 & 0.000587 & 3540 & 1.535\\\\\n",
       "\t Sedimentary & 2.636 & 10.66 & -1.51e-06 & 0.000392 &  964 & 0.299\\\\\n",
       "\t Sedimentary & 2.639 &  8.51 & -1.78e-06 & 0.000241 & 1600 & 0.272\\\\\n",
       "\t ⋮ & ⋮ & ⋮ & ⋮ & ⋮ & ⋮ & ⋮\\\\\n",
       "\t Metamorphic & 2.646 & 0.33 & -1.09e-05 & 0.000373 & 20400 & 3.223\\\\\n",
       "\t Metamorphic & 2.637 & 0.51 & -9.72e-06 & 0.000335 & 15100 & 1.351\\\\\n",
       "\t Metamorphic & 2.644 & 0.67 & -4.34e-06 & 0.000255 & 13200 & 2.330\\\\\n",
       "\\end{tabular}\n"
      ],
      "text/markdown": [
       "\n",
       "A tibble: 26 × 7\n",
       "\n",
       "| lithology &lt;fct&gt; | density &lt;dbl&gt; | porosity &lt;dbl&gt; | MS &lt;dbl&gt; | NRM &lt;dbl&gt; | RES &lt;dbl&gt; | chargeability &lt;dbl&gt; |\n",
       "|---|---|---|---|---|---|---|\n",
       "| Metamorphic | 2.665 |  0.35 | -1.60e-06 | 0.000587 | 3540 | 1.535 |\n",
       "| Sedimentary | 2.636 | 10.66 | -1.51e-06 | 0.000392 |  964 | 0.299 |\n",
       "| Sedimentary | 2.639 |  8.51 | -1.78e-06 | 0.000241 | 1600 | 0.272 |\n",
       "| ⋮ | ⋮ | ⋮ | ⋮ | ⋮ | ⋮ | ⋮ |\n",
       "| Metamorphic | 2.646 | 0.33 | -1.09e-05 | 0.000373 | 20400 | 3.223 |\n",
       "| Metamorphic | 2.637 | 0.51 | -9.72e-06 | 0.000335 | 15100 | 1.351 |\n",
       "| Metamorphic | 2.644 | 0.67 | -4.34e-06 | 0.000255 | 13200 | 2.330 |\n",
       "\n"
      ],
      "text/plain": [
       "   lithology   density porosity MS        NRM      RES   chargeability\n",
       "1  Metamorphic 2.665    0.35    -1.60e-06 0.000587 3540  1.535        \n",
       "2  Sedimentary 2.636   10.66    -1.51e-06 0.000392  964  0.299        \n",
       "3  Sedimentary 2.639    8.51    -1.78e-06 0.000241 1600  0.272        \n",
       "⋮  ⋮           ⋮       ⋮        ⋮         ⋮        ⋮     ⋮            \n",
       "24 Metamorphic 2.646   0.33     -1.09e-05 0.000373 20400 3.223        \n",
       "25 Metamorphic 2.637   0.51     -9.72e-06 0.000335 15100 1.351        \n",
       "26 Metamorphic 2.644   0.67     -4.34e-06 0.000255 13200 2.330        "
      ]
     },
     "metadata": {},
     "output_type": "display_data"
    }
   ],
   "source": [
    "negative_MS <- data_train %>%\n",
    "    filter(MS < 0)\n",
    "negative_MS"
   ]
  },
  {
   "cell_type": "code",
   "execution_count": 84,
   "metadata": {},
   "outputs": [
    {
     "data": {
      "text/html": [
       "<table>\n",
       "<caption>A tibble: 1926 × 7</caption>\n",
       "<thead>\n",
       "\t<tr><th scope=col>density</th><th scope=col>porosity</th><th scope=col>MS</th><th scope=col>NRM</th><th scope=col>RES</th><th scope=col>chargeability</th><th scope=col>lithology</th></tr>\n",
       "\t<tr><th scope=col>&lt;dbl&gt;</th><th scope=col>&lt;dbl&gt;</th><th scope=col>&lt;dbl&gt;</th><th scope=col>&lt;dbl&gt;</th><th scope=col>&lt;dbl&gt;</th><th scope=col>&lt;dbl&gt;</th><th scope=col>&lt;fct&gt;</th></tr>\n",
       "</thead>\n",
       "<tbody>\n",
       "\t<tr><td>-0.2468731</td><td>-0.4021398</td><td>1.4664554</td><td>1.473474</td><td> 0.9147524</td><td> 0.8525974</td><td>Igneous</td></tr>\n",
       "\t<tr><td> 1.1033663</td><td>-0.4258526</td><td>1.9765107</td><td>2.029514</td><td> 1.1376573</td><td> 0.6039673</td><td>Igneous</td></tr>\n",
       "\t<tr><td>-0.6268400</td><td> 1.0371133</td><td>0.6681407</td><td>1.199924</td><td>-0.3549377</td><td>-0.1858356</td><td>Igneous</td></tr>\n",
       "\t<tr><td>⋮</td><td>⋮</td><td>⋮</td><td>⋮</td><td>⋮</td><td>⋮</td><td>⋮</td></tr>\n",
       "\t<tr><td>NA</td><td>NA</td><td>NA</td><td>NA</td><td>NA</td><td>NA</td><td>NA</td></tr>\n",
       "\t<tr><td>NA</td><td>NA</td><td>NA</td><td>NA</td><td>NA</td><td>NA</td><td>NA</td></tr>\n",
       "\t<tr><td>NA</td><td>NA</td><td>NA</td><td>NA</td><td>NA</td><td>NA</td><td>NA</td></tr>\n",
       "</tbody>\n",
       "</table>\n"
      ],
      "text/latex": [
       "A tibble: 1926 × 7\n",
       "\\begin{tabular}{lllllll}\n",
       " density & porosity & MS & NRM & RES & chargeability & lithology\\\\\n",
       " <dbl> & <dbl> & <dbl> & <dbl> & <dbl> & <dbl> & <fct>\\\\\n",
       "\\hline\n",
       "\t -0.2468731 & -0.4021398 & 1.4664554 & 1.473474 &  0.9147524 &  0.8525974 & Igneous\\\\\n",
       "\t  1.1033663 & -0.4258526 & 1.9765107 & 2.029514 &  1.1376573 &  0.6039673 & Igneous\\\\\n",
       "\t -0.6268400 &  1.0371133 & 0.6681407 & 1.199924 & -0.3549377 & -0.1858356 & Igneous\\\\\n",
       "\t ⋮ & ⋮ & ⋮ & ⋮ & ⋮ & ⋮ & ⋮\\\\\n",
       "\t NA & NA & NA & NA & NA & NA & NA\\\\\n",
       "\t NA & NA & NA & NA & NA & NA & NA\\\\\n",
       "\t NA & NA & NA & NA & NA & NA & NA\\\\\n",
       "\\end{tabular}\n"
      ],
      "text/markdown": [
       "\n",
       "A tibble: 1926 × 7\n",
       "\n",
       "| density &lt;dbl&gt; | porosity &lt;dbl&gt; | MS &lt;dbl&gt; | NRM &lt;dbl&gt; | RES &lt;dbl&gt; | chargeability &lt;dbl&gt; | lithology &lt;fct&gt; |\n",
       "|---|---|---|---|---|---|---|\n",
       "| -0.2468731 | -0.4021398 | 1.4664554 | 1.473474 |  0.9147524 |  0.8525974 | Igneous |\n",
       "|  1.1033663 | -0.4258526 | 1.9765107 | 2.029514 |  1.1376573 |  0.6039673 | Igneous |\n",
       "| -0.6268400 |  1.0371133 | 0.6681407 | 1.199924 | -0.3549377 | -0.1858356 | Igneous |\n",
       "| ⋮ | ⋮ | ⋮ | ⋮ | ⋮ | ⋮ | ⋮ |\n",
       "| NA | NA | NA | NA | NA | NA | NA |\n",
       "| NA | NA | NA | NA | NA | NA | NA |\n",
       "| NA | NA | NA | NA | NA | NA | NA |\n",
       "\n"
      ],
      "text/plain": [
       "     density    porosity   MS        NRM      RES        chargeability\n",
       "1    -0.2468731 -0.4021398 1.4664554 1.473474  0.9147524  0.8525974   \n",
       "2     1.1033663 -0.4258526 1.9765107 2.029514  1.1376573  0.6039673   \n",
       "3    -0.6268400  1.0371133 0.6681407 1.199924 -0.3549377 -0.1858356   \n",
       "⋮    ⋮          ⋮          ⋮         ⋮        ⋮          ⋮            \n",
       "1924 NA         NA         NA        NA       NA         NA           \n",
       "1925 NA         NA         NA        NA       NA         NA           \n",
       "1926 NA         NA         NA        NA       NA         NA           \n",
       "     lithology\n",
       "1    Igneous  \n",
       "2    Igneous  \n",
       "3    Igneous  \n",
       "⋮    ⋮        \n",
       "1924 NA       \n",
       "1925 NA       \n",
       "1926 NA       "
      ]
     },
     "metadata": {},
     "output_type": "display_data"
    }
   ],
   "source": [
    "set.seed(100)\n",
    "\n",
    "# A new training_dataset that gets rid of the observations with a negative MS.\n",
    "new_training <- setdiff(data_train, negative_MS)\n",
    "\n",
    "test <- recipe(lithology ~ ., data = new_training) %>%\n",
    "         step_upsample(lithology, over_ratio = 1, skip = FALSE) %>%\n",
    "         step_log(porosity, MS, NRM, RES, chargeability) %>%\n",
    "         step_scale(all_predictors()) %>%\n",
    "         step_center(all_predictors()) %>%\n",
    "         prep() %>%\n",
    "         bake(new_training)\n",
    "test"
   ]
  },
  {
   "cell_type": "markdown",
   "metadata": {},
   "source": [
    "The NA values is specifically because if the issue I first mentioned at the top. Fix that issue and rerun the code and it'll have 1,662 obsevations. You'll still notice there are negative observations which is why there isn't exactly 1,677 observations but at this point you shouldn't have whole rows that are all `NA`.\n",
    "## Don't continue until you fix the above issue\n",
    "\n",
    "At this point you should have fixed 2 of the problems you asked about.\n",
    "> ! Fold1: recipe: NaNs produced\n",
    "\n",
    "> ! Fold1: model (predictions): NaNs produced"
   ]
  },
  {
   "cell_type": "code",
   "execution_count": 80,
   "metadata": {},
   "outputs": [
    {
     "name": "stderr",
     "output_type": "stream",
     "text": [
      "\u001b[31mx\u001b[39m \u001b[31mFold1: model (predictions): Error: Problem with `mutate()` input `.row`.\n",
      "\u001b[31m✖...\u001b[39m\n",
      "\n",
      "\u001b[31mx\u001b[39m \u001b[31mFold2: model (predictions): Error: Problem with `mutate()` input `.row`.\n",
      "\u001b[31m✖...\u001b[39m\n",
      "\n",
      "\u001b[31mx\u001b[39m \u001b[31mFold3: model (predictions): Error: Problem with `mutate()` input `.row`.\n",
      "\u001b[31m✖...\u001b[39m\n",
      "\n",
      "\u001b[31mx\u001b[39m \u001b[31mFold4: model (predictions): Error: Problem with `mutate()` input `.row`.\n",
      "\u001b[31m✖...\u001b[39m\n",
      "\n",
      "\u001b[31mx\u001b[39m \u001b[31mFold5: model (predictions): Error: Problem with `mutate()` input `.row`.\n",
      "\u001b[31m✖...\u001b[39m\n",
      "\n",
      "Warning message:\n",
      "“All models failed in [fit_resamples()]. See the `.notes` column.”\n"
     ]
    }
   ],
   "source": [
    "training_recipe <- recipe(lithology ~ ., data = new_training) %>%\n",
    "     step_upsample(lithology, over_ratio = 1, skip = FALSE) %>%\n",
    "     step_log(porosity, MS, NRM, RES, chargeability) %>%\n",
    "     step_scale(all_predictors()) %>%\n",
    "     step_center(all_predictors()) %>%\n",
    "     prep()\n",
    "\n",
    "training_vfold <- vfold_cv(new_training, v = 5, strata = lithology)\n",
    "\n",
    "knn_tune <- nearest_neighbor(weight_func = \"rectangular\", neighbors = 3) %>%\n",
    "       set_engine(\"kknn\") %>%\n",
    "       set_mode(\"classification\")\n",
    "\n",
    "knn_results <- workflow() %>%\n",
    "       add_recipe(training_recipe) %>%\n",
    "       add_model(knn_tune) %>%\n",
    "       fit_resamples(resamples = training_vfold)"
   ]
  },
  {
   "cell_type": "markdown",
   "metadata": {},
   "source": [
    "The issue seems to be related to step_upsample(). So will ask the rest of the teaching team and get back to you at a later time. For now, I would just remove the `step_upsample()`step. (Your note said Trevor suggested that as well)"
   ]
  }
 ],
 "metadata": {
  "kernelspec": {
   "display_name": "R",
   "language": "R",
   "name": "ir"
  },
  "language_info": {
   "codemirror_mode": "r",
   "file_extension": ".r",
   "mimetype": "text/x-r-source",
   "name": "R",
   "pygments_lexer": "r",
   "version": "4.1.1"
  }
 },
 "nbformat": 4,
 "nbformat_minor": 4
}
