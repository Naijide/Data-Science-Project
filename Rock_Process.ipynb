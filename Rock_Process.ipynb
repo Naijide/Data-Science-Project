{
 "cells": [
  {
   "cell_type": "code",
   "execution_count": 2,
   "metadata": {},
   "outputs": [
    {
     "name": "stderr",
     "output_type": "stream",
     "text": [
      "── \u001b[1mAttaching packages\u001b[22m ─────────────────────────────────────── tidyverse 1.3.0 ──\n",
      "\n",
      "\u001b[32m✔\u001b[39m \u001b[34mggplot2\u001b[39m 3.3.2     \u001b[32m✔\u001b[39m \u001b[34mpurrr  \u001b[39m 0.3.4\n",
      "\u001b[32m✔\u001b[39m \u001b[34mtibble \u001b[39m 3.0.3     \u001b[32m✔\u001b[39m \u001b[34mdplyr  \u001b[39m 1.0.2\n",
      "\u001b[32m✔\u001b[39m \u001b[34mtidyr  \u001b[39m 1.1.2     \u001b[32m✔\u001b[39m \u001b[34mstringr\u001b[39m 1.4.0\n",
      "\u001b[32m✔\u001b[39m \u001b[34mreadr  \u001b[39m 1.3.1     \u001b[32m✔\u001b[39m \u001b[34mforcats\u001b[39m 0.5.0\n",
      "\n",
      "Warning message:\n",
      "“package ‘ggplot2’ was built under R version 4.0.1”\n",
      "Warning message:\n",
      "“package ‘tibble’ was built under R version 4.0.2”\n",
      "Warning message:\n",
      "“package ‘tidyr’ was built under R version 4.0.2”\n",
      "Warning message:\n",
      "“package ‘dplyr’ was built under R version 4.0.2”\n",
      "── \u001b[1mConflicts\u001b[22m ────────────────────────────────────────── tidyverse_conflicts() ──\n",
      "\u001b[31m✖\u001b[39m \u001b[34mdplyr\u001b[39m::\u001b[32mfilter()\u001b[39m masks \u001b[34mstats\u001b[39m::filter()\n",
      "\u001b[31m✖\u001b[39m \u001b[34mdplyr\u001b[39m::\u001b[32mlag()\u001b[39m    masks \u001b[34mstats\u001b[39m::lag()\n",
      "\n",
      "Warning message:\n",
      "“package ‘tidymodels’ was built under R version 4.0.2”\n",
      "── \u001b[1mAttaching packages\u001b[22m ────────────────────────────────────── tidymodels 0.1.1 ──\n",
      "\n",
      "\u001b[32m✔\u001b[39m \u001b[34mbroom    \u001b[39m 0.7.0      \u001b[32m✔\u001b[39m \u001b[34mrecipes  \u001b[39m 0.1.13\n",
      "\u001b[32m✔\u001b[39m \u001b[34mdials    \u001b[39m 0.0.9      \u001b[32m✔\u001b[39m \u001b[34mrsample  \u001b[39m 0.0.7 \n",
      "\u001b[32m✔\u001b[39m \u001b[34minfer    \u001b[39m 0.5.4      \u001b[32m✔\u001b[39m \u001b[34mtune     \u001b[39m 0.1.1 \n",
      "\u001b[32m✔\u001b[39m \u001b[34mmodeldata\u001b[39m 0.0.2      \u001b[32m✔\u001b[39m \u001b[34mworkflows\u001b[39m 0.2.0 \n",
      "\u001b[32m✔\u001b[39m \u001b[34mparsnip  \u001b[39m 0.1.3      \u001b[32m✔\u001b[39m \u001b[34myardstick\u001b[39m 0.0.7 \n",
      "\n",
      "Warning message:\n",
      "“package ‘broom’ was built under R version 4.0.2”\n",
      "Warning message:\n",
      "“package ‘dials’ was built under R version 4.0.2”\n",
      "Warning message:\n",
      "“package ‘infer’ was built under R version 4.0.3”\n",
      "Warning message:\n",
      "“package ‘modeldata’ was built under R version 4.0.1”\n",
      "Warning message:\n",
      "“package ‘parsnip’ was built under R version 4.0.2”\n",
      "Warning message:\n",
      "“package ‘recipes’ was built under R version 4.0.1”\n",
      "Warning message:\n",
      "“package ‘tune’ was built under R version 4.0.2”\n",
      "Warning message:\n",
      "“package ‘workflows’ was built under R version 4.0.2”\n",
      "Warning message:\n",
      "“package ‘yardstick’ was built under R version 4.0.2”\n",
      "── \u001b[1mConflicts\u001b[22m ───────────────────────────────────────── tidymodels_conflicts() ──\n",
      "\u001b[31m✖\u001b[39m \u001b[34mscales\u001b[39m::\u001b[32mdiscard()\u001b[39m masks \u001b[34mpurrr\u001b[39m::discard()\n",
      "\u001b[31m✖\u001b[39m \u001b[34mdplyr\u001b[39m::\u001b[32mfilter()\u001b[39m   masks \u001b[34mstats\u001b[39m::filter()\n",
      "\u001b[31m✖\u001b[39m \u001b[34mrecipes\u001b[39m::\u001b[32mfixed()\u001b[39m  masks \u001b[34mstringr\u001b[39m::fixed()\n",
      "\u001b[31m✖\u001b[39m \u001b[34mdplyr\u001b[39m::\u001b[32mlag()\u001b[39m      masks \u001b[34mstats\u001b[39m::lag()\n",
      "\u001b[31m✖\u001b[39m \u001b[34myardstick\u001b[39m::\u001b[32mspec()\u001b[39m masks \u001b[34mreadr\u001b[39m::spec()\n",
      "\u001b[31m✖\u001b[39m \u001b[34mrecipes\u001b[39m::\u001b[32mstep()\u001b[39m   masks \u001b[34mstats\u001b[39m::step()\n",
      "\n"
     ]
    }
   ],
   "source": [
    "library(tidyverse)\n",
    "library(repr)\n",
    "library(tidymodels)\n",
    "options(repr.matrix.max.rows = 6)"
   ]
  },
  {
   "cell_type": "code",
   "execution_count": 3,
   "metadata": {},
   "outputs": [
    {
     "name": "stderr",
     "output_type": "stream",
     "text": [
      "Parsed with column specification:\n",
      "cols(\n",
      "  .default = col_character(),\n",
      "  `Date Mapped (yyyy/mm/dd) *` = \u001b[32mcol_double()\u001b[39m,\n",
      "  `Lat Deg` = \u001b[32mcol_double()\u001b[39m,\n",
      "  `Long Deg` = \u001b[32mcol_double()\u001b[39m,\n",
      "  `UTM zone` = \u001b[32mcol_double()\u001b[39m,\n",
      "  Easting = \u001b[32mcol_double()\u001b[39m,\n",
      "  Northing = \u001b[32mcol_double()\u001b[39m,\n",
      "  `Method Precision (m)*` = \u001b[32mcol_double()\u001b[39m,\n",
      "  `Year *` = \u001b[32mcol_double()\u001b[39m,\n",
      "  `Lab Date` = \u001b[32mcol_double()\u001b[39m,\n",
      "  `GRAIN DEN Sample Value [g/cm3]` = \u001b[32mcol_double()\u001b[39m,\n",
      "  `DRY BULK DEN Sample Value [g/cm3]` = \u001b[32mcol_double()\u001b[39m,\n",
      "  `SAT BULK DEN Sample Value [g/cm3]` = \u001b[32mcol_double()\u001b[39m,\n",
      "  `POR Sample Value [%]` = \u001b[32mcol_double()\u001b[39m,\n",
      "  `MS Sample Value [SI A/m / A/m]` = \u001b[32mcol_double()\u001b[39m,\n",
      "  `NRM Sample Value [A/m]` = \u001b[32mcol_double()\u001b[39m,\n",
      "  `KN50 Sample Value` = \u001b[32mcol_double()\u001b[39m,\n",
      "  `Local Field [uT]` = \u001b[32mcol_double()\u001b[39m,\n",
      "  KN = \u001b[32mcol_double()\u001b[39m,\n",
      "  `RES Sample Value [Ohm.m]` = \u001b[32mcol_double()\u001b[39m,\n",
      "  `CHG Sample Value [ms]` = \u001b[32mcol_double()\u001b[39m\n",
      ")\n",
      "\n",
      "See spec(...) for full column specifications.\n",
      "\n"
     ]
    },
    {
     "name": "stdout",
     "output_type": "stream",
     "text": [
      "Rows: 19,653\n",
      "Columns: 84\n",
      "$ `0Phys Props LabID`                          \u001b[3m\u001b[90m<chr>\u001b[39m\u001b[23m \"BC13148\", \"BC13149\", \"B…\n",
      "$ `Sample Name *`                              \u001b[3m\u001b[90m<chr>\u001b[39m\u001b[23m \"MDM 501\", \"MDM 502\", \"M…\n",
      "$ `Alt Sample Name`                            \u001b[3m\u001b[90m<chr>\u001b[39m\u001b[23m NA, NA, NA, NA, NA, NA, …\n",
      "$ `SMS Curation Number`                        \u001b[3m\u001b[90m<chr>\u001b[39m\u001b[23m NA, NA, NA, NA, NA, NA, …\n",
      "$ `Previous Mira RPDS ID`                      \u001b[3m\u001b[90m<chr>\u001b[39m\u001b[23m \"MDM 501\", \"MDM 502\", \"M…\n",
      "$ `StationName/Well ID/BoreholeName *`         \u001b[3m\u001b[90m<chr>\u001b[39m\u001b[23m \"MDM 501\", \"MDM 502\", \"M…\n",
      "$ `Location area`                              \u001b[3m\u001b[90m<chr>\u001b[39m\u001b[23m \"6 BC Porphyries\", \"6 BC…\n",
      "$ `Location Description`                       \u001b[3m\u001b[90m<chr>\u001b[39m\u001b[23m NA, NA, NA, NA, NA, NA, …\n",
      "$ `Mapped By *`                                \u001b[3m\u001b[90m<chr>\u001b[39m\u001b[23m \"Mitchinson D\", \"Mitchin…\n",
      "$ `Date Mapped (yyyy/mm/dd) *`                 \u001b[3m\u001b[90m<dbl>\u001b[39m\u001b[23m 2009, 2009, 2009, 2009, …\n",
      "$ `Location Type *`                            \u001b[3m\u001b[90m<chr>\u001b[39m\u001b[23m \"Borehole\", \"Borehole\", …\n",
      "$ `Country *`                                  \u001b[3m\u001b[90m<chr>\u001b[39m\u001b[23m \"Canada\", \"Canada\", \"Can…\n",
      "$ `Province/ Territory (* in Canada)`          \u001b[3m\u001b[90m<chr>\u001b[39m\u001b[23m \"British Columbia\", \"Bri…\n",
      "$ `Geological Province`                        \u001b[3m\u001b[90m<chr>\u001b[39m\u001b[23m \"Cordilleran Orogen\", \"C…\n",
      "$ `Datum *`                                    \u001b[3m\u001b[90m<chr>\u001b[39m\u001b[23m \"NAD83\", \"NAD83\", \"NAD83…\n",
      "$ `Lat Deg`                                    \u001b[3m\u001b[90m<dbl>\u001b[39m\u001b[23m 55.12806, 55.12806, 55.1…\n",
      "$ `Long Deg`                                   \u001b[3m\u001b[90m<dbl>\u001b[39m\u001b[23m -124.0370, -124.0367, -1…\n",
      "$ `UTM zone`                                   \u001b[3m\u001b[90m<dbl>\u001b[39m\u001b[23m 10, 10, 10, 10, 10, 10, …\n",
      "$ Easting                                      \u001b[3m\u001b[90m<dbl>\u001b[39m\u001b[23m 433880, 433897, 433905, …\n",
      "$ Northing                                     \u001b[3m\u001b[90m<dbl>\u001b[39m\u001b[23m 6109533, 6109532, 610953…\n",
      "$ `NTS sheet`                                  \u001b[3m\u001b[90m<chr>\u001b[39m\u001b[23m NA, NA, NA, NA, NA, NA, …\n",
      "$ `Measurement Method *`                       \u001b[3m\u001b[90m<chr>\u001b[39m\u001b[23m \"GPS\", \"GPS\", \"GPS\", \"GP…\n",
      "$ `Method Precision (m)*`                      \u001b[3m\u001b[90m<dbl>\u001b[39m\u001b[23m 25, 25, 25, 25, 25, 25, …\n",
      "$ `Collected by *`                             \u001b[3m\u001b[90m<chr>\u001b[39m\u001b[23m \"Mitchinson D\", \"Mitchin…\n",
      "$ `Year *`                                     \u001b[3m\u001b[90m<dbl>\u001b[39m\u001b[23m 2009, 2009, 2009, 2009, …\n",
      "$ `Sample Manager *`                           \u001b[3m\u001b[90m<chr>\u001b[39m\u001b[23m \"Enkin RJ\", \"Enkin RJ\", …\n",
      "$ `Sample Type *`                              \u001b[3m\u001b[90m<chr>\u001b[39m\u001b[23m \"Core\", \"Core\", \"Core\", …\n",
      "$ Purpose                                      \u001b[3m\u001b[90m<chr>\u001b[39m\u001b[23m \"Physical property\", \"Ph…\n",
      "$ `Lab Date`                                   \u001b[3m\u001b[90m<dbl>\u001b[39m\u001b[23m 2010, 2010, 2010, 2010, …\n",
      "$ Reference                                    \u001b[3m\u001b[90m<chr>\u001b[39m\u001b[23m \"Mitchinson 2013, 6 BC P…\n",
      "$ `GSC Petrophys Lab Directory`                \u001b[3m\u001b[90m<chr>\u001b[39m\u001b[23m NA, NA, NA, NA, NA, NA, …\n",
      "$ `GSC Petrophys Lab Measurements Spreadsheet` \u001b[3m\u001b[90m<chr>\u001b[39m\u001b[23m NA, NA, NA, NA, NA, NA, …\n",
      "$ `GSC Petrophys Lab Drawer`                   \u001b[3m\u001b[90m<chr>\u001b[39m\u001b[23m NA, NA, NA, NA, \"35\", \"3…\n",
      "$ `Sample Description *`                       \u001b[3m\u001b[90m<chr>\u001b[39m\u001b[23m \"Basalt (Propylitic)\", \"…\n",
      "$ `Lithology*`                                 \u001b[3m\u001b[90m<chr>\u001b[39m\u001b[23m \"basalt\", \"basalt\", \"bas…\n",
      "$ `Lithostratigraphic Name`                    \u001b[3m\u001b[90m<chr>\u001b[39m\u001b[23m NA, NA, NA, NA, NA, NA, …\n",
      "$ `Lithostrat Description`                     \u001b[3m\u001b[90m<chr>\u001b[39m\u001b[23m NA, NA, NA, NA, NA, NA, …\n",
      "$ `Lower Age`                                  \u001b[3m\u001b[90m<chr>\u001b[39m\u001b[23m NA, NA, NA, NA, NA, NA, …\n",
      "$ `Upper Age`                                  \u001b[3m\u001b[90m<chr>\u001b[39m\u001b[23m NA, NA, NA, NA, NA, NA, …\n",
      "$ `General Comment`                            \u001b[3m\u001b[90m<chr>\u001b[39m\u001b[23m NA, NA, NA, NA, NA, NA, …\n",
      "$ Formation                                    \u001b[3m\u001b[90m<chr>\u001b[39m\u001b[23m NA, NA, NA, NA, NA, NA, …\n",
      "$ `Unit Code`                                  \u001b[3m\u001b[90m<chr>\u001b[39m\u001b[23m NA, NA, NA, NA, NA, NA, …\n",
      "$ `Lithology Comment`                          \u001b[3m\u001b[90m<chr>\u001b[39m\u001b[23m \"Basalt\", \"Basalt\", \"Bas…\n",
      "$ `Volc Plut Sed Met`                          \u001b[3m\u001b[90m<chr>\u001b[39m\u001b[23m \"Volcanic\", \"Volcanic\", …\n",
      "$ `Major Lith`                                 \u001b[3m\u001b[90m<chr>\u001b[39m\u001b[23m \"Basalt\", \"Basalt\", \"Bas…\n",
      "$ `Mafic Felsic`                               \u001b[3m\u001b[90m<chr>\u001b[39m\u001b[23m \"Mafic\", \"Mafic\", \"Mafic…\n",
      "$ `Sed Lith`                                   \u001b[3m\u001b[90m<chr>\u001b[39m\u001b[23m NA, NA, NA, NA, NA, NA, …\n",
      "$ `MIRA Master Litho 1`                        \u001b[3m\u001b[90m<chr>\u001b[39m\u001b[23m \"Igneous\", \"Igneous\", \"I…\n",
      "$ `MIRA Master Litho 2`                        \u001b[3m\u001b[90m<chr>\u001b[39m\u001b[23m \"Volcanic\", \"Volcanic\", …\n",
      "$ `MIRA Master Litho 3`                        \u001b[3m\u001b[90m<chr>\u001b[39m\u001b[23m \"Basalt\", \"Basalt\", \"Bas…\n",
      "$ `GSC Lithology Group`                        \u001b[3m\u001b[90m<chr>\u001b[39m\u001b[23m \"volcanic - mafic\", \"vol…\n",
      "$ `GSC Lithology Type`                         \u001b[3m\u001b[90m<chr>\u001b[39m\u001b[23m \"basalt\", \"basalt\", \"bas…\n",
      "$ `GRAIN DEN Sample Value [g/cm3]`             \u001b[3m\u001b[90m<dbl>\u001b[39m\u001b[23m 2.931, 2.770, 2.754, 2.6…\n",
      "$ `DRY BULK DEN Sample Value [g/cm3]`          \u001b[3m\u001b[90m<dbl>\u001b[39m\u001b[23m 2.919, 2.762, 2.746, 2.5…\n",
      "$ `SAT BULK DEN Sample Value [g/cm3]`          \u001b[3m\u001b[90m<dbl>\u001b[39m\u001b[23m 2.923, 2.765, 2.749, 2.6…\n",
      "$ `DEN Sample Methodology`                     \u001b[3m\u001b[90m<chr>\u001b[39m\u001b[23m \"Minicore Archimedes\", \"…\n",
      "$ `DEN Sample Lab`                             \u001b[3m\u001b[90m<chr>\u001b[39m\u001b[23m \"GSC\", \"GSC\", \"GSC\", \"GS…\n",
      "$ `DEN Sample Quality`                         \u001b[3m\u001b[90m<chr>\u001b[39m\u001b[23m \"A\", \"A\", \"A\", \"A\", \"A\",…\n",
      "$ `POR Sample Value [%]`                       \u001b[3m\u001b[90m<dbl>\u001b[39m\u001b[23m 0.41, 0.28, 0.28, 0.72, …\n",
      "$ `POR Sample Methodology`                     \u001b[3m\u001b[90m<chr>\u001b[39m\u001b[23m \"Minicore Water Imbibed\"…\n",
      "$ `POR Sample Lab`                             \u001b[3m\u001b[90m<chr>\u001b[39m\u001b[23m \"GSC\", \"GSC\", \"GSC\", \"GS…\n",
      "$ `POR Sample Quality`                         \u001b[3m\u001b[90m<chr>\u001b[39m\u001b[23m \"A\", \"A\", \"A\", \"A\", \"A\",…\n",
      "$ `MS Sample Value [SI A/m / A/m]`             \u001b[3m\u001b[90m<dbl>\u001b[39m\u001b[23m 1.18e-03, 7.90e-02, 1.26…\n",
      "$ `MS Sample Methodology`                      \u001b[3m\u001b[90m<chr>\u001b[39m\u001b[23m \"Minicore Saphire SI2B\",…\n",
      "$ `MS Sample Lab`                              \u001b[3m\u001b[90m<chr>\u001b[39m\u001b[23m \"GSC\", \"GSC\", \"GSC\", \"GS…\n",
      "$ `MS Sample Quality`                          \u001b[3m\u001b[90m<chr>\u001b[39m\u001b[23m \"A\", \"A\", \"A\", \"A\", \"A\",…\n",
      "$ `NRM Sample Value [A/m]`                     \u001b[3m\u001b[90m<dbl>\u001b[39m\u001b[23m 0.029000, 4.810000, 0.35…\n",
      "$ `NRM Sample Methodology`                     \u001b[3m\u001b[90m<chr>\u001b[39m\u001b[23m \"AGICO JR5-A\", \"AGICO JR…\n",
      "$ `NRM Sample Lab`                             \u001b[3m\u001b[90m<chr>\u001b[39m\u001b[23m \"GSC\", \"GSC\", \"GSC\", \"GS…\n",
      "$ `NRM Sample Quality`                         \u001b[3m\u001b[90m<chr>\u001b[39m\u001b[23m \"A\", \"A\", \"A\", \"A\", \"A\",…\n",
      "$ `KN50 Sample Value`                          \u001b[3m\u001b[90m<dbl>\u001b[39m\u001b[23m 0.614, 1.522, 0.698, 0.2…\n",
      "$ `Local Field [uT]`                           \u001b[3m\u001b[90m<dbl>\u001b[39m\u001b[23m 57, 57, 57, 57, 57, 57, …\n",
      "$ KN                                           \u001b[3m\u001b[90m<dbl>\u001b[39m\u001b[23m 0.539, 1.335, 0.613, 0.2…\n",
      "$ `KN Sample Methodology`                      \u001b[3m\u001b[90m<chr>\u001b[39m\u001b[23m \"JR5-A/SI2-B\", \"JR5-A/SI…\n",
      "$ `KN Sample Lab`                              \u001b[3m\u001b[90m<chr>\u001b[39m\u001b[23m \"GSC\", \"GSC\", \"GSC\", \"GS…\n",
      "$ `KN Sample Quality`                          \u001b[3m\u001b[90m<chr>\u001b[39m\u001b[23m \"A\", \"A\", \"A\", \"A\", \"A\",…\n",
      "$ `RES Sample Value [Ohm.m]`                   \u001b[3m\u001b[90m<dbl>\u001b[39m\u001b[23m 7960, 135000, 51800, 525…\n",
      "$ `RES Sample Methodology`                     \u001b[3m\u001b[90m<chr>\u001b[39m\u001b[23m \"Solartron 1260 Impedanc…\n",
      "$ `RES Sample Lab`                             \u001b[3m\u001b[90m<chr>\u001b[39m\u001b[23m \"GSC\", \"GSC\", \"GSC\", \"GS…\n",
      "$ `RES Sample Quality`                         \u001b[3m\u001b[90m<chr>\u001b[39m\u001b[23m \"A\", \"A\", \"A\", \"A\", \"A\",…\n",
      "$ `CHG Sample Value [ms]`                      \u001b[3m\u001b[90m<dbl>\u001b[39m\u001b[23m 46.4, 19.5, 1.6, 2.5, 13…\n",
      "$ `CHG Sample Methodology`                     \u001b[3m\u001b[90m<chr>\u001b[39m\u001b[23m \"Solartron 1260 Newmont …\n",
      "$ `CHG Sample Lab`                             \u001b[3m\u001b[90m<chr>\u001b[39m\u001b[23m \"GSC\", \"GSC\", \"GSC\", \"GS…\n",
      "$ `CHG Sample Quality`                         \u001b[3m\u001b[90m<chr>\u001b[39m\u001b[23m \"A\", \"A\", \"A\", \"A\", \"A\",…\n"
     ]
    }
   ],
   "source": [
    "url <- \"https://raw.githubusercontent.com/yxing6/DSCI_100_Project_Group4/main/data/of_8460_database.csv\"\n",
    "download.file(url, destfile = \"rock_physical_properties.csv\")\n",
    "rock_data_all <- read_csv(\"rock_physical_properties.csv\")\n",
    "glimpse(rock_data_all)"
   ]
  },
  {
   "cell_type": "code",
   "execution_count": 4,
   "metadata": {},
   "outputs": [
    {
     "data": {
      "text/html": [
       "<table>\n",
       "<caption>A tibble: 19653 × 8</caption>\n",
       "<thead>\n",
       "\t<tr><th scope=col>sample_type</th><th scope=col>lithology</th><th scope=col>density</th><th scope=col>porosity</th><th scope=col>MS</th><th scope=col>NRM</th><th scope=col>RES</th><th scope=col>chargeability</th></tr>\n",
       "\t<tr><th scope=col>&lt;fct&gt;</th><th scope=col>&lt;fct&gt;</th><th scope=col>&lt;dbl&gt;</th><th scope=col>&lt;dbl&gt;</th><th scope=col>&lt;dbl&gt;</th><th scope=col>&lt;dbl&gt;</th><th scope=col>&lt;dbl&gt;</th><th scope=col>&lt;dbl&gt;</th></tr>\n",
       "</thead>\n",
       "<tbody>\n",
       "\t<tr><td>Borehole</td><td>Igneous</td><td>2.931</td><td>0.41</td><td>0.00118</td><td>0.029</td><td>  7960</td><td>46.4</td></tr>\n",
       "\t<tr><td>Borehole</td><td>Igneous</td><td>2.770</td><td>0.28</td><td>0.07900</td><td>4.810</td><td>135000</td><td>19.5</td></tr>\n",
       "\t<tr><td>Borehole</td><td>Igneous</td><td>2.754</td><td>0.28</td><td>0.01260</td><td>0.352</td><td> 51800</td><td> 1.6</td></tr>\n",
       "\t<tr><td>⋮</td><td>⋮</td><td>⋮</td><td>⋮</td><td>⋮</td><td>⋮</td><td>⋮</td><td>⋮</td></tr>\n",
       "\t<tr><td>Outcrop</td><td>Igneous</td><td>2.679</td><td>1.91</td><td>0.01240</td><td>0.0244</td><td>NA</td><td>NA</td></tr>\n",
       "\t<tr><td>Outcrop</td><td>Igneous</td><td>2.665</td><td>1.56</td><td>0.01500</td><td>0.0678</td><td>NA</td><td>NA</td></tr>\n",
       "\t<tr><td>Subcrop</td><td>Igneous</td><td>2.261</td><td>9.03</td><td>0.00039</td><td>    NA</td><td>NA</td><td>NA</td></tr>\n",
       "</tbody>\n",
       "</table>\n"
      ],
      "text/latex": [
       "A tibble: 19653 × 8\n",
       "\\begin{tabular}{llllllll}\n",
       " sample\\_type & lithology & density & porosity & MS & NRM & RES & chargeability\\\\\n",
       " <fct> & <fct> & <dbl> & <dbl> & <dbl> & <dbl> & <dbl> & <dbl>\\\\\n",
       "\\hline\n",
       "\t Borehole & Igneous & 2.931 & 0.41 & 0.00118 & 0.029 &   7960 & 46.4\\\\\n",
       "\t Borehole & Igneous & 2.770 & 0.28 & 0.07900 & 4.810 & 135000 & 19.5\\\\\n",
       "\t Borehole & Igneous & 2.754 & 0.28 & 0.01260 & 0.352 &  51800 &  1.6\\\\\n",
       "\t ⋮ & ⋮ & ⋮ & ⋮ & ⋮ & ⋮ & ⋮ & ⋮\\\\\n",
       "\t Outcrop & Igneous & 2.679 & 1.91 & 0.01240 & 0.0244 & NA & NA\\\\\n",
       "\t Outcrop & Igneous & 2.665 & 1.56 & 0.01500 & 0.0678 & NA & NA\\\\\n",
       "\t Subcrop & Igneous & 2.261 & 9.03 & 0.00039 &     NA & NA & NA\\\\\n",
       "\\end{tabular}\n"
      ],
      "text/markdown": [
       "\n",
       "A tibble: 19653 × 8\n",
       "\n",
       "| sample_type &lt;fct&gt; | lithology &lt;fct&gt; | density &lt;dbl&gt; | porosity &lt;dbl&gt; | MS &lt;dbl&gt; | NRM &lt;dbl&gt; | RES &lt;dbl&gt; | chargeability &lt;dbl&gt; |\n",
       "|---|---|---|---|---|---|---|---|\n",
       "| Borehole | Igneous | 2.931 | 0.41 | 0.00118 | 0.029 |   7960 | 46.4 |\n",
       "| Borehole | Igneous | 2.770 | 0.28 | 0.07900 | 4.810 | 135000 | 19.5 |\n",
       "| Borehole | Igneous | 2.754 | 0.28 | 0.01260 | 0.352 |  51800 |  1.6 |\n",
       "| ⋮ | ⋮ | ⋮ | ⋮ | ⋮ | ⋮ | ⋮ | ⋮ |\n",
       "| Outcrop | Igneous | 2.679 | 1.91 | 0.01240 | 0.0244 | NA | NA |\n",
       "| Outcrop | Igneous | 2.665 | 1.56 | 0.01500 | 0.0678 | NA | NA |\n",
       "| Subcrop | Igneous | 2.261 | 9.03 | 0.00039 |     NA | NA | NA |\n",
       "\n"
      ],
      "text/plain": [
       "      sample_type lithology density porosity MS      NRM    RES   \n",
       "1     Borehole    Igneous   2.931   0.41     0.00118 0.029    7960\n",
       "2     Borehole    Igneous   2.770   0.28     0.07900 4.810  135000\n",
       "3     Borehole    Igneous   2.754   0.28     0.01260 0.352   51800\n",
       "⋮     ⋮           ⋮         ⋮       ⋮        ⋮       ⋮      ⋮     \n",
       "19651 Outcrop     Igneous   2.679   1.91     0.01240 0.0244 NA    \n",
       "19652 Outcrop     Igneous   2.665   1.56     0.01500 0.0678 NA    \n",
       "19653 Subcrop     Igneous   2.261   9.03     0.00039     NA NA    \n",
       "      chargeability\n",
       "1     46.4         \n",
       "2     19.5         \n",
       "3      1.6         \n",
       "⋮     ⋮            \n",
       "19651 NA           \n",
       "19652 NA           \n",
       "19653 NA           "
      ]
     },
     "metadata": {},
     "output_type": "display_data"
    },
    {
     "data": {
      "text/html": [
       "<table>\n",
       "<caption>A tibble: 1417 × 8</caption>\n",
       "<thead>\n",
       "\t<tr><th scope=col>sample_type</th><th scope=col>lithology</th><th scope=col>density</th><th scope=col>porosity</th><th scope=col>MS</th><th scope=col>NRM</th><th scope=col>RES</th><th scope=col>chargeability</th></tr>\n",
       "\t<tr><th scope=col>&lt;fct&gt;</th><th scope=col>&lt;fct&gt;</th><th scope=col>&lt;dbl&gt;</th><th scope=col>&lt;dbl&gt;</th><th scope=col>&lt;dbl&gt;</th><th scope=col>&lt;dbl&gt;</th><th scope=col>&lt;dbl&gt;</th><th scope=col>&lt;dbl&gt;</th></tr>\n",
       "</thead>\n",
       "<tbody>\n",
       "\t<tr><td>Borehole</td><td>Igneous</td><td>2.931</td><td>0.41</td><td>0.00118</td><td>0.029</td><td>  7960</td><td>46.4</td></tr>\n",
       "\t<tr><td>Borehole</td><td>Igneous</td><td>2.770</td><td>0.28</td><td>0.07900</td><td>4.810</td><td>135000</td><td>19.5</td></tr>\n",
       "\t<tr><td>Borehole</td><td>Igneous</td><td>2.754</td><td>0.28</td><td>0.01260</td><td>0.352</td><td> 51800</td><td> 1.6</td></tr>\n",
       "\t<tr><td>⋮</td><td>⋮</td><td>⋮</td><td>⋮</td><td>⋮</td><td>⋮</td><td>⋮</td><td>⋮</td></tr>\n",
       "\t<tr><td>Borehole</td><td>Metamorphic</td><td>2.665</td><td>0.08</td><td>    NA</td><td>  NA</td><td> 91800</td><td> 3.868</td></tr>\n",
       "\t<tr><td>Borehole</td><td>Metamorphic</td><td>2.641</td><td>0.09</td><td>    NA</td><td>  NA</td><td> 67800</td><td> 1.388</td></tr>\n",
       "\t<tr><td>Borehole</td><td>Metamorphic</td><td>2.811</td><td>0.36</td><td>0.0739</td><td>5.72</td><td>437000</td><td>12.850</td></tr>\n",
       "</tbody>\n",
       "</table>\n"
      ],
      "text/latex": [
       "A tibble: 1417 × 8\n",
       "\\begin{tabular}{llllllll}\n",
       " sample\\_type & lithology & density & porosity & MS & NRM & RES & chargeability\\\\\n",
       " <fct> & <fct> & <dbl> & <dbl> & <dbl> & <dbl> & <dbl> & <dbl>\\\\\n",
       "\\hline\n",
       "\t Borehole & Igneous & 2.931 & 0.41 & 0.00118 & 0.029 &   7960 & 46.4\\\\\n",
       "\t Borehole & Igneous & 2.770 & 0.28 & 0.07900 & 4.810 & 135000 & 19.5\\\\\n",
       "\t Borehole & Igneous & 2.754 & 0.28 & 0.01260 & 0.352 &  51800 &  1.6\\\\\n",
       "\t ⋮ & ⋮ & ⋮ & ⋮ & ⋮ & ⋮ & ⋮ & ⋮\\\\\n",
       "\t Borehole & Metamorphic & 2.665 & 0.08 &     NA &   NA &  91800 &  3.868\\\\\n",
       "\t Borehole & Metamorphic & 2.641 & 0.09 &     NA &   NA &  67800 &  1.388\\\\\n",
       "\t Borehole & Metamorphic & 2.811 & 0.36 & 0.0739 & 5.72 & 437000 & 12.850\\\\\n",
       "\\end{tabular}\n"
      ],
      "text/markdown": [
       "\n",
       "A tibble: 1417 × 8\n",
       "\n",
       "| sample_type &lt;fct&gt; | lithology &lt;fct&gt; | density &lt;dbl&gt; | porosity &lt;dbl&gt; | MS &lt;dbl&gt; | NRM &lt;dbl&gt; | RES &lt;dbl&gt; | chargeability &lt;dbl&gt; |\n",
       "|---|---|---|---|---|---|---|---|\n",
       "| Borehole | Igneous | 2.931 | 0.41 | 0.00118 | 0.029 |   7960 | 46.4 |\n",
       "| Borehole | Igneous | 2.770 | 0.28 | 0.07900 | 4.810 | 135000 | 19.5 |\n",
       "| Borehole | Igneous | 2.754 | 0.28 | 0.01260 | 0.352 |  51800 |  1.6 |\n",
       "| ⋮ | ⋮ | ⋮ | ⋮ | ⋮ | ⋮ | ⋮ | ⋮ |\n",
       "| Borehole | Metamorphic | 2.665 | 0.08 |     NA |   NA |  91800 |  3.868 |\n",
       "| Borehole | Metamorphic | 2.641 | 0.09 |     NA |   NA |  67800 |  1.388 |\n",
       "| Borehole | Metamorphic | 2.811 | 0.36 | 0.0739 | 5.72 | 437000 | 12.850 |\n",
       "\n"
      ],
      "text/plain": [
       "     sample_type lithology   density porosity MS      NRM   RES   \n",
       "1    Borehole    Igneous     2.931   0.41     0.00118 0.029   7960\n",
       "2    Borehole    Igneous     2.770   0.28     0.07900 4.810 135000\n",
       "3    Borehole    Igneous     2.754   0.28     0.01260 0.352  51800\n",
       "⋮    ⋮           ⋮           ⋮       ⋮        ⋮       ⋮     ⋮     \n",
       "1415 Borehole    Metamorphic 2.665   0.08         NA    NA   91800\n",
       "1416 Borehole    Metamorphic 2.641   0.09         NA    NA   67800\n",
       "1417 Borehole    Metamorphic 2.811   0.36     0.0739  5.72  437000\n",
       "     chargeability\n",
       "1    46.4         \n",
       "2    19.5         \n",
       "3     1.6         \n",
       "⋮    ⋮            \n",
       "1415  3.868       \n",
       "1416  1.388       \n",
       "1417 12.850       "
      ]
     },
     "metadata": {},
     "output_type": "display_data"
    }
   ],
   "source": [
    "rock_data_selected <- select(rock_data_all, \n",
    "    \"Location Type *\", \"MIRA Master Litho 1\", \"GRAIN DEN Sample Value [g/cm3]\",\n",
    "    \"POR Sample Value [%]\",\"MS Sample Value [SI A/m / A/m]\",\n",
    "    \"NRM Sample Value [A/m]\",\"RES Sample Value [Ohm.m]\",\"CHG Sample Value [ms]\") %>%\n",
    "    rename(\"sample_type\" = \"Location Type *\",\n",
    "          \"lithology\" = \"MIRA Master Litho 1\",\n",
    "           \"density\" = \"GRAIN DEN Sample Value [g/cm3]\",\n",
    "           \"porosity\" = \"POR Sample Value [%]\",\n",
    "           \"MS\" = \"MS Sample Value [SI A/m / A/m]\",\n",
    "           \"NRM\" = \"NRM Sample Value [A/m]\",\n",
    "           \"RES\" = \"RES Sample Value [Ohm.m]\",\n",
    "           \"chargeability\" = \"CHG Sample Value [ms]\") %>%\n",
    "    mutate(sample_type = as_factor(sample_type),\n",
    "          lithology = as_factor(lithology))\n",
    "rock_data_selected\n",
    "\n",
    "borehole_data <- filter(rock_data_selected, sample_type == \"Borehole\")\n",
    "borehole_data"
   ]
  },
  {
   "cell_type": "code",
   "execution_count": 5,
   "metadata": {},
   "outputs": [],
   "source": [
    "#density[g/cm3]\n",
    "#porosity[%]\n",
    "#MS[m3/kg]\n",
    "#NRM[A/m]\n",
    "#RES[Ohm.m]\n",
    "#chargeability[ms]\n"
   ]
  },
  {
   "cell_type": "code",
   "execution_count": 6,
   "metadata": {},
   "outputs": [],
   "source": [
    "data_split <- initial_split(borehole_data, prop = 0.75, strata = lithology)\n",
    "data_train <- training(data_split)\n",
    "data_test <- testing(data_split)"
   ]
  },
  {
   "cell_type": "code",
   "execution_count": 8,
   "metadata": {},
   "outputs": [
    {
     "name": "stdout",
     "output_type": "stream",
     "text": [
      "Rows: 1,064\n",
      "Columns: 8\n",
      "$ sample_type   \u001b[3m\u001b[90m<fct>\u001b[39m\u001b[23m Borehole, Borehole, Borehole, Borehole, Borehole, Boreh…\n",
      "$ lithology     \u001b[3m\u001b[90m<fct>\u001b[39m\u001b[23m Igneous, Igneous, Igneous, Igneous, Igneous, Igneous, I…\n",
      "$ density       \u001b[3m\u001b[90m<dbl>\u001b[39m\u001b[23m 2.931, 2.770, 2.615, 2.804, 2.852, 2.712, 3.103, 2.864,…\n",
      "$ porosity      \u001b[3m\u001b[90m<dbl>\u001b[39m\u001b[23m 0.41, 0.28, 0.72, 0.34, 0.65, 0.33, 0.91, 0.41, 0.62, 0…\n",
      "$ MS            \u001b[3m\u001b[90m<dbl>\u001b[39m\u001b[23m 1.18e-03, 7.90e-02, 6.56e-05, 1.78e-01, 2.76e-01, 3.79e…\n",
      "$ NRM           \u001b[3m\u001b[90m<dbl>\u001b[39m\u001b[23m 0.029000, 4.810000, 0.000648, 2.980000, 3.820000, 0.593…\n",
      "$ RES           \u001b[3m\u001b[90m<dbl>\u001b[39m\u001b[23m 7960, 135000, 5250, 17200, 6400, 56200, 47, 13500, 3180…\n",
      "$ chargeability \u001b[3m\u001b[90m<dbl>\u001b[39m\u001b[23m 46.400, 19.500, 2.500, 12.600, 9.500, 4.700, 18.400, 9.…\n",
      "Rows: 353\n",
      "Columns: 8\n",
      "$ sample_type   \u001b[3m\u001b[90m<fct>\u001b[39m\u001b[23m Borehole, Borehole, Borehole, Borehole, Borehole, Boreh…\n",
      "$ lithology     \u001b[3m\u001b[90m<fct>\u001b[39m\u001b[23m Igneous, Igneous, Igneous, Igneous, Igneous, Igneous, I…\n",
      "$ density       \u001b[3m\u001b[90m<dbl>\u001b[39m\u001b[23m 2.754, 2.716, 2.744, 2.932, 2.938, 2.868, 2.636, 2.696,…\n",
      "$ porosity      \u001b[3m\u001b[90m<dbl>\u001b[39m\u001b[23m 0.28, 0.28, 0.33, 0.59, 0.34, 0.74, 0.86, 0.55, 0.45, 2…\n",
      "$ MS            \u001b[3m\u001b[90m<dbl>\u001b[39m\u001b[23m 0.012600, 0.012700, 0.024700, 0.000524, 0.033200, 0.000…\n",
      "$ NRM           \u001b[3m\u001b[90m<dbl>\u001b[39m\u001b[23m 0.35200, 0.31400, 0.47100, 0.00997, 0.38400, 0.02160, 0…\n",
      "$ RES           \u001b[3m\u001b[90m<dbl>\u001b[39m\u001b[23m 51800, 67200, 48800, 1110, 26000, 1840, 4660, 3480, 720…\n",
      "$ chargeability \u001b[3m\u001b[90m<dbl>\u001b[39m\u001b[23m 1.6, 13.5, 15.9, 26.9, 6.5, 5.3, 20.3, 24.5, 37.1, 0.3,…\n"
     ]
    }
   ],
   "source": [
    "glimpse(data_train)\n",
    "glimpse(data_test)"
   ]
  },
  {
   "cell_type": "code",
   "execution_count": 32,
   "metadata": {},
   "outputs": [
    {
     "name": "stderr",
     "output_type": "stream",
     "text": [
      "`summarise()` ungrouping output (override with `.groups` argument)\n",
      "\n"
     ]
    },
    {
     "data": {
      "text/html": [
       "<table>\n",
       "<caption>A tibble: 4 × 8</caption>\n",
       "<thead>\n",
       "\t<tr><th scope=col>lithology</th><th scope=col>n</th><th scope=col>density</th><th scope=col>porosity</th><th scope=col>MS</th><th scope=col>NRM</th><th scope=col>RES</th><th scope=col>chargeability</th></tr>\n",
       "\t<tr><th scope=col>&lt;fct&gt;</th><th scope=col>&lt;int&gt;</th><th scope=col>&lt;dbl&gt;</th><th scope=col>&lt;dbl&gt;</th><th scope=col>&lt;dbl&gt;</th><th scope=col>&lt;dbl&gt;</th><th scope=col>&lt;dbl&gt;</th><th scope=col>&lt;dbl&gt;</th></tr>\n",
       "</thead>\n",
       "<tbody>\n",
       "\t<tr><td>Igneous    </td><td>254</td><td>2.807596</td><td>2.3849402</td><td>0.0206071624</td><td>1.40110729</td><td>843159.793</td><td>11.436859</td></tr>\n",
       "\t<tr><td>Metamorphic</td><td>638</td><td>2.770426</td><td>0.5061164</td><td>0.0017773077</td><td>0.47438252</td><td>  7662.322</td><td> 5.973305</td></tr>\n",
       "\t<tr><td>Sedimentary</td><td>159</td><td>2.660220</td><td>6.6002516</td><td>0.0002486715</td><td>0.02507703</td><td>  3754.907</td><td> 4.322911</td></tr>\n",
       "\t<tr><td>Other      </td><td> 13</td><td>3.452308</td><td>0.3107692</td><td>0.0017542154</td><td>4.53268790</td><td> 12520.483</td><td>32.553538</td></tr>\n",
       "</tbody>\n",
       "</table>\n"
      ],
      "text/latex": [
       "A tibble: 4 × 8\n",
       "\\begin{tabular}{llllllll}\n",
       " lithology & n & density & porosity & MS & NRM & RES & chargeability\\\\\n",
       " <fct> & <int> & <dbl> & <dbl> & <dbl> & <dbl> & <dbl> & <dbl>\\\\\n",
       "\\hline\n",
       "\t Igneous     & 254 & 2.807596 & 2.3849402 & 0.0206071624 & 1.40110729 & 843159.793 & 11.436859\\\\\n",
       "\t Metamorphic & 638 & 2.770426 & 0.5061164 & 0.0017773077 & 0.47438252 &   7662.322 &  5.973305\\\\\n",
       "\t Sedimentary & 159 & 2.660220 & 6.6002516 & 0.0002486715 & 0.02507703 &   3754.907 &  4.322911\\\\\n",
       "\t Other       &  13 & 3.452308 & 0.3107692 & 0.0017542154 & 4.53268790 &  12520.483 & 32.553538\\\\\n",
       "\\end{tabular}\n"
      ],
      "text/markdown": [
       "\n",
       "A tibble: 4 × 8\n",
       "\n",
       "| lithology &lt;fct&gt; | n &lt;int&gt; | density &lt;dbl&gt; | porosity &lt;dbl&gt; | MS &lt;dbl&gt; | NRM &lt;dbl&gt; | RES &lt;dbl&gt; | chargeability &lt;dbl&gt; |\n",
       "|---|---|---|---|---|---|---|---|\n",
       "| Igneous     | 254 | 2.807596 | 2.3849402 | 0.0206071624 | 1.40110729 | 843159.793 | 11.436859 |\n",
       "| Metamorphic | 638 | 2.770426 | 0.5061164 | 0.0017773077 | 0.47438252 |   7662.322 |  5.973305 |\n",
       "| Sedimentary | 159 | 2.660220 | 6.6002516 | 0.0002486715 | 0.02507703 |   3754.907 |  4.322911 |\n",
       "| Other       |  13 | 3.452308 | 0.3107692 | 0.0017542154 | 4.53268790 |  12520.483 | 32.553538 |\n",
       "\n"
      ],
      "text/plain": [
       "  lithology   n   density  porosity  MS           NRM        RES       \n",
       "1 Igneous     254 2.807596 2.3849402 0.0206071624 1.40110729 843159.793\n",
       "2 Metamorphic 638 2.770426 0.5061164 0.0017773077 0.47438252   7662.322\n",
       "3 Sedimentary 159 2.660220 6.6002516 0.0002486715 0.02507703   3754.907\n",
       "4 Other        13 3.452308 0.3107692 0.0017542154 4.53268790  12520.483\n",
       "  chargeability\n",
       "1 11.436859    \n",
       "2  5.973305    \n",
       "3  4.322911    \n",
       "4 32.553538    "
      ]
     },
     "metadata": {},
     "output_type": "display_data"
    }
   ],
   "source": [
    "training_data_prop <- data_train %>%\n",
    "    group_by(lithology) %>%\n",
    "    summarize(n = n(), \n",
    "              across(density:chargeability, mean, na.rm = TRUE))\n",
    "\n",
    "training_data_prop"
   ]
  },
  {
   "cell_type": "code",
   "execution_count": 36,
   "metadata": {},
   "outputs": [
    {
     "ename": "ERROR",
     "evalue": "Error in parse(text = x, srcfile = src): <text>:5:1: unexpected symbol\n4: \n5: jjj\n   ^\n",
     "output_type": "error",
     "traceback": [
      "Error in parse(text = x, srcfile = src): <text>:5:1: unexpected symbol\n4: \n5: jjj\n   ^\nTraceback:\n"
     ]
    }
   ],
   "source": [
    "jjj <- data_train %>%\n",
    "    group_by(lithology) %>%\n",
    "    summarize(across(density:chargeability, count, na.rm = FALSE)\n",
    "\n",
    "jjj"
   ]
  },
  {
   "cell_type": "code",
   "execution_count": null,
   "metadata": {},
   "outputs": [],
   "source": []
  }
 ],
 "metadata": {
  "kernelspec": {
   "display_name": "R",
   "language": "R",
   "name": "ir"
  },
  "language_info": {
   "codemirror_mode": "r",
   "file_extension": ".r",
   "mimetype": "text/x-r-source",
   "name": "R",
   "pygments_lexer": "r",
   "version": "4.0.0"
  }
 },
 "nbformat": 4,
 "nbformat_minor": 5
}
