{
 "cells": [
  {
   "cell_type": "code",
   "execution_count": 1,
   "metadata": {},
   "outputs": [
    {
     "name": "stderr",
     "output_type": "stream",
     "text": [
      "── \u001b[1mAttaching packages\u001b[22m ─────────────────────────────────────── tidyverse 1.3.0 ──\n",
      "\n",
      "\u001b[32m✔\u001b[39m \u001b[34mggplot2\u001b[39m 3.3.2     \u001b[32m✔\u001b[39m \u001b[34mpurrr  \u001b[39m 0.3.4\n",
      "\u001b[32m✔\u001b[39m \u001b[34mtibble \u001b[39m 3.0.3     \u001b[32m✔\u001b[39m \u001b[34mdplyr  \u001b[39m 1.0.2\n",
      "\u001b[32m✔\u001b[39m \u001b[34mtidyr  \u001b[39m 1.1.2     \u001b[32m✔\u001b[39m \u001b[34mstringr\u001b[39m 1.4.0\n",
      "\u001b[32m✔\u001b[39m \u001b[34mreadr  \u001b[39m 1.3.1     \u001b[32m✔\u001b[39m \u001b[34mforcats\u001b[39m 0.5.0\n",
      "\n",
      "Warning message:\n",
      "“package ‘ggplot2’ was built under R version 4.0.1”\n",
      "Warning message:\n",
      "“package ‘tibble’ was built under R version 4.0.2”\n",
      "Warning message:\n",
      "“package ‘tidyr’ was built under R version 4.0.2”\n",
      "Warning message:\n",
      "“package ‘dplyr’ was built under R version 4.0.2”\n",
      "── \u001b[1mConflicts\u001b[22m ────────────────────────────────────────── tidyverse_conflicts() ──\n",
      "\u001b[31m✖\u001b[39m \u001b[34mdplyr\u001b[39m::\u001b[32mfilter()\u001b[39m masks \u001b[34mstats\u001b[39m::filter()\n",
      "\u001b[31m✖\u001b[39m \u001b[34mdplyr\u001b[39m::\u001b[32mlag()\u001b[39m    masks \u001b[34mstats\u001b[39m::lag()\n",
      "\n",
      "Warning message:\n",
      "“package ‘tidymodels’ was built under R version 4.0.2”\n",
      "── \u001b[1mAttaching packages\u001b[22m ────────────────────────────────────── tidymodels 0.1.1 ──\n",
      "\n",
      "\u001b[32m✔\u001b[39m \u001b[34mbroom    \u001b[39m 0.7.0      \u001b[32m✔\u001b[39m \u001b[34mrecipes  \u001b[39m 0.1.13\n",
      "\u001b[32m✔\u001b[39m \u001b[34mdials    \u001b[39m 0.0.9      \u001b[32m✔\u001b[39m \u001b[34mrsample  \u001b[39m 0.0.7 \n",
      "\u001b[32m✔\u001b[39m \u001b[34minfer    \u001b[39m 0.5.4      \u001b[32m✔\u001b[39m \u001b[34mtune     \u001b[39m 0.1.1 \n",
      "\u001b[32m✔\u001b[39m \u001b[34mmodeldata\u001b[39m 0.0.2      \u001b[32m✔\u001b[39m \u001b[34mworkflows\u001b[39m 0.2.0 \n",
      "\u001b[32m✔\u001b[39m \u001b[34mparsnip  \u001b[39m 0.1.3      \u001b[32m✔\u001b[39m \u001b[34myardstick\u001b[39m 0.0.7 \n",
      "\n",
      "Warning message:\n",
      "“package ‘broom’ was built under R version 4.0.2”\n",
      "Warning message:\n",
      "“package ‘dials’ was built under R version 4.0.2”\n",
      "Warning message:\n",
      "“package ‘infer’ was built under R version 4.0.3”\n",
      "Warning message:\n",
      "“package ‘modeldata’ was built under R version 4.0.1”\n",
      "Warning message:\n",
      "“package ‘parsnip’ was built under R version 4.0.2”\n",
      "Warning message:\n",
      "“package ‘recipes’ was built under R version 4.0.1”\n",
      "Warning message:\n",
      "“package ‘tune’ was built under R version 4.0.2”\n",
      "Warning message:\n",
      "“package ‘workflows’ was built under R version 4.0.2”\n",
      "Warning message:\n",
      "“package ‘yardstick’ was built under R version 4.0.2”\n",
      "── \u001b[1mConflicts\u001b[22m ───────────────────────────────────────── tidymodels_conflicts() ──\n",
      "\u001b[31m✖\u001b[39m \u001b[34mscales\u001b[39m::\u001b[32mdiscard()\u001b[39m masks \u001b[34mpurrr\u001b[39m::discard()\n",
      "\u001b[31m✖\u001b[39m \u001b[34mdplyr\u001b[39m::\u001b[32mfilter()\u001b[39m   masks \u001b[34mstats\u001b[39m::filter()\n",
      "\u001b[31m✖\u001b[39m \u001b[34mrecipes\u001b[39m::\u001b[32mfixed()\u001b[39m  masks \u001b[34mstringr\u001b[39m::fixed()\n",
      "\u001b[31m✖\u001b[39m \u001b[34mdplyr\u001b[39m::\u001b[32mlag()\u001b[39m      masks \u001b[34mstats\u001b[39m::lag()\n",
      "\u001b[31m✖\u001b[39m \u001b[34myardstick\u001b[39m::\u001b[32mspec()\u001b[39m masks \u001b[34mreadr\u001b[39m::spec()\n",
      "\u001b[31m✖\u001b[39m \u001b[34mrecipes\u001b[39m::\u001b[32mstep()\u001b[39m   masks \u001b[34mstats\u001b[39m::step()\n",
      "\n",
      "Registered S3 method overwritten by 'GGally':\n",
      "  method from   \n",
      "  +.gg   ggplot2\n",
      "\n"
     ]
    }
   ],
   "source": [
    "library(tidyverse)\n",
    "library(repr)\n",
    "library(tidymodels)\n",
    "library(GGally)\n",
    "options(repr.matrix.max.rows = 6)\n",
    "set.seed(100)"
   ]
  },
  {
   "cell_type": "markdown",
   "metadata": {},
   "source": [
    "# Read Me:\n",
    "\n",
    "\n",
    "## comment from Trevor:\n",
    "### 1. tansfrom the predictors showing huge range into log scale before any other recipe steps. Check if there is any built in log special step in recipe? \n",
    "\n",
    "  \n",
    "### 2. Do you need to upsample? it is not super unbalanced \n",
    "### - use cross-validation to compare K = 1, 2, 3, ... \n",
    "### - then compare accuracy on the data without upsample and with upsample, see if upsample really improve the result. "
   ]
  },
  {
   "cell_type": "code",
   "execution_count": null,
   "metadata": {},
   "outputs": [],
   "source": []
  },
  {
   "cell_type": "code",
   "execution_count": null,
   "metadata": {},
   "outputs": [],
   "source": []
  },
  {
   "cell_type": "markdown",
   "metadata": {},
   "source": [
    "### Rock Physical Properties and Rock Type \n",
    "**DSCI 100 Project Final Report\n",
    "**Group 4: Naijide Anwaer, Maggie Ruan, Yun Xing  \n",
    "Date: December 05, 2021**\n"
   ]
  },
  {
   "cell_type": "markdown",
   "metadata": {},
   "source": [
    "### Introduction \n",
    "The purpose of this project proposal is to provide an overview of the rock petrophysical data process project. This proposal introduces the rock properties database, illustrates the exploratory data analysis, explains the methodology, and discusses the expected outcome of this project.  \n",
    " \n",
    "The Canadian Rock Physical Property Database (CRPPD) includes rock petrophysical measurements on over 20,000 observations collected during the last 40 years. The rock measurements available in this database are density, porosity, resistivity etc.. Geographically, observations are categorized into different sample types including outcrop, subcrop, hand sample, and borehole sample. Geologically, observations are categorized into different rock types including igneous, sedimentary, and metamorphic, the three fundamental rock types.  \n",
    "\n",
    "The group intends to study the relationship between the rock petrophysical measurements and the three fundamental rock types, and to answer a classification problem: given the physical properties data, whether the rock will be igneous, sedimentary, or metamorphic.   \n",
    "\n",
    "The classifier model will be useful in the situation where the physical property data are available while the rock type is unclassified. An example of this will be in diamond drillholes (sample type: Borehole), where not all the rock core in the borehole are brought up to the surface for visual examination. As a result, the group decided to perform the data analysis with the focus on data categorized under sample type borehole.\n",
    "\n"
   ]
  },
  {
   "cell_type": "markdown",
   "metadata": {},
   "source": [
    "### Preliminary Analysis\n",
    "The preliminary data are obtained as a zip file from the Government of Canada, Natural Resources Canada website. Upon unzipping the file and bringing the original excel file into Jupiter notebook for R processing, the group noticed that R encountered a runtime error.  \n",
    " \n",
    "Indicated by read_* documentation, the column type will be imputed from the first 1000 rows on the input file. As the top 1000 data in this excel mostly contains NULL values, R automatically assigned “col_logical” as the column type for most of the columns. However, this column type conflicts with the majority of the other observations, which contain numerical values.    \n",
    " \n",
    "To solve this issue, the group decides to sort the observations in excel before importing into Jupiter. We relocated the columns with no missing data to the top of the file, and R successfully created columns with the proper type “col_double” and no error was thrown. The following code demonstrates the steps of data import:\n"
   ]
  },
  {
   "cell_type": "code",
   "execution_count": 2,
   "metadata": {},
   "outputs": [
    {
     "name": "stderr",
     "output_type": "stream",
     "text": [
      "Parsed with column specification:\n",
      "cols(\n",
      "  .default = col_character(),\n",
      "  `Date Mapped (yyyy/mm/dd) *` = \u001b[32mcol_double()\u001b[39m,\n",
      "  `Lat Deg` = \u001b[32mcol_double()\u001b[39m,\n",
      "  `Long Deg` = \u001b[32mcol_double()\u001b[39m,\n",
      "  `UTM zone` = \u001b[32mcol_double()\u001b[39m,\n",
      "  Easting = \u001b[32mcol_double()\u001b[39m,\n",
      "  Northing = \u001b[32mcol_double()\u001b[39m,\n",
      "  `Method Precision (m)*` = \u001b[32mcol_double()\u001b[39m,\n",
      "  `Year *` = \u001b[32mcol_double()\u001b[39m,\n",
      "  `Lab Date` = \u001b[32mcol_double()\u001b[39m,\n",
      "  `GRAIN DEN Sample Value [g/cm3]` = \u001b[32mcol_double()\u001b[39m,\n",
      "  `DRY BULK DEN Sample Value [g/cm3]` = \u001b[32mcol_double()\u001b[39m,\n",
      "  `SAT BULK DEN Sample Value [g/cm3]` = \u001b[32mcol_double()\u001b[39m,\n",
      "  `POR Sample Value [%]` = \u001b[32mcol_double()\u001b[39m,\n",
      "  `MS Sample Value [SI A/m / A/m]` = \u001b[32mcol_double()\u001b[39m,\n",
      "  `NRM Sample Value [A/m]` = \u001b[32mcol_double()\u001b[39m,\n",
      "  `KN50 Sample Value` = \u001b[32mcol_double()\u001b[39m,\n",
      "  `Local Field [uT]` = \u001b[32mcol_double()\u001b[39m,\n",
      "  KN = \u001b[32mcol_double()\u001b[39m,\n",
      "  `RES Sample Value [Ohm.m]` = \u001b[32mcol_double()\u001b[39m,\n",
      "  `CHG Sample Value [ms]` = \u001b[32mcol_double()\u001b[39m\n",
      ")\n",
      "\n",
      "See spec(...) for full column specifications.\n",
      "\n"
     ]
    }
   ],
   "source": [
    "url <- \"https://raw.githubusercontent.com/yxing6/DSCI_100_Project_Group4/main/data/of_8460_database.csv\"\n",
    "# download.file(url, destfile = \"rock_physical_properties.csv\")\n",
    "# rock_data_raw <- read_csv(\"rock_physical_properties.csv\")\n",
    "\n",
    "rock_data_raw <- read_csv(url)\n",
    "\n",
    "# glimpse(rock_data_all)"
   ]
  },
  {
   "cell_type": "markdown",
   "metadata": {},
   "source": [
    "  \n",
    "The following codes demonstrate the steps of data cleaning and wrangling into a tidy format:  \n",
    "  "
   ]
  },
  {
   "cell_type": "code",
   "execution_count": 3,
   "metadata": {},
   "outputs": [
    {
     "data": {
      "text/html": [
       "<table>\n",
       "<caption>A tibble: 1404 × 8</caption>\n",
       "<thead>\n",
       "\t<tr><th scope=col>sample_type</th><th scope=col>lithology</th><th scope=col>density</th><th scope=col>porosity</th><th scope=col>MS</th><th scope=col>NRM</th><th scope=col>RES</th><th scope=col>chargeability</th></tr>\n",
       "\t<tr><th scope=col>&lt;fct&gt;</th><th scope=col>&lt;fct&gt;</th><th scope=col>&lt;dbl&gt;</th><th scope=col>&lt;dbl&gt;</th><th scope=col>&lt;dbl&gt;</th><th scope=col>&lt;dbl&gt;</th><th scope=col>&lt;dbl&gt;</th><th scope=col>&lt;dbl&gt;</th></tr>\n",
       "</thead>\n",
       "<tbody>\n",
       "\t<tr><td>Borehole</td><td>Igneous</td><td>2.931</td><td>0.41</td><td>0.00118</td><td>0.029</td><td>  7960</td><td>46.4</td></tr>\n",
       "\t<tr><td>Borehole</td><td>Igneous</td><td>2.770</td><td>0.28</td><td>0.07900</td><td>4.810</td><td>135000</td><td>19.5</td></tr>\n",
       "\t<tr><td>Borehole</td><td>Igneous</td><td>2.754</td><td>0.28</td><td>0.01260</td><td>0.352</td><td> 51800</td><td> 1.6</td></tr>\n",
       "\t<tr><td>⋮</td><td>⋮</td><td>⋮</td><td>⋮</td><td>⋮</td><td>⋮</td><td>⋮</td><td>⋮</td></tr>\n",
       "\t<tr><td>Borehole</td><td>Metamorphic</td><td>2.665</td><td>0.08</td><td>    NA</td><td>  NA</td><td> 91800</td><td> 3.868</td></tr>\n",
       "\t<tr><td>Borehole</td><td>Metamorphic</td><td>2.641</td><td>0.09</td><td>    NA</td><td>  NA</td><td> 67800</td><td> 1.388</td></tr>\n",
       "\t<tr><td>Borehole</td><td>Metamorphic</td><td>2.811</td><td>0.36</td><td>0.0739</td><td>5.72</td><td>437000</td><td>12.850</td></tr>\n",
       "</tbody>\n",
       "</table>\n"
      ],
      "text/latex": [
       "A tibble: 1404 × 8\n",
       "\\begin{tabular}{llllllll}\n",
       " sample\\_type & lithology & density & porosity & MS & NRM & RES & chargeability\\\\\n",
       " <fct> & <fct> & <dbl> & <dbl> & <dbl> & <dbl> & <dbl> & <dbl>\\\\\n",
       "\\hline\n",
       "\t Borehole & Igneous & 2.931 & 0.41 & 0.00118 & 0.029 &   7960 & 46.4\\\\\n",
       "\t Borehole & Igneous & 2.770 & 0.28 & 0.07900 & 4.810 & 135000 & 19.5\\\\\n",
       "\t Borehole & Igneous & 2.754 & 0.28 & 0.01260 & 0.352 &  51800 &  1.6\\\\\n",
       "\t ⋮ & ⋮ & ⋮ & ⋮ & ⋮ & ⋮ & ⋮ & ⋮\\\\\n",
       "\t Borehole & Metamorphic & 2.665 & 0.08 &     NA &   NA &  91800 &  3.868\\\\\n",
       "\t Borehole & Metamorphic & 2.641 & 0.09 &     NA &   NA &  67800 &  1.388\\\\\n",
       "\t Borehole & Metamorphic & 2.811 & 0.36 & 0.0739 & 5.72 & 437000 & 12.850\\\\\n",
       "\\end{tabular}\n"
      ],
      "text/markdown": [
       "\n",
       "A tibble: 1404 × 8\n",
       "\n",
       "| sample_type &lt;fct&gt; | lithology &lt;fct&gt; | density &lt;dbl&gt; | porosity &lt;dbl&gt; | MS &lt;dbl&gt; | NRM &lt;dbl&gt; | RES &lt;dbl&gt; | chargeability &lt;dbl&gt; |\n",
       "|---|---|---|---|---|---|---|---|\n",
       "| Borehole | Igneous | 2.931 | 0.41 | 0.00118 | 0.029 |   7960 | 46.4 |\n",
       "| Borehole | Igneous | 2.770 | 0.28 | 0.07900 | 4.810 | 135000 | 19.5 |\n",
       "| Borehole | Igneous | 2.754 | 0.28 | 0.01260 | 0.352 |  51800 |  1.6 |\n",
       "| ⋮ | ⋮ | ⋮ | ⋮ | ⋮ | ⋮ | ⋮ | ⋮ |\n",
       "| Borehole | Metamorphic | 2.665 | 0.08 |     NA |   NA |  91800 |  3.868 |\n",
       "| Borehole | Metamorphic | 2.641 | 0.09 |     NA |   NA |  67800 |  1.388 |\n",
       "| Borehole | Metamorphic | 2.811 | 0.36 | 0.0739 | 5.72 | 437000 | 12.850 |\n",
       "\n"
      ],
      "text/plain": [
       "     sample_type lithology   density porosity MS      NRM   RES   \n",
       "1    Borehole    Igneous     2.931   0.41     0.00118 0.029   7960\n",
       "2    Borehole    Igneous     2.770   0.28     0.07900 4.810 135000\n",
       "3    Borehole    Igneous     2.754   0.28     0.01260 0.352  51800\n",
       "⋮    ⋮           ⋮           ⋮       ⋮        ⋮       ⋮     ⋮     \n",
       "1402 Borehole    Metamorphic 2.665   0.08         NA    NA   91800\n",
       "1403 Borehole    Metamorphic 2.641   0.09         NA    NA   67800\n",
       "1404 Borehole    Metamorphic 2.811   0.36     0.0739  5.72  437000\n",
       "     chargeability\n",
       "1    46.4         \n",
       "2    19.5         \n",
       "3     1.6         \n",
       "⋮    ⋮            \n",
       "1402  3.868       \n",
       "1403  1.388       \n",
       "1404 12.850       "
      ]
     },
     "metadata": {},
     "output_type": "display_data"
    },
    {
     "data": {
      "text/html": [
       "<table>\n",
       "<caption>A tibble: 1215 × 7</caption>\n",
       "<thead>\n",
       "\t<tr><th scope=col>lithology</th><th scope=col>density</th><th scope=col>porosity</th><th scope=col>MS</th><th scope=col>NRM</th><th scope=col>RES</th><th scope=col>chargeability</th></tr>\n",
       "\t<tr><th scope=col>&lt;fct&gt;</th><th scope=col>&lt;dbl&gt;</th><th scope=col>&lt;dbl&gt;</th><th scope=col>&lt;dbl&gt;</th><th scope=col>&lt;dbl&gt;</th><th scope=col>&lt;dbl&gt;</th><th scope=col>&lt;dbl&gt;</th></tr>\n",
       "</thead>\n",
       "<tbody>\n",
       "\t<tr><td>Igneous</td><td>2.931</td><td>0.41</td><td>0.00118</td><td>0.029</td><td>  7960</td><td>46.4</td></tr>\n",
       "\t<tr><td>Igneous</td><td>2.770</td><td>0.28</td><td>0.07900</td><td>4.810</td><td>135000</td><td>19.5</td></tr>\n",
       "\t<tr><td>Igneous</td><td>2.754</td><td>0.28</td><td>0.01260</td><td>0.352</td><td> 51800</td><td> 1.6</td></tr>\n",
       "\t<tr><td>⋮</td><td>⋮</td><td>⋮</td><td>⋮</td><td>⋮</td><td>⋮</td><td>⋮</td></tr>\n",
       "\t<tr><td>Metamorphic</td><td>2.660</td><td>0.34</td><td>-7.08e-06</td><td>0.000162</td><td> 18600</td><td> 1.015</td></tr>\n",
       "\t<tr><td>Metamorphic</td><td>2.791</td><td>0.16</td><td> 1.68e-04</td><td>0.000401</td><td> 27100</td><td> 8.026</td></tr>\n",
       "\t<tr><td>Metamorphic</td><td>2.811</td><td>0.36</td><td> 7.39e-02</td><td>5.720000</td><td>437000</td><td>12.850</td></tr>\n",
       "</tbody>\n",
       "</table>\n"
      ],
      "text/latex": [
       "A tibble: 1215 × 7\n",
       "\\begin{tabular}{lllllll}\n",
       " lithology & density & porosity & MS & NRM & RES & chargeability\\\\\n",
       " <fct> & <dbl> & <dbl> & <dbl> & <dbl> & <dbl> & <dbl>\\\\\n",
       "\\hline\n",
       "\t Igneous & 2.931 & 0.41 & 0.00118 & 0.029 &   7960 & 46.4\\\\\n",
       "\t Igneous & 2.770 & 0.28 & 0.07900 & 4.810 & 135000 & 19.5\\\\\n",
       "\t Igneous & 2.754 & 0.28 & 0.01260 & 0.352 &  51800 &  1.6\\\\\n",
       "\t ⋮ & ⋮ & ⋮ & ⋮ & ⋮ & ⋮ & ⋮\\\\\n",
       "\t Metamorphic & 2.660 & 0.34 & -7.08e-06 & 0.000162 &  18600 &  1.015\\\\\n",
       "\t Metamorphic & 2.791 & 0.16 &  1.68e-04 & 0.000401 &  27100 &  8.026\\\\\n",
       "\t Metamorphic & 2.811 & 0.36 &  7.39e-02 & 5.720000 & 437000 & 12.850\\\\\n",
       "\\end{tabular}\n"
      ],
      "text/markdown": [
       "\n",
       "A tibble: 1215 × 7\n",
       "\n",
       "| lithology &lt;fct&gt; | density &lt;dbl&gt; | porosity &lt;dbl&gt; | MS &lt;dbl&gt; | NRM &lt;dbl&gt; | RES &lt;dbl&gt; | chargeability &lt;dbl&gt; |\n",
       "|---|---|---|---|---|---|---|\n",
       "| Igneous | 2.931 | 0.41 | 0.00118 | 0.029 |   7960 | 46.4 |\n",
       "| Igneous | 2.770 | 0.28 | 0.07900 | 4.810 | 135000 | 19.5 |\n",
       "| Igneous | 2.754 | 0.28 | 0.01260 | 0.352 |  51800 |  1.6 |\n",
       "| ⋮ | ⋮ | ⋮ | ⋮ | ⋮ | ⋮ | ⋮ |\n",
       "| Metamorphic | 2.660 | 0.34 | -7.08e-06 | 0.000162 |  18600 |  1.015 |\n",
       "| Metamorphic | 2.791 | 0.16 |  1.68e-04 | 0.000401 |  27100 |  8.026 |\n",
       "| Metamorphic | 2.811 | 0.36 |  7.39e-02 | 5.720000 | 437000 | 12.850 |\n",
       "\n"
      ],
      "text/plain": [
       "     lithology   density porosity MS        NRM      RES    chargeability\n",
       "1    Igneous     2.931   0.41     0.00118   0.029      7960 46.4         \n",
       "2    Igneous     2.770   0.28     0.07900   4.810    135000 19.5         \n",
       "3    Igneous     2.754   0.28     0.01260   0.352     51800  1.6         \n",
       "⋮    ⋮           ⋮       ⋮        ⋮         ⋮        ⋮      ⋮            \n",
       "1213 Metamorphic 2.660   0.34     -7.08e-06 0.000162  18600  1.015       \n",
       "1214 Metamorphic 2.791   0.16      1.68e-04 0.000401  27100  8.026       \n",
       "1215 Metamorphic 2.811   0.36      7.39e-02 5.720000 437000 12.850       "
      ]
     },
     "metadata": {},
     "output_type": "display_data"
    }
   ],
   "source": [
    "borehole_data_raw <- rock_data_raw %>% \n",
    "    select(\"Location Type *\", \"MIRA Master Litho 1\", \"GRAIN DEN Sample Value [g/cm3]\",\n",
    "           \"POR Sample Value [%]\",\"MS Sample Value [SI A/m / A/m]\",\n",
    "           \"NRM Sample Value [A/m]\",\"RES Sample Value [Ohm.m]\",\"CHG Sample Value [ms]\") %>%\n",
    "    rename(\"sample_type\" = \"Location Type *\",\n",
    "          \"lithology\" = \"MIRA Master Litho 1\",\n",
    "           \"density\" = \"GRAIN DEN Sample Value [g/cm3]\",\n",
    "           \"porosity\" = \"POR Sample Value [%]\",\n",
    "           \"MS\" = \"MS Sample Value [SI A/m / A/m]\",\n",
    "           \"NRM\" = \"NRM Sample Value [A/m]\",\n",
    "           \"RES\" = \"RES Sample Value [Ohm.m]\",\n",
    "           \"chargeability\" = \"CHG Sample Value [ms]\") %>%\n",
    "    mutate(sample_type = as_factor(sample_type),\n",
    "          lithology = as_factor(lithology)) %>%\n",
    "    filter(lithology != \"Other\", sample_type == \"Borehole\")\n",
    "\n",
    "borehole_data_raw\n",
    "\n",
    "# column units:\n",
    "# density[g/cm3]\n",
    "# porosity[%]\n",
    "# MS[m3/kg]\n",
    "# NRM[A/m]\n",
    "# RES[Ohm.m]\n",
    "# chargeability[ms]\n",
    "\n",
    "#!is.na(col)\n",
    "\n",
    "# currently omiting all NA data \n",
    "# if later on decide on specific predictors, only omit NA on those variables \n",
    "# e.g. na.omit(borehole_data[1:3])\n",
    "\n",
    "\n",
    "borehole_data_unscaled <- na.omit(borehole_data_raw) %>%\n",
    "    select(-sample_type)\n",
    "\n",
    "borehole_data_unscaled"
   ]
  },
  {
   "cell_type": "markdown",
   "metadata": {},
   "source": [
    "\n",
    "We then split the data into training and testing sets.  \n",
    "  \n",
    "Using only the training set, we built a table that consists the mean values of each predictors for each category.  \n",
    "\n",
    "### NEW from YUN \n",
    "### We furthur computed the (range difference over mean) to see if we need to perform log transformation for any of the predictors. \n",
    "### table included below:\n",
    "\n",
    "  "
   ]
  },
  {
   "cell_type": "code",
   "execution_count": 4,
   "metadata": {},
   "outputs": [
    {
     "name": "stderr",
     "output_type": "stream",
     "text": [
      "`summarise()` ungrouping output (override with `.groups` argument)\n",
      "\n"
     ]
    },
    {
     "data": {
      "text/html": [
       "<table>\n",
       "<caption>A tibble: 3 × 8</caption>\n",
       "<thead>\n",
       "\t<tr><th scope=col>lithology</th><th scope=col>n</th><th scope=col>mean_Density[g/cm3]</th><th scope=col>mean_Porosity[%]</th><th scope=col>mean_MS[m3/kg]</th><th scope=col>mean_NRM[A/m]</th><th scope=col>mean_RES[Ohm.m]</th><th scope=col>mean_Chargeability[ms]</th></tr>\n",
       "\t<tr><th scope=col>&lt;fct&gt;</th><th scope=col>&lt;int&gt;</th><th scope=col>&lt;dbl&gt;</th><th scope=col>&lt;dbl&gt;</th><th scope=col>&lt;dbl&gt;</th><th scope=col>&lt;dbl&gt;</th><th scope=col>&lt;dbl&gt;</th><th scope=col>&lt;dbl&gt;</th></tr>\n",
       "</thead>\n",
       "<tbody>\n",
       "\t<tr><td>Igneous    </td><td>213</td><td>2.805258</td><td>2.2292958</td><td>0.022633525</td><td>1.33363195</td><td>13261.170</td><td>11.572268</td></tr>\n",
       "\t<tr><td>Metamorphic</td><td>559</td><td>2.770982</td><td>0.4470483</td><td>0.001708148</td><td>0.52407663</td><td> 9808.564</td><td> 5.686354</td></tr>\n",
       "\t<tr><td>Sedimentary</td><td>141</td><td>2.657965</td><td>5.8538298</td><td>0.000232826</td><td>0.02095233</td><td> 3736.071</td><td> 3.906858</td></tr>\n",
       "</tbody>\n",
       "</table>\n"
      ],
      "text/latex": [
       "A tibble: 3 × 8\n",
       "\\begin{tabular}{llllllll}\n",
       " lithology & n & mean\\_Density{[}g/cm3{]} & mean\\_Porosity{[}\\%{]} & mean\\_MS{[}m3/kg{]} & mean\\_NRM{[}A/m{]} & mean\\_RES{[}Ohm.m{]} & mean\\_Chargeability{[}ms{]}\\\\\n",
       " <fct> & <int> & <dbl> & <dbl> & <dbl> & <dbl> & <dbl> & <dbl>\\\\\n",
       "\\hline\n",
       "\t Igneous     & 213 & 2.805258 & 2.2292958 & 0.022633525 & 1.33363195 & 13261.170 & 11.572268\\\\\n",
       "\t Metamorphic & 559 & 2.770982 & 0.4470483 & 0.001708148 & 0.52407663 &  9808.564 &  5.686354\\\\\n",
       "\t Sedimentary & 141 & 2.657965 & 5.8538298 & 0.000232826 & 0.02095233 &  3736.071 &  3.906858\\\\\n",
       "\\end{tabular}\n"
      ],
      "text/markdown": [
       "\n",
       "A tibble: 3 × 8\n",
       "\n",
       "| lithology &lt;fct&gt; | n &lt;int&gt; | mean_Density[g/cm3] &lt;dbl&gt; | mean_Porosity[%] &lt;dbl&gt; | mean_MS[m3/kg] &lt;dbl&gt; | mean_NRM[A/m] &lt;dbl&gt; | mean_RES[Ohm.m] &lt;dbl&gt; | mean_Chargeability[ms] &lt;dbl&gt; |\n",
       "|---|---|---|---|---|---|---|---|\n",
       "| Igneous     | 213 | 2.805258 | 2.2292958 | 0.022633525 | 1.33363195 | 13261.170 | 11.572268 |\n",
       "| Metamorphic | 559 | 2.770982 | 0.4470483 | 0.001708148 | 0.52407663 |  9808.564 |  5.686354 |\n",
       "| Sedimentary | 141 | 2.657965 | 5.8538298 | 0.000232826 | 0.02095233 |  3736.071 |  3.906858 |\n",
       "\n"
      ],
      "text/plain": [
       "  lithology   n   mean_Density[g/cm3] mean_Porosity[%] mean_MS[m3/kg]\n",
       "1 Igneous     213 2.805258            2.2292958        0.022633525   \n",
       "2 Metamorphic 559 2.770982            0.4470483        0.001708148   \n",
       "3 Sedimentary 141 2.657965            5.8538298        0.000232826   \n",
       "  mean_NRM[A/m] mean_RES[Ohm.m] mean_Chargeability[ms]\n",
       "1 1.33363195    13261.170       11.572268             \n",
       "2 0.52407663     9808.564        5.686354             \n",
       "3 0.02095233     3736.071        3.906858             "
      ]
     },
     "metadata": {},
     "output_type": "display_data"
    },
    {
     "name": "stderr",
     "output_type": "stream",
     "text": [
      "`summarise()` ungrouping output (override with `.groups` argument)\n",
      "\n"
     ]
    },
    {
     "data": {
      "text/html": [
       "<table>\n",
       "<caption>A tibble: 3 × 7</caption>\n",
       "<thead>\n",
       "\t<tr><th scope=col>lithology</th><th scope=col>density</th><th scope=col>porosity</th><th scope=col>MS</th><th scope=col>NRM</th><th scope=col>RES</th><th scope=col>chargeability</th></tr>\n",
       "\t<tr><th scope=col>&lt;fct&gt;</th><th scope=col>&lt;dbl&gt;</th><th scope=col>&lt;dbl&gt;</th><th scope=col>&lt;dbl&gt;</th><th scope=col>&lt;dbl&gt;</th><th scope=col>&lt;dbl&gt;</th><th scope=col>&lt;dbl&gt;</th></tr>\n",
       "</thead>\n",
       "<tbody>\n",
       "\t<tr><td>Igneous    </td><td>2.448</td><td>0.01</td><td> 3.48e-05</td><td>6.04e-05</td><td>  1.0</td><td>0.001</td></tr>\n",
       "\t<tr><td>Metamorphic</td><td>2.599</td><td>0.02</td><td>-1.09e-05</td><td>2.36e-05</td><td> 27.5</td><td>0.116</td></tr>\n",
       "\t<tr><td>Sedimentary</td><td>2.586</td><td>0.26</td><td>-1.17e-05</td><td>1.19e-04</td><td>137.0</td><td>0.272</td></tr>\n",
       "</tbody>\n",
       "</table>\n"
      ],
      "text/latex": [
       "A tibble: 3 × 7\n",
       "\\begin{tabular}{lllllll}\n",
       " lithology & density & porosity & MS & NRM & RES & chargeability\\\\\n",
       " <fct> & <dbl> & <dbl> & <dbl> & <dbl> & <dbl> & <dbl>\\\\\n",
       "\\hline\n",
       "\t Igneous     & 2.448 & 0.01 &  3.48e-05 & 6.04e-05 &   1.0 & 0.001\\\\\n",
       "\t Metamorphic & 2.599 & 0.02 & -1.09e-05 & 2.36e-05 &  27.5 & 0.116\\\\\n",
       "\t Sedimentary & 2.586 & 0.26 & -1.17e-05 & 1.19e-04 & 137.0 & 0.272\\\\\n",
       "\\end{tabular}\n"
      ],
      "text/markdown": [
       "\n",
       "A tibble: 3 × 7\n",
       "\n",
       "| lithology &lt;fct&gt; | density &lt;dbl&gt; | porosity &lt;dbl&gt; | MS &lt;dbl&gt; | NRM &lt;dbl&gt; | RES &lt;dbl&gt; | chargeability &lt;dbl&gt; |\n",
       "|---|---|---|---|---|---|---|\n",
       "| Igneous     | 2.448 | 0.01 |  3.48e-05 | 6.04e-05 |   1.0 | 0.001 |\n",
       "| Metamorphic | 2.599 | 0.02 | -1.09e-05 | 2.36e-05 |  27.5 | 0.116 |\n",
       "| Sedimentary | 2.586 | 0.26 | -1.17e-05 | 1.19e-04 | 137.0 | 0.272 |\n",
       "\n"
      ],
      "text/plain": [
       "  lithology   density porosity MS        NRM      RES   chargeability\n",
       "1 Igneous     2.448   0.01      3.48e-05 6.04e-05   1.0 0.001        \n",
       "2 Metamorphic 2.599   0.02     -1.09e-05 2.36e-05  27.5 0.116        \n",
       "3 Sedimentary 2.586   0.26     -1.17e-05 1.19e-04 137.0 0.272        "
      ]
     },
     "metadata": {},
     "output_type": "display_data"
    },
    {
     "name": "stderr",
     "output_type": "stream",
     "text": [
      "`summarise()` ungrouping output (override with `.groups` argument)\n",
      "\n"
     ]
    },
    {
     "data": {
      "text/html": [
       "<table>\n",
       "<caption>A tibble: 3 × 7</caption>\n",
       "<thead>\n",
       "\t<tr><th scope=col>lithology</th><th scope=col>density</th><th scope=col>porosity</th><th scope=col>MS</th><th scope=col>NRM</th><th scope=col>RES</th><th scope=col>chargeability</th></tr>\n",
       "\t<tr><th scope=col>&lt;fct&gt;</th><th scope=col>&lt;dbl&gt;</th><th scope=col>&lt;dbl&gt;</th><th scope=col>&lt;dbl&gt;</th><th scope=col>&lt;dbl&gt;</th><th scope=col>&lt;dbl&gt;</th><th scope=col>&lt;dbl&gt;</th></tr>\n",
       "</thead>\n",
       "<tbody>\n",
       "\t<tr><td>Igneous    </td><td>4.315</td><td>24.67</td><td>0.5390</td><td>27.80</td><td>190000</td><td> 91.04</td></tr>\n",
       "\t<tr><td>Metamorphic</td><td>3.505</td><td> 9.39</td><td>0.1030</td><td>91.70</td><td>628000</td><td>179.80</td></tr>\n",
       "\t<tr><td>Sedimentary</td><td>2.935</td><td>12.75</td><td>0.0141</td><td> 1.17</td><td> 65000</td><td> 43.10</td></tr>\n",
       "</tbody>\n",
       "</table>\n"
      ],
      "text/latex": [
       "A tibble: 3 × 7\n",
       "\\begin{tabular}{lllllll}\n",
       " lithology & density & porosity & MS & NRM & RES & chargeability\\\\\n",
       " <fct> & <dbl> & <dbl> & <dbl> & <dbl> & <dbl> & <dbl>\\\\\n",
       "\\hline\n",
       "\t Igneous     & 4.315 & 24.67 & 0.5390 & 27.80 & 190000 &  91.04\\\\\n",
       "\t Metamorphic & 3.505 &  9.39 & 0.1030 & 91.70 & 628000 & 179.80\\\\\n",
       "\t Sedimentary & 2.935 & 12.75 & 0.0141 &  1.17 &  65000 &  43.10\\\\\n",
       "\\end{tabular}\n"
      ],
      "text/markdown": [
       "\n",
       "A tibble: 3 × 7\n",
       "\n",
       "| lithology &lt;fct&gt; | density &lt;dbl&gt; | porosity &lt;dbl&gt; | MS &lt;dbl&gt; | NRM &lt;dbl&gt; | RES &lt;dbl&gt; | chargeability &lt;dbl&gt; |\n",
       "|---|---|---|---|---|---|---|\n",
       "| Igneous     | 4.315 | 24.67 | 0.5390 | 27.80 | 190000 |  91.04 |\n",
       "| Metamorphic | 3.505 |  9.39 | 0.1030 | 91.70 | 628000 | 179.80 |\n",
       "| Sedimentary | 2.935 | 12.75 | 0.0141 |  1.17 |  65000 |  43.10 |\n",
       "\n"
      ],
      "text/plain": [
       "  lithology   density porosity MS     NRM   RES    chargeability\n",
       "1 Igneous     4.315   24.67    0.5390 27.80 190000  91.04       \n",
       "2 Metamorphic 3.505    9.39    0.1030 91.70 628000 179.80       \n",
       "3 Sedimentary 2.935   12.75    0.0141  1.17  65000  43.10       "
      ]
     },
     "metadata": {},
     "output_type": "display_data"
    },
    {
     "data": {
      "text/html": [
       "<table>\n",
       "<caption>A data.frame: 3 × 7</caption>\n",
       "<thead>\n",
       "\t<tr><th scope=col>lithology</th><th scope=col>density</th><th scope=col>porosity</th><th scope=col>MS</th><th scope=col>NRM</th><th scope=col>RES</th><th scope=col>chargeability</th></tr>\n",
       "\t<tr><th scope=col>&lt;fct&gt;</th><th scope=col>&lt;dbl&gt;</th><th scope=col>&lt;dbl&gt;</th><th scope=col>&lt;dbl&gt;</th><th scope=col>&lt;dbl&gt;</th><th scope=col>&lt;dbl&gt;</th><th scope=col>&lt;dbl&gt;</th></tr>\n",
       "</thead>\n",
       "<tbody>\n",
       "\t<tr><td>Igneous    </td><td>0.7</td><td>11.1</td><td>23.8</td><td> 20.8</td><td>14.3</td><td> 7.9</td></tr>\n",
       "\t<tr><td>Metamorphic</td><td>0.3</td><td>21.0</td><td>60.3</td><td>175.0</td><td>64.0</td><td>31.6</td></tr>\n",
       "\t<tr><td>Sedimentary</td><td>0.1</td><td> 2.1</td><td>60.6</td><td> 55.8</td><td>17.4</td><td>11.0</td></tr>\n",
       "</tbody>\n",
       "</table>\n"
      ],
      "text/latex": [
       "A data.frame: 3 × 7\n",
       "\\begin{tabular}{lllllll}\n",
       " lithology & density & porosity & MS & NRM & RES & chargeability\\\\\n",
       " <fct> & <dbl> & <dbl> & <dbl> & <dbl> & <dbl> & <dbl>\\\\\n",
       "\\hline\n",
       "\t Igneous     & 0.7 & 11.1 & 23.8 &  20.8 & 14.3 &  7.9\\\\\n",
       "\t Metamorphic & 0.3 & 21.0 & 60.3 & 175.0 & 64.0 & 31.6\\\\\n",
       "\t Sedimentary & 0.1 &  2.1 & 60.6 &  55.8 & 17.4 & 11.0\\\\\n",
       "\\end{tabular}\n"
      ],
      "text/markdown": [
       "\n",
       "A data.frame: 3 × 7\n",
       "\n",
       "| lithology &lt;fct&gt; | density &lt;dbl&gt; | porosity &lt;dbl&gt; | MS &lt;dbl&gt; | NRM &lt;dbl&gt; | RES &lt;dbl&gt; | chargeability &lt;dbl&gt; |\n",
       "|---|---|---|---|---|---|---|\n",
       "| Igneous     | 0.7 | 11.1 | 23.8 |  20.8 | 14.3 |  7.9 |\n",
       "| Metamorphic | 0.3 | 21.0 | 60.3 | 175.0 | 64.0 | 31.6 |\n",
       "| Sedimentary | 0.1 |  2.1 | 60.6 |  55.8 | 17.4 | 11.0 |\n",
       "\n"
      ],
      "text/plain": [
       "  lithology   density porosity MS   NRM   RES  chargeability\n",
       "1 Igneous     0.7     11.1     23.8  20.8 14.3  7.9         \n",
       "2 Metamorphic 0.3     21.0     60.3 175.0 64.0 31.6         \n",
       "3 Sedimentary 0.1      2.1     60.6  55.8 17.4 11.0         "
      ]
     },
     "metadata": {},
     "output_type": "display_data"
    }
   ],
   "source": [
    "borehole_data_split <- initial_split(borehole_data_unscaled, prop = 0.75, strata = lithology)\n",
    "data_train <- training(borehole_data_split)\n",
    "data_test <- testing(borehole_data_split)\n",
    "\n",
    "\n",
    "# options(repr.plot.width = 15, repr.plot.height = 15)\n",
    "# train_pairs <- data_train %>%\n",
    "#     select(\"density\":\"chargeability\") %>%\n",
    "#     ggpairs() + \n",
    "#     theme(text = element_text(size = 20))\n",
    "# train_pairs\n",
    "\n",
    "data_summary <- data_train %>%\n",
    "    group_by(lithology) %>%\n",
    "    summarize(n = n(), \n",
    "              across(density:chargeability, mean, na.rm = TRUE)) %>%\n",
    "    rename(\n",
    "        \"lithology\" = \"lithology\",\n",
    "        \"n\" = \"n\",\n",
    "        \"mean_Density[g/cm3]\" = \"density\",\n",
    "        \"mean_Porosity[%]\" = \"porosity\",\n",
    "        \"mean_MS[m3/kg]\" = \"MS\",\n",
    "        \"mean_NRM[A/m]\" = \"NRM\",\n",
    "        \"mean_RES[Ohm.m]\" = \"RES\",\n",
    "        \"mean_Chargeability[ms]\" = \"chargeability\")\n",
    "\n",
    "data_summary\n",
    "\n",
    "\n",
    "# unbalanced data \n",
    "\n",
    "\n",
    "data_min <- data_train %>%\n",
    "    group_by(lithology) %>%\n",
    "    summarize(across(density:chargeability, min, na.rm = TRUE)) # %>%\n",
    "#     rename(\n",
    "#         \"min_Density[g/cm3]\" = \"density\",\n",
    "#         \"min_Porosity[%]\" = \"porosity\",\n",
    "#         \"min_MS[m3/kg]\" = \"MS\",\n",
    "#         \"min_NRM[A/m]\" = \"NRM\",\n",
    "#         \"min_RES[Ohm.m]\" = \"RES\",\n",
    "#         \"min_Chargeability[ms]\" = \"chargeability\")\n",
    "data_min\n",
    "\n",
    "\n",
    "data_max <- data_train %>%\n",
    "    group_by(lithology) %>%\n",
    "    summarize(across(density:chargeability, max, na.rm = TRUE))  # %>%\n",
    "#     rename(\n",
    "#         \"max_Density[g/cm3]\" = \"density\",\n",
    "#         \"max_Porosity[%]\" = \"porosity\",\n",
    "#         \"max_MS[m3/kg]\" = \"MS\",\n",
    "#         \"max_NRM[A/m]\" = \"NRM\",\n",
    "#         \"max_RES[Ohm.m]\" = \"RES\",\n",
    "#         \"max_Chargeability[ms]\" = \"chargeability\")\n",
    "data_max\n",
    "\n",
    "value_differences <- cbind(data_summary[1], round((data_max[2:7] - data_min[2:7]) / data_summary[3:8], 1))\n",
    "value_differences\n",
    "\n",
    "\n"
   ]
  },
  {
   "cell_type": "markdown",
   "metadata": {},
   "source": [
    "## New from Yun: \n",
    "## Except density, all other physical properties have a range of bigger than 10. Thus, we will log transformation for these predictors in the model recipe "
   ]
  },
  {
   "cell_type": "code",
   "execution_count": 5,
   "metadata": {},
   "outputs": [
    {
     "name": "stderr",
     "output_type": "stream",
     "text": [
      "Warning message:\n",
      "“`step_upsample()` is deprecated as of recipes 0.1.13.\n",
      "Please use `themis::step_upsample()` instead.\n",
      "\u001b[90mThis warning is displayed once every 8 hours.\u001b[39m\n",
      "\u001b[90mCall `lifecycle::last_warnings()` to see where this warning was generated.\u001b[39m”\n"
     ]
    },
    {
     "data": {
      "text/plain": [
       "Data Recipe\n",
       "\n",
       "Inputs:\n",
       "\n",
       "      role #variables\n",
       "   outcome          1\n",
       " predictor          6\n",
       "\n",
       "Operations:\n",
       "\n",
       "Up-sampling based on lithology\n",
       "Log transformation on porosity, MS, NRM, RES, chargeability\n",
       "Scaling for all_predictors()\n",
       "Centering for all_predictors()"
      ]
     },
     "metadata": {},
     "output_type": "display_data"
    },
    {
     "data": {
      "text/plain": [
       "Data Recipe\n",
       "\n",
       "Inputs:\n",
       "\n",
       "      role #variables\n",
       "   outcome          1\n",
       " predictor          6\n",
       "\n",
       "Operations:\n",
       "\n",
       "Log transformation on porosity, MS, NRM, RES, chargeability\n",
       "Scaling for all_predictors()\n",
       "Centering for all_predictors()"
      ]
     },
     "metadata": {},
     "output_type": "display_data"
    },
    {
     "name": "stderr",
     "output_type": "stream",
     "text": [
      "Warning message in bake.step_log(x$steps[[i]], new_data = training):\n",
      "“NaNs produced”\n",
      "Warning message in bake.step_log(object$steps[[i]], new_data = new_data):\n",
      "“NaNs produced”\n",
      "Warning message in bake.step_log(x$steps[[i]], new_data = training):\n",
      "“NaNs produced”\n",
      "Warning message in bake.step_log(object$steps[[i]], new_data = new_data):\n",
      "“NaNs produced”\n"
     ]
    },
    {
     "data": {
      "text/html": [
       "<table>\n",
       "<caption>A tibble: 1677 × 7</caption>\n",
       "<thead>\n",
       "\t<tr><th scope=col>density</th><th scope=col>porosity</th><th scope=col>MS</th><th scope=col>NRM</th><th scope=col>RES</th><th scope=col>chargeability</th><th scope=col>lithology</th></tr>\n",
       "\t<tr><th scope=col>&lt;dbl&gt;</th><th scope=col>&lt;dbl&gt;</th><th scope=col>&lt;dbl&gt;</th><th scope=col>&lt;dbl&gt;</th><th scope=col>&lt;dbl&gt;</th><th scope=col>&lt;dbl&gt;</th><th scope=col>&lt;fct&gt;</th></tr>\n",
       "</thead>\n",
       "<tbody>\n",
       "\t<tr><td>-0.2656875</td><td>-0.4006484</td><td>1.4304244</td><td>1.4605540</td><td> 0.9137450</td><td> 0.8299502</td><td>Igneous</td></tr>\n",
       "\t<tr><td>-0.6955624</td><td>-0.4751875</td><td>0.6780526</td><td>0.6201875</td><td> 1.5645682</td><td>-0.9337917</td><td>Igneous</td></tr>\n",
       "\t<tr><td>-0.1841595</td><td> 0.9699954</td><td>1.9154465</td><td>1.9818733</td><td>-0.8524791</td><td> 1.2345003</td><td>Igneous</td></tr>\n",
       "\t<tr><td>⋮</td><td>⋮</td><td>⋮</td><td>⋮</td><td>⋮</td><td>⋮</td><td>⋮</td></tr>\n",
       "\t<tr><td>-0.7474438</td><td>0.1234982</td><td>-0.8175243</td><td>-0.6559069</td><td>-0.3454743</td><td>-0.8363642</td><td>Sedimentary</td></tr>\n",
       "\t<tr><td> 0.2383038</td><td>1.6023704</td><td> 0.2706436</td><td> 0.4084571</td><td>-1.1070417</td><td>-0.6272139</td><td>Sedimentary</td></tr>\n",
       "\t<tr><td>-0.6140344</td><td>0.3836856</td><td> 1.1952819</td><td> 1.4409407</td><td>-1.0354199</td><td> 0.2810098</td><td>Sedimentary</td></tr>\n",
       "</tbody>\n",
       "</table>\n"
      ],
      "text/latex": [
       "A tibble: 1677 × 7\n",
       "\\begin{tabular}{lllllll}\n",
       " density & porosity & MS & NRM & RES & chargeability & lithology\\\\\n",
       " <dbl> & <dbl> & <dbl> & <dbl> & <dbl> & <dbl> & <fct>\\\\\n",
       "\\hline\n",
       "\t -0.2656875 & -0.4006484 & 1.4304244 & 1.4605540 &  0.9137450 &  0.8299502 & Igneous\\\\\n",
       "\t -0.6955624 & -0.4751875 & 0.6780526 & 0.6201875 &  1.5645682 & -0.9337917 & Igneous\\\\\n",
       "\t -0.1841595 &  0.9699954 & 1.9154465 & 1.9818733 & -0.8524791 &  1.2345003 & Igneous\\\\\n",
       "\t ⋮ & ⋮ & ⋮ & ⋮ & ⋮ & ⋮ & ⋮\\\\\n",
       "\t -0.7474438 & 0.1234982 & -0.8175243 & -0.6559069 & -0.3454743 & -0.8363642 & Sedimentary\\\\\n",
       "\t  0.2383038 & 1.6023704 &  0.2706436 &  0.4084571 & -1.1070417 & -0.6272139 & Sedimentary\\\\\n",
       "\t -0.6140344 & 0.3836856 &  1.1952819 &  1.4409407 & -1.0354199 &  0.2810098 & Sedimentary\\\\\n",
       "\\end{tabular}\n"
      ],
      "text/markdown": [
       "\n",
       "A tibble: 1677 × 7\n",
       "\n",
       "| density &lt;dbl&gt; | porosity &lt;dbl&gt; | MS &lt;dbl&gt; | NRM &lt;dbl&gt; | RES &lt;dbl&gt; | chargeability &lt;dbl&gt; | lithology &lt;fct&gt; |\n",
       "|---|---|---|---|---|---|---|\n",
       "| -0.2656875 | -0.4006484 | 1.4304244 | 1.4605540 |  0.9137450 |  0.8299502 | Igneous |\n",
       "| -0.6955624 | -0.4751875 | 0.6780526 | 0.6201875 |  1.5645682 | -0.9337917 | Igneous |\n",
       "| -0.1841595 |  0.9699954 | 1.9154465 | 1.9818733 | -0.8524791 |  1.2345003 | Igneous |\n",
       "| ⋮ | ⋮ | ⋮ | ⋮ | ⋮ | ⋮ | ⋮ |\n",
       "| -0.7474438 | 0.1234982 | -0.8175243 | -0.6559069 | -0.3454743 | -0.8363642 | Sedimentary |\n",
       "|  0.2383038 | 1.6023704 |  0.2706436 |  0.4084571 | -1.1070417 | -0.6272139 | Sedimentary |\n",
       "| -0.6140344 | 0.3836856 |  1.1952819 |  1.4409407 | -1.0354199 |  0.2810098 | Sedimentary |\n",
       "\n"
      ],
      "text/plain": [
       "     density    porosity   MS         NRM        RES        chargeability\n",
       "1    -0.2656875 -0.4006484 1.4304244  1.4605540   0.9137450  0.8299502   \n",
       "2    -0.6955624 -0.4751875 0.6780526  0.6201875   1.5645682 -0.9337917   \n",
       "3    -0.1841595  0.9699954 1.9154465  1.9818733  -0.8524791  1.2345003   \n",
       "⋮    ⋮          ⋮          ⋮          ⋮          ⋮          ⋮            \n",
       "1675 -0.7474438 0.1234982  -0.8175243 -0.6559069 -0.3454743 -0.8363642   \n",
       "1676  0.2383038 1.6023704   0.2706436  0.4084571 -1.1070417 -0.6272139   \n",
       "1677 -0.6140344 0.3836856   1.1952819  1.4409407 -1.0354199  0.2810098   \n",
       "     lithology  \n",
       "1    Igneous    \n",
       "2    Igneous    \n",
       "3    Igneous    \n",
       "⋮    ⋮          \n",
       "1675 Sedimentary\n",
       "1676 Sedimentary\n",
       "1677 Sedimentary"
      ]
     },
     "metadata": {},
     "output_type": "display_data"
    },
    {
     "data": {
      "text/html": [
       "<table>\n",
       "<caption>A tibble: 913 × 7</caption>\n",
       "<thead>\n",
       "\t<tr><th scope=col>density</th><th scope=col>porosity</th><th scope=col>MS</th><th scope=col>NRM</th><th scope=col>RES</th><th scope=col>chargeability</th><th scope=col>lithology</th></tr>\n",
       "\t<tr><th scope=col>&lt;dbl&gt;</th><th scope=col>&lt;dbl&gt;</th><th scope=col>&lt;dbl&gt;</th><th scope=col>&lt;dbl&gt;</th><th scope=col>&lt;dbl&gt;</th><th scope=col>&lt;dbl&gt;</th><th scope=col>&lt;fct&gt;</th></tr>\n",
       "</thead>\n",
       "<tbody>\n",
       "\t<tr><td> 1.26113432</td><td>-0.2903337</td><td>0.5160625</td><td>0.4702585</td><td>0.6899355</td><td> 2.0908705</td><td>Igneous</td></tr>\n",
       "\t<tr><td> 0.06306853</td><td>-0.5793004</td><td>2.2570273</td><td>2.2167252</td><td>2.7991384</td><td> 1.3933180</td><td>Igneous</td></tr>\n",
       "\t<tr><td>-0.05599390</td><td>-0.5793004</td><td>1.4967922</td><td>1.3232487</td><td>2.0854390</td><td>-0.6186767</td><td>Igneous</td></tr>\n",
       "\t<tr><td>⋮</td><td>⋮</td><td>⋮</td><td>⋮</td><td>⋮</td><td>⋮</td><td>⋮</td></tr>\n",
       "\t<tr><td>-0.7331615</td><td>-0.5270237</td><td>-0.5599272</td><td>-0.7587260</td><td>1.509112</td><td>-0.8781379</td><td>Metamorphic</td></tr>\n",
       "\t<tr><td> 0.2193380</td><td>-1.0033278</td><td>-0.2911988</td><td>-0.9925768</td><td>1.602735</td><td> 0.6789936</td><td>Metamorphic</td></tr>\n",
       "\t<tr><td> 0.3681660</td><td>-0.3888765</td><td> 2.2293905</td><td> 2.2759316</td><td>3.674351</td><td> 1.0577155</td><td>Metamorphic</td></tr>\n",
       "</tbody>\n",
       "</table>\n"
      ],
      "text/latex": [
       "A tibble: 913 × 7\n",
       "\\begin{tabular}{lllllll}\n",
       " density & porosity & MS & NRM & RES & chargeability & lithology\\\\\n",
       " <dbl> & <dbl> & <dbl> & <dbl> & <dbl> & <dbl> & <fct>\\\\\n",
       "\\hline\n",
       "\t  1.26113432 & -0.2903337 & 0.5160625 & 0.4702585 & 0.6899355 &  2.0908705 & Igneous\\\\\n",
       "\t  0.06306853 & -0.5793004 & 2.2570273 & 2.2167252 & 2.7991384 &  1.3933180 & Igneous\\\\\n",
       "\t -0.05599390 & -0.5793004 & 1.4967922 & 1.3232487 & 2.0854390 & -0.6186767 & Igneous\\\\\n",
       "\t ⋮ & ⋮ & ⋮ & ⋮ & ⋮ & ⋮ & ⋮\\\\\n",
       "\t -0.7331615 & -0.5270237 & -0.5599272 & -0.7587260 & 1.509112 & -0.8781379 & Metamorphic\\\\\n",
       "\t  0.2193380 & -1.0033278 & -0.2911988 & -0.9925768 & 1.602735 &  0.6789936 & Metamorphic\\\\\n",
       "\t  0.3681660 & -0.3888765 &  2.2293905 &  2.2759316 & 3.674351 &  1.0577155 & Metamorphic\\\\\n",
       "\\end{tabular}\n"
      ],
      "text/markdown": [
       "\n",
       "A tibble: 913 × 7\n",
       "\n",
       "| density &lt;dbl&gt; | porosity &lt;dbl&gt; | MS &lt;dbl&gt; | NRM &lt;dbl&gt; | RES &lt;dbl&gt; | chargeability &lt;dbl&gt; | lithology &lt;fct&gt; |\n",
       "|---|---|---|---|---|---|---|\n",
       "|  1.26113432 | -0.2903337 | 0.5160625 | 0.4702585 | 0.6899355 |  2.0908705 | Igneous |\n",
       "|  0.06306853 | -0.5793004 | 2.2570273 | 2.2167252 | 2.7991384 |  1.3933180 | Igneous |\n",
       "| -0.05599390 | -0.5793004 | 1.4967922 | 1.3232487 | 2.0854390 | -0.6186767 | Igneous |\n",
       "| ⋮ | ⋮ | ⋮ | ⋮ | ⋮ | ⋮ | ⋮ |\n",
       "| -0.7331615 | -0.5270237 | -0.5599272 | -0.7587260 | 1.509112 | -0.8781379 | Metamorphic |\n",
       "|  0.2193380 | -1.0033278 | -0.2911988 | -0.9925768 | 1.602735 |  0.6789936 | Metamorphic |\n",
       "|  0.3681660 | -0.3888765 |  2.2293905 |  2.2759316 | 3.674351 |  1.0577155 | Metamorphic |\n",
       "\n"
      ],
      "text/plain": [
       "    density     porosity   MS         NRM        RES       chargeability\n",
       "1    1.26113432 -0.2903337 0.5160625  0.4702585  0.6899355  2.0908705   \n",
       "2    0.06306853 -0.5793004 2.2570273  2.2167252  2.7991384  1.3933180   \n",
       "3   -0.05599390 -0.5793004 1.4967922  1.3232487  2.0854390 -0.6186767   \n",
       "⋮   ⋮           ⋮          ⋮          ⋮          ⋮         ⋮            \n",
       "911 -0.7331615  -0.5270237 -0.5599272 -0.7587260 1.509112  -0.8781379   \n",
       "912  0.2193380  -1.0033278 -0.2911988 -0.9925768 1.602735   0.6789936   \n",
       "913  0.3681660  -0.3888765  2.2293905  2.2759316 3.674351   1.0577155   \n",
       "    lithology  \n",
       "1   Igneous    \n",
       "2   Igneous    \n",
       "3   Igneous    \n",
       "⋮   ⋮          \n",
       "911 Metamorphic\n",
       "912 Metamorphic\n",
       "913 Metamorphic"
      ]
     },
     "metadata": {},
     "output_type": "display_data"
    },
    {
     "name": "stderr",
     "output_type": "stream",
     "text": [
      "`summarise()` ungrouping output (override with `.groups` argument)\n",
      "\n"
     ]
    },
    {
     "data": {
      "text/html": [
       "<table>\n",
       "<caption>A tibble: 3 × 2</caption>\n",
       "<thead>\n",
       "\t<tr><th scope=col>lithology</th><th scope=col>n</th></tr>\n",
       "\t<tr><th scope=col>&lt;fct&gt;</th><th scope=col>&lt;int&gt;</th></tr>\n",
       "</thead>\n",
       "<tbody>\n",
       "\t<tr><td>Igneous    </td><td>559</td></tr>\n",
       "\t<tr><td>Metamorphic</td><td>559</td></tr>\n",
       "\t<tr><td>Sedimentary</td><td>559</td></tr>\n",
       "</tbody>\n",
       "</table>\n"
      ],
      "text/latex": [
       "A tibble: 3 × 2\n",
       "\\begin{tabular}{ll}\n",
       " lithology & n\\\\\n",
       " <fct> & <int>\\\\\n",
       "\\hline\n",
       "\t Igneous     & 559\\\\\n",
       "\t Metamorphic & 559\\\\\n",
       "\t Sedimentary & 559\\\\\n",
       "\\end{tabular}\n"
      ],
      "text/markdown": [
       "\n",
       "A tibble: 3 × 2\n",
       "\n",
       "| lithology &lt;fct&gt; | n &lt;int&gt; |\n",
       "|---|---|\n",
       "| Igneous     | 559 |\n",
       "| Metamorphic | 559 |\n",
       "| Sedimentary | 559 |\n",
       "\n"
      ],
      "text/plain": [
       "  lithology   n  \n",
       "1 Igneous     559\n",
       "2 Metamorphic 559\n",
       "3 Sedimentary 559"
      ]
     },
     "metadata": {},
     "output_type": "display_data"
    }
   ],
   "source": [
    "# balance and upsample\n",
    "\n",
    "# library(themis)\n",
    "\n",
    "\n",
    "\n",
    "training_recipe <- recipe(lithology ~ ., data = data_train) %>%\n",
    "     step_upsample(lithology, over_ratio = 1, skip = FALSE) %>%\n",
    "     step_log(porosity, MS, NRM, RES, chargeability) %>%\n",
    "     step_scale(all_predictors()) %>%\n",
    "     step_center(all_predictors())\n",
    "     #prep()\n",
    "\n",
    "training_recipe\n",
    "\n",
    "\n",
    "\n",
    "training_recipe_2 <- recipe(lithology ~ ., data = data_train) %>%\n",
    "#      step_upsample(lithology, over_ratio = 1, skip = FALSE) %>%\n",
    "     step_log(porosity, MS, NRM, RES, chargeability) %>%\n",
    "     step_scale(all_predictors()) %>%\n",
    "     step_center(all_predictors())\n",
    "     #prep()\n",
    "\n",
    "training_recipe_2 \n",
    "\n",
    "\n",
    "\n",
    "data_trained <- training_recipe %>%\n",
    "    prep() %>%\n",
    "    bake(data_train) %>%\n",
    "    filter(!is.na(lithology))\n",
    "\n",
    "data_trained_2 <- training_recipe_2 %>%\n",
    "    prep() %>%\n",
    "    bake(data_train) %>%\n",
    "    filter(!is.na(lithology))\n",
    "\n",
    "data_trained\n",
    "data_trained_2\n",
    "\n",
    "\n",
    "\n",
    "data_trained %>% \n",
    "    group_by(lithology) %>%\n",
    "    summarize(n = n())"
   ]
  },
  {
   "cell_type": "markdown",
   "metadata": {},
   "source": [
    "## Hi Naijide: try vfold on data_trained and data_trained_2, see if upsample really increase the accuracy \n",
    "## then change recipe from all_predictors to just the two predictors  \n",
    "  \n",
    "  \n",
    "## I personally as a geologist, I think these two predictors are closely related to rock type, and use two predictor will be easy on the final visuallization \n",
    "## but, who knows, if just two_predictors significantly lower the accuracy compares to all_predictors(), then try add a third one (start with )\n"
   ]
  },
  {
   "cell_type": "code",
   "execution_count": 7,
   "metadata": {},
   "outputs": [
    {
     "name": "stderr",
     "output_type": "stream",
     "text": [
      "\u001b[33m!\u001b[39m \u001b[33mFold1: recipe: NaNs produced\u001b[39m\n",
      "\n",
      "\u001b[33m!\u001b[39m \u001b[33mFold1: model 1/1 (predictions): NaNs produced\u001b[39m\n",
      "\n",
      "\u001b[31mx\u001b[39m \u001b[31mFold1: model 1/1 (predictions): Error: Problem with `mutate()` input `.row`.\n",
      "\u001b[...\u001b[39m\n",
      "\n",
      "\u001b[33m!\u001b[39m \u001b[33mFold2: recipe: NaNs produced\u001b[39m\n",
      "\n",
      "\u001b[33m!\u001b[39m \u001b[33mFold2: model 1/1 (predictions): NaNs produced\u001b[39m\n",
      "\n",
      "\u001b[31mx\u001b[39m \u001b[31mFold2: model 1/1 (predictions): Error: Problem with `mutate()` input `.row`.\n",
      "\u001b[...\u001b[39m\n",
      "\n",
      "\u001b[33m!\u001b[39m \u001b[33mFold3: recipe: NaNs produced\u001b[39m\n",
      "\n",
      "\u001b[33m!\u001b[39m \u001b[33mFold3: model 1/1 (predictions): NaNs produced\u001b[39m\n",
      "\n",
      "\u001b[31mx\u001b[39m \u001b[31mFold3: model 1/1 (predictions): Error: Problem with `mutate()` input `.row`.\n",
      "\u001b[...\u001b[39m\n",
      "\n",
      "\u001b[33m!\u001b[39m \u001b[33mFold4: recipe: NaNs produced\u001b[39m\n",
      "\n",
      "\u001b[33m!\u001b[39m \u001b[33mFold4: model 1/1 (predictions): NaNs produced\u001b[39m\n",
      "\n",
      "\u001b[31mx\u001b[39m \u001b[31mFold4: model 1/1 (predictions): Error: Problem with `mutate()` input `.row`.\n",
      "\u001b[...\u001b[39m\n",
      "\n",
      "\u001b[33m!\u001b[39m \u001b[33mFold5: recipe: NaNs produced\u001b[39m\n",
      "\n",
      "\u001b[33m!\u001b[39m \u001b[33mFold5: model 1/1 (predictions): NaNs produced\u001b[39m\n",
      "\n",
      "\u001b[31mx\u001b[39m \u001b[31mFold5: model 1/1 (predictions): Error: Problem with `mutate()` input `.row`.\n",
      "\u001b[...\u001b[39m\n",
      "\n",
      "Warning message:\n",
      "“All models failed in tune_grid(). See the `.notes` column.”\n"
     ]
    },
    {
     "ename": "ERROR",
     "evalue": "Error: All of the models failed. See the .notes column.\n",
     "output_type": "error",
     "traceback": [
      "Error: All of the models failed. See the .notes column.\nTraceback:\n",
      "1. workflow() %>% add_recipe(training_recipe) %>% add_model(knn_tune) %>% \n .     tune_grid(resamples = training_vfold, grid = 10) %>% collect_metrics()",
      "2. withVisible(eval(quote(`_fseq`(`_lhs`)), env, env))",
      "3. eval(quote(`_fseq`(`_lhs`)), env, env)",
      "4. eval(quote(`_fseq`(`_lhs`)), env, env)",
      "5. `_fseq`(`_lhs`)",
      "6. freduce(value, `_function_list`)",
      "7. withVisible(function_list[[k]](value))",
      "8. function_list[[k]](value)",
      "9. collect_metrics(.)",
      "10. estimate_tune_results(x)",
      "11. rlang::abort(\"All of the models failed. See the .notes column.\")",
      "12. signal_abort(cnd)"
     ]
    }
   ],
   "source": [
    "\n",
    "training_vfold <- vfold_cv(data_trained, v = 5, strata = lithology)\n",
    "\n",
    "knn_tune <- nearest_neighbor(weight_func = \"rectangular\", neighbors = tune()) %>%\n",
    "       set_engine(\"kknn\") %>%\n",
    "       set_mode(\"classification\")\n",
    "\n",
    "knn_results <- workflow() %>%\n",
    "       add_recipe(training_recipe) %>%\n",
    "       add_model(knn_tune) %>%\n",
    "       tune_grid(resamples = training_vfold, grid = 10) %>%\n",
    "       collect_metrics()\n",
    "\n"
   ]
  },
  {
   "cell_type": "code",
   "execution_count": null,
   "metadata": {},
   "outputs": [],
   "source": []
  },
  {
   "cell_type": "code",
   "execution_count": null,
   "metadata": {},
   "outputs": [],
   "source": []
  },
  {
   "cell_type": "code",
   "execution_count": null,
   "metadata": {},
   "outputs": [],
   "source": []
  },
  {
   "cell_type": "markdown",
   "metadata": {},
   "source": [
    "  \n",
    "In the next step, we visualized the data in a scatter plot of resistivity vs porosity as predictors and colored the rock categories.  \n",
    "\n",
    "\n",
    "### New from Yun: \n",
    "\n",
    "#### Now, we can proper visualize data without using any log() or scale_log() functions "
   ]
  },
  {
   "cell_type": "code",
   "execution_count": null,
   "metadata": {},
   "outputs": [],
   "source": [
    "options(repr.plot.width = 15, repr.plot.height = 8)\n",
    "initial_graph <- data_train %>%\n",
    "#     ggplot(aes(x = porosity, y = RES, color = lithology)) +\n",
    "#      scale_x_log10(labels = comma) +\n",
    "#      scale_y_log10(labels = comma) +\n",
    "#    ggplot(aes(x = log(porosity), y = log(RES), color = lithology)) +\n",
    "   ggplot(aes(x = porosity, y = RES, color = lithology)) +\n",
    "    geom_point() +\n",
    "    facet_grid(. ~ lithology) +\n",
    "    labs(title = \"The relationship between Resistivity and Porosity under three Lithology type\", x = \"Porosity [%]\", y = \"Resistivity [ohm.m]\") +\n",
    "    theme(text = element_text(size = 20), plot.title = element_text(hjust = 0.5))\n",
    "\n",
    "initial_graph\n",
    "\n",
    "\n",
    "\n",
    "current_graph <- data_trained %>%\n",
    "     ggplot(aes(x = porosity, y = RES, color = lithology)) +\n",
    "#    ggplot(aes(x = log(porosity), y = log(RES), color = lithology)) +\n",
    "#      scale_x_continuous(limits = c(-10, 10)) + \n",
    "#      scale_y_continuous(limits = c(-10, 10)) + \n",
    "#      scale_x_log10(labels = comma) +\n",
    "#      scale_y_log10(labels = comma) +\n",
    "    geom_point() +\n",
    "     facet_grid(. ~ lithology) +\n",
    "    labs(title = \"The relationship between Resistivity and Porosity under three Lithology type\", x = \"Porosity [%]\", y = \"Resistivity [ohm.m]\") +\n",
    "    theme(text = element_text(size = 20), plot.title = element_text(hjust = 0.5))\n",
    "\n",
    "current_graph "
   ]
  },
  {
   "cell_type": "markdown",
   "metadata": {},
   "source": [
    "### Methodology\n",
    "From the 84 columns in the raw data, we select and rename the 8 columns we need. They are: sample type, lithology, grain density, dry bulk density, saturated bulk density, porosity, magnetic susceptibility, natural remanent magnetization, electric resistivity and induced polarization chargeability.  \n",
    " \n",
    "Since Sample type and lithology are categorical variables, we mutate their column type into factor. We then filter the data and only keep the ones with “borehole” sample type and exclude the observation with no specific rock type (\"Other\"). We split the data into training sets and testing sets and perform an initial analysis on the training set.  \n",
    "  \n",
    "The group predicted that resistivity is inversely related to porosity, because the fluid that fills in the pores is generally more conductive than rock itself. The group also want to see if porosity and resistivity alone are sufficient to predict the rock type.  \n",
    "  "
   ]
  },
  {
   "cell_type": "markdown",
   "metadata": {},
   "source": [
    "### Preliminary Result \n",
    "  \n",
    "We observed that there is a linear relationship because the points on the scatterplot resemble close to a straight line. The two variables have a weak negative association when the lithology is Igneous because the points are more spread across the graph. There is a moderately strong negative association in the graph for Metamorphic and Sedimentary because as the percentage of Porosity increases, the Resistivity decreases.\n",
    "\n",
    "The primary data analysis confirmed that there is a weak negative linear relationship between the two factors. However, in the primary visualization, the classification of rock types based on only these two factors are not as distinctive as we imagined.   \n",
    "  \n",
    "The group will continue the model building with other necessary steps including standardization or add multiple predictors into the training set in the next step of the project development.   \n",
    "  \n",
    "If successful, our model can be used to predict rock formation in an underground setting where human accessibility is limited and only accessible by data acquisition equipment.  \n",
    "  \n",
    "\n"
   ]
  },
  {
   "cell_type": "markdown",
   "metadata": {},
   "source": [
    "### References\n",
    "Enkin, R.J., 2018. Canadian rock physical property database: first public release; Geological Survey of Canada, Open File 8460, 1 .zip file. https://doi.org/10.4095/313389\n",
    "\n"
   ]
  }
 ],
 "metadata": {
  "kernelspec": {
   "display_name": "R",
   "language": "R",
   "name": "ir"
  },
  "language_info": {
   "codemirror_mode": "r",
   "file_extension": ".r",
   "mimetype": "text/x-r-source",
   "name": "R",
   "pygments_lexer": "r",
   "version": "4.0.0"
  }
 },
 "nbformat": 4,
 "nbformat_minor": 5
}
