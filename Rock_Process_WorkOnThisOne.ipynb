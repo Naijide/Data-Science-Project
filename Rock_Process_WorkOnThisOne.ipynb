{
 "cells": [
  {
   "cell_type": "code",
   "execution_count": 6,
   "metadata": {},
   "outputs": [],
   "source": [
    "library(tidyverse)\n",
    "library(repr)\n",
    "library(tidymodels)\n",
    "library(GGally)\n",
    "options(repr.matrix.max.rows = 6)\n",
    "set.seed(100)"
   ]
  },
  {
   "cell_type": "markdown",
   "metadata": {},
   "source": [
    "# Read Me:\n",
    "\n",
    "\n",
    "## comment from Trevor:\n",
    "### 1. tansfrom the predictors showing huge range into log scale before any other recipe steps. Check if there is any built in log special step in recipe? \n",
    "\n",
    "  \n",
    "### 2. Do you need to upsample? it is not super unbalanced \n",
    "### - use cross-validation to compare K = 1, 2, 3, ... \n",
    "### - then compare accuracy on the data without upsample and with upsample, see if upsample really improve the result. "
   ]
  },
  {
   "cell_type": "code",
   "execution_count": null,
   "metadata": {},
   "outputs": [],
   "source": []
  },
  {
   "cell_type": "code",
   "execution_count": null,
   "metadata": {},
   "outputs": [],
   "source": []
  },
  {
   "cell_type": "markdown",
   "metadata": {},
   "source": [
    "### Rock Physical Properties and Rock Type \n",
    "**DSCI 100 Project Final Report\n",
    "**Group 4: Naijide Anwaer, Maggie Ruan, Yun Xing  \n",
    "Date: December 05, 2021**\n"
   ]
  },
  {
   "cell_type": "markdown",
   "metadata": {},
   "source": [
    "### Introduction \n",
    "The purpose of this project proposal is to provide an overview of the rock petrophysical data process project. This proposal introduces the rock properties database, illustrates the exploratory data analysis, explains the methodology, and discusses the expected outcome of this project.  \n",
    " \n",
    "The Canadian Rock Physical Property Database (CRPPD) includes rock petrophysical measurements on over 20,000 observations collected during the last 40 years. The rock measurements available in this database are density, porosity, resistivity etc.. Geographically, observations are categorized into different sample types including outcrop, subcrop, hand sample, and borehole sample. Geologically, observations are categorized into different rock types including igneous, sedimentary, and metamorphic, the three fundamental rock types.  \n",
    "\n",
    "The group intends to study the relationship between the rock petrophysical measurements and the three fundamental rock types, and to answer a classification problem: given the physical properties data, whether the rock will be igneous, sedimentary, or metamorphic.   \n",
    "\n",
    "The classifier model will be useful in the situation where the physical property data are available while the rock type is unclassified. An example of this will be in diamond drillholes (sample type: Borehole), where not all the rock core in the borehole are brought up to the surface for visual examination. As a result, the group decided to perform the data analysis with the focus on data categorized under sample type borehole.\n",
    "\n"
   ]
  },
  {
   "cell_type": "markdown",
   "metadata": {},
   "source": [
    "### Preliminary Analysis\n",
    "The preliminary data are obtained as a zip file from the Government of Canada, Natural Resources Canada website. Upon unzipping the file and bringing the original excel file into Jupiter notebook for R processing, the group noticed that R encountered a runtime error.  \n",
    " \n",
    "Indicated by read_* documentation, the column type will be imputed from the first 1000 rows on the input file. As the top 1000 data in this excel mostly contains NULL values, R automatically assigned “col_logical” as the column type for most of the columns. However, this column type conflicts with the majority of the other observations, which contain numerical values.    \n",
    " \n",
    "To solve this issue, the group decides to sort the observations in excel before importing into Jupiter. We relocated the columns with no missing data to the top of the file, and R successfully created columns with the proper type “col_double” and no error was thrown. The following code demonstrates the steps of data import:\n"
   ]
  },
  {
   "cell_type": "code",
   "execution_count": 7,
   "metadata": {},
   "outputs": [
    {
     "name": "stderr",
     "output_type": "stream",
     "text": [
      "Parsed with column specification:\n",
      "cols(\n",
      "  .default = col_character(),\n",
      "  `Date Mapped (yyyy/mm/dd) *` = \u001b[32mcol_double()\u001b[39m,\n",
      "  `Lat Deg` = \u001b[32mcol_double()\u001b[39m,\n",
      "  `Long Deg` = \u001b[32mcol_double()\u001b[39m,\n",
      "  `UTM zone` = \u001b[32mcol_double()\u001b[39m,\n",
      "  Easting = \u001b[32mcol_double()\u001b[39m,\n",
      "  Northing = \u001b[32mcol_double()\u001b[39m,\n",
      "  `Method Precision (m)*` = \u001b[32mcol_double()\u001b[39m,\n",
      "  `Year *` = \u001b[32mcol_double()\u001b[39m,\n",
      "  `Lab Date` = \u001b[32mcol_double()\u001b[39m,\n",
      "  `GRAIN DEN Sample Value [g/cm3]` = \u001b[32mcol_double()\u001b[39m,\n",
      "  `DRY BULK DEN Sample Value [g/cm3]` = \u001b[32mcol_double()\u001b[39m,\n",
      "  `SAT BULK DEN Sample Value [g/cm3]` = \u001b[32mcol_double()\u001b[39m,\n",
      "  `POR Sample Value [%]` = \u001b[32mcol_double()\u001b[39m,\n",
      "  `MS Sample Value [SI A/m / A/m]` = \u001b[32mcol_double()\u001b[39m,\n",
      "  `NRM Sample Value [A/m]` = \u001b[32mcol_double()\u001b[39m,\n",
      "  `KN50 Sample Value` = \u001b[32mcol_double()\u001b[39m,\n",
      "  `Local Field [uT]` = \u001b[32mcol_double()\u001b[39m,\n",
      "  KN = \u001b[32mcol_double()\u001b[39m,\n",
      "  `RES Sample Value [Ohm.m]` = \u001b[32mcol_double()\u001b[39m,\n",
      "  `CHG Sample Value [ms]` = \u001b[32mcol_double()\u001b[39m\n",
      ")\n",
      "\n",
      "See spec(...) for full column specifications.\n",
      "\n"
     ]
    }
   ],
   "source": [
    "url <- \"https://raw.githubusercontent.com/yxing6/DSCI_100_Project_Group4/main/data/of_8460_database.csv\"\n",
    "# download.file(url, destfile = \"rock_physical_properties.csv\")\n",
    "# rock_data_raw <- read_csv(\"rock_physical_properties.csv\")\n",
    "\n",
    "rock_data_raw <- read_csv(url)\n",
    "\n",
    "# glimpse(rock_data_all)"
   ]
  },
  {
   "cell_type": "markdown",
   "metadata": {},
   "source": [
    "  \n",
    "The following codes demonstrate the steps of data cleaning and wrangling into a tidy format:  \n",
    "  "
   ]
  },
  {
   "cell_type": "code",
   "execution_count": 9,
   "metadata": {},
   "outputs": [
    {
     "data": {
      "text/html": [
       "<table>\n",
       "<caption>A tibble: 1404 × 8</caption>\n",
       "<thead>\n",
       "\t<tr><th scope=col>sample_type</th><th scope=col>lithology</th><th scope=col>density</th><th scope=col>porosity</th><th scope=col>MS</th><th scope=col>NRM</th><th scope=col>RES</th><th scope=col>chargeability</th></tr>\n",
       "\t<tr><th scope=col>&lt;fct&gt;</th><th scope=col>&lt;fct&gt;</th><th scope=col>&lt;dbl&gt;</th><th scope=col>&lt;dbl&gt;</th><th scope=col>&lt;dbl&gt;</th><th scope=col>&lt;dbl&gt;</th><th scope=col>&lt;dbl&gt;</th><th scope=col>&lt;dbl&gt;</th></tr>\n",
       "</thead>\n",
       "<tbody>\n",
       "\t<tr><td>Borehole</td><td>Igneous</td><td>2.931</td><td>0.41</td><td>0.00118</td><td>0.029</td><td>  7960</td><td>46.4</td></tr>\n",
       "\t<tr><td>Borehole</td><td>Igneous</td><td>2.770</td><td>0.28</td><td>0.07900</td><td>4.810</td><td>135000</td><td>19.5</td></tr>\n",
       "\t<tr><td>Borehole</td><td>Igneous</td><td>2.754</td><td>0.28</td><td>0.01260</td><td>0.352</td><td> 51800</td><td> 1.6</td></tr>\n",
       "\t<tr><td>⋮</td><td>⋮</td><td>⋮</td><td>⋮</td><td>⋮</td><td>⋮</td><td>⋮</td><td>⋮</td></tr>\n",
       "\t<tr><td>Borehole</td><td>Metamorphic</td><td>2.665</td><td>0.08</td><td>    NA</td><td>  NA</td><td> 91800</td><td> 3.868</td></tr>\n",
       "\t<tr><td>Borehole</td><td>Metamorphic</td><td>2.641</td><td>0.09</td><td>    NA</td><td>  NA</td><td> 67800</td><td> 1.388</td></tr>\n",
       "\t<tr><td>Borehole</td><td>Metamorphic</td><td>2.811</td><td>0.36</td><td>0.0739</td><td>5.72</td><td>437000</td><td>12.850</td></tr>\n",
       "</tbody>\n",
       "</table>\n"
      ],
      "text/latex": [
       "A tibble: 1404 × 8\n",
       "\\begin{tabular}{llllllll}\n",
       " sample\\_type & lithology & density & porosity & MS & NRM & RES & chargeability\\\\\n",
       " <fct> & <fct> & <dbl> & <dbl> & <dbl> & <dbl> & <dbl> & <dbl>\\\\\n",
       "\\hline\n",
       "\t Borehole & Igneous & 2.931 & 0.41 & 0.00118 & 0.029 &   7960 & 46.4\\\\\n",
       "\t Borehole & Igneous & 2.770 & 0.28 & 0.07900 & 4.810 & 135000 & 19.5\\\\\n",
       "\t Borehole & Igneous & 2.754 & 0.28 & 0.01260 & 0.352 &  51800 &  1.6\\\\\n",
       "\t ⋮ & ⋮ & ⋮ & ⋮ & ⋮ & ⋮ & ⋮ & ⋮\\\\\n",
       "\t Borehole & Metamorphic & 2.665 & 0.08 &     NA &   NA &  91800 &  3.868\\\\\n",
       "\t Borehole & Metamorphic & 2.641 & 0.09 &     NA &   NA &  67800 &  1.388\\\\\n",
       "\t Borehole & Metamorphic & 2.811 & 0.36 & 0.0739 & 5.72 & 437000 & 12.850\\\\\n",
       "\\end{tabular}\n"
      ],
      "text/markdown": [
       "\n",
       "A tibble: 1404 × 8\n",
       "\n",
       "| sample_type &lt;fct&gt; | lithology &lt;fct&gt; | density &lt;dbl&gt; | porosity &lt;dbl&gt; | MS &lt;dbl&gt; | NRM &lt;dbl&gt; | RES &lt;dbl&gt; | chargeability &lt;dbl&gt; |\n",
       "|---|---|---|---|---|---|---|---|\n",
       "| Borehole | Igneous | 2.931 | 0.41 | 0.00118 | 0.029 |   7960 | 46.4 |\n",
       "| Borehole | Igneous | 2.770 | 0.28 | 0.07900 | 4.810 | 135000 | 19.5 |\n",
       "| Borehole | Igneous | 2.754 | 0.28 | 0.01260 | 0.352 |  51800 |  1.6 |\n",
       "| ⋮ | ⋮ | ⋮ | ⋮ | ⋮ | ⋮ | ⋮ | ⋮ |\n",
       "| Borehole | Metamorphic | 2.665 | 0.08 |     NA |   NA |  91800 |  3.868 |\n",
       "| Borehole | Metamorphic | 2.641 | 0.09 |     NA |   NA |  67800 |  1.388 |\n",
       "| Borehole | Metamorphic | 2.811 | 0.36 | 0.0739 | 5.72 | 437000 | 12.850 |\n",
       "\n"
      ],
      "text/plain": [
       "     sample_type lithology   density porosity MS      NRM   RES   \n",
       "1    Borehole    Igneous     2.931   0.41     0.00118 0.029   7960\n",
       "2    Borehole    Igneous     2.770   0.28     0.07900 4.810 135000\n",
       "3    Borehole    Igneous     2.754   0.28     0.01260 0.352  51800\n",
       "⋮    ⋮           ⋮           ⋮       ⋮        ⋮       ⋮     ⋮     \n",
       "1402 Borehole    Metamorphic 2.665   0.08         NA    NA   91800\n",
       "1403 Borehole    Metamorphic 2.641   0.09         NA    NA   67800\n",
       "1404 Borehole    Metamorphic 2.811   0.36     0.0739  5.72  437000\n",
       "     chargeability\n",
       "1    46.4         \n",
       "2    19.5         \n",
       "3     1.6         \n",
       "⋮    ⋮            \n",
       "1402  3.868       \n",
       "1403  1.388       \n",
       "1404 12.850       "
      ]
     },
     "metadata": {},
     "output_type": "display_data"
    },
    {
     "data": {
      "text/html": [
       "<table>\n",
       "<caption>A tibble: 1215 × 7</caption>\n",
       "<thead>\n",
       "\t<tr><th scope=col>lithology</th><th scope=col>density</th><th scope=col>porosity</th><th scope=col>MS</th><th scope=col>NRM</th><th scope=col>RES</th><th scope=col>chargeability</th></tr>\n",
       "\t<tr><th scope=col>&lt;fct&gt;</th><th scope=col>&lt;dbl&gt;</th><th scope=col>&lt;dbl&gt;</th><th scope=col>&lt;dbl&gt;</th><th scope=col>&lt;dbl&gt;</th><th scope=col>&lt;dbl&gt;</th><th scope=col>&lt;dbl&gt;</th></tr>\n",
       "</thead>\n",
       "<tbody>\n",
       "\t<tr><td>Igneous</td><td>2.931</td><td>0.41</td><td>0.00118</td><td>0.029</td><td>  7960</td><td>46.4</td></tr>\n",
       "\t<tr><td>Igneous</td><td>2.770</td><td>0.28</td><td>0.07900</td><td>4.810</td><td>135000</td><td>19.5</td></tr>\n",
       "\t<tr><td>Igneous</td><td>2.754</td><td>0.28</td><td>0.01260</td><td>0.352</td><td> 51800</td><td> 1.6</td></tr>\n",
       "\t<tr><td>⋮</td><td>⋮</td><td>⋮</td><td>⋮</td><td>⋮</td><td>⋮</td><td>⋮</td></tr>\n",
       "\t<tr><td>Metamorphic</td><td>2.660</td><td>0.34</td><td>-7.08e-06</td><td>0.000162</td><td> 18600</td><td> 1.015</td></tr>\n",
       "\t<tr><td>Metamorphic</td><td>2.791</td><td>0.16</td><td> 1.68e-04</td><td>0.000401</td><td> 27100</td><td> 8.026</td></tr>\n",
       "\t<tr><td>Metamorphic</td><td>2.811</td><td>0.36</td><td> 7.39e-02</td><td>5.720000</td><td>437000</td><td>12.850</td></tr>\n",
       "</tbody>\n",
       "</table>\n"
      ],
      "text/latex": [
       "A tibble: 1215 × 7\n",
       "\\begin{tabular}{lllllll}\n",
       " lithology & density & porosity & MS & NRM & RES & chargeability\\\\\n",
       " <fct> & <dbl> & <dbl> & <dbl> & <dbl> & <dbl> & <dbl>\\\\\n",
       "\\hline\n",
       "\t Igneous & 2.931 & 0.41 & 0.00118 & 0.029 &   7960 & 46.4\\\\\n",
       "\t Igneous & 2.770 & 0.28 & 0.07900 & 4.810 & 135000 & 19.5\\\\\n",
       "\t Igneous & 2.754 & 0.28 & 0.01260 & 0.352 &  51800 &  1.6\\\\\n",
       "\t ⋮ & ⋮ & ⋮ & ⋮ & ⋮ & ⋮ & ⋮\\\\\n",
       "\t Metamorphic & 2.660 & 0.34 & -7.08e-06 & 0.000162 &  18600 &  1.015\\\\\n",
       "\t Metamorphic & 2.791 & 0.16 &  1.68e-04 & 0.000401 &  27100 &  8.026\\\\\n",
       "\t Metamorphic & 2.811 & 0.36 &  7.39e-02 & 5.720000 & 437000 & 12.850\\\\\n",
       "\\end{tabular}\n"
      ],
      "text/markdown": [
       "\n",
       "A tibble: 1215 × 7\n",
       "\n",
       "| lithology &lt;fct&gt; | density &lt;dbl&gt; | porosity &lt;dbl&gt; | MS &lt;dbl&gt; | NRM &lt;dbl&gt; | RES &lt;dbl&gt; | chargeability &lt;dbl&gt; |\n",
       "|---|---|---|---|---|---|---|\n",
       "| Igneous | 2.931 | 0.41 | 0.00118 | 0.029 |   7960 | 46.4 |\n",
       "| Igneous | 2.770 | 0.28 | 0.07900 | 4.810 | 135000 | 19.5 |\n",
       "| Igneous | 2.754 | 0.28 | 0.01260 | 0.352 |  51800 |  1.6 |\n",
       "| ⋮ | ⋮ | ⋮ | ⋮ | ⋮ | ⋮ | ⋮ |\n",
       "| Metamorphic | 2.660 | 0.34 | -7.08e-06 | 0.000162 |  18600 |  1.015 |\n",
       "| Metamorphic | 2.791 | 0.16 |  1.68e-04 | 0.000401 |  27100 |  8.026 |\n",
       "| Metamorphic | 2.811 | 0.36 |  7.39e-02 | 5.720000 | 437000 | 12.850 |\n",
       "\n"
      ],
      "text/plain": [
       "     lithology   density porosity MS        NRM      RES    chargeability\n",
       "1    Igneous     2.931   0.41     0.00118   0.029      7960 46.4         \n",
       "2    Igneous     2.770   0.28     0.07900   4.810    135000 19.5         \n",
       "3    Igneous     2.754   0.28     0.01260   0.352     51800  1.6         \n",
       "⋮    ⋮           ⋮       ⋮        ⋮         ⋮        ⋮      ⋮            \n",
       "1213 Metamorphic 2.660   0.34     -7.08e-06 0.000162  18600  1.015       \n",
       "1214 Metamorphic 2.791   0.16      1.68e-04 0.000401  27100  8.026       \n",
       "1215 Metamorphic 2.811   0.36      7.39e-02 5.720000 437000 12.850       "
      ]
     },
     "metadata": {},
     "output_type": "display_data"
    }
   ],
   "source": [
    "borehole_data_raw <- rock_data_raw %>% \n",
    "    select(\"Location Type *\", \"MIRA Master Litho 1\", \"GRAIN DEN Sample Value [g/cm3]\",\n",
    "           \"POR Sample Value [%]\",\"MS Sample Value [SI A/m / A/m]\",\n",
    "           \"NRM Sample Value [A/m]\",\"RES Sample Value [Ohm.m]\",\"CHG Sample Value [ms]\") %>%\n",
    "    rename(\"sample_type\" = \"Location Type *\",\n",
    "          \"lithology\" = \"MIRA Master Litho 1\",\n",
    "           \"density\" = \"GRAIN DEN Sample Value [g/cm3]\",\n",
    "           \"porosity\" = \"POR Sample Value [%]\",\n",
    "           \"MS\" = \"MS Sample Value [SI A/m / A/m]\",\n",
    "           \"NRM\" = \"NRM Sample Value [A/m]\",\n",
    "           \"RES\" = \"RES Sample Value [Ohm.m]\",\n",
    "           \"chargeability\" = \"CHG Sample Value [ms]\") %>%\n",
    "    filter(lithology != \"Other\", sample_type == \"Borehole\") %>%\n",
    "    mutate(sample_type = as_factor(sample_type),\n",
    "          lithology = as_factor(lithology))\n",
    "    \n",
    "\n",
    "borehole_data_raw\n",
    "\n",
    "# column units:\n",
    "# density[g/cm3]\n",
    "# porosity[%]\n",
    "# MS[m3/kg]\n",
    "# NRM[A/m]\n",
    "# RES[Ohm.m]\n",
    "# chargeability[ms]\n",
    "\n",
    "#!is.na(col)\n",
    "\n",
    "# currently omiting all NA data \n",
    "# if later on decide on specific predictors, only omit NA on those variables \n",
    "# e.g. na.omit(borehole_data[1:3])\n",
    "\n",
    "\n",
    "borehole_data_unscaled <- na.omit(borehole_data_raw) %>%\n",
    "    select(-sample_type)\n",
    "\n",
    "borehole_data_unscaled"
   ]
  },
  {
   "cell_type": "markdown",
   "metadata": {},
   "source": [
    "\n",
    "We then split the data into training and testing sets.  \n",
    "  \n",
    "Using only the training set, we built a table that consists the mean values of each predictors for each category.  \n",
    "\n",
    "### NEW from YUN \n",
    "### We furthur computed the (range difference over mean) to see if we need to perform log transformation for any of the predictors. \n",
    "### table included below:\n",
    "\n",
    "  "
   ]
  },
  {
   "cell_type": "code",
   "execution_count": 12,
   "metadata": {},
   "outputs": [
    {
     "name": "stderr",
     "output_type": "stream",
     "text": [
      "`summarise()` ungrouping output (override with `.groups` argument)\n",
      "\n"
     ]
    },
    {
     "data": {
      "text/html": [
       "<table>\n",
       "<caption>A tibble: 3 × 8</caption>\n",
       "<thead>\n",
       "\t<tr><th scope=col>lithology</th><th scope=col>n</th><th scope=col>mean_Density[g/cm3]</th><th scope=col>mean_Porosity[%]</th><th scope=col>mean_MS[m3/kg]</th><th scope=col>mean_NRM[A/m]</th><th scope=col>mean_RES[Ohm.m]</th><th scope=col>mean_Chargeability[ms]</th></tr>\n",
       "\t<tr><th scope=col>&lt;fct&gt;</th><th scope=col>&lt;int&gt;</th><th scope=col>&lt;dbl&gt;</th><th scope=col>&lt;dbl&gt;</th><th scope=col>&lt;dbl&gt;</th><th scope=col>&lt;dbl&gt;</th><th scope=col>&lt;dbl&gt;</th><th scope=col>&lt;dbl&gt;</th></tr>\n",
       "</thead>\n",
       "<tbody>\n",
       "\t<tr><td>Igneous    </td><td>213</td><td>2.789535</td><td>2.2687793</td><td>0.0219035573</td><td>1.40189862</td><td>12702.906</td><td>11.134845</td></tr>\n",
       "\t<tr><td>Metamorphic</td><td>559</td><td>2.771118</td><td>0.4513059</td><td>0.0015630911</td><td>0.51801182</td><td>10096.520</td><td> 5.917313</td></tr>\n",
       "\t<tr><td>Sedimentary</td><td>141</td><td>2.657340</td><td>6.2145390</td><td>0.0001261087</td><td>0.01746351</td><td> 3670.489</td><td> 3.892787</td></tr>\n",
       "</tbody>\n",
       "</table>\n"
      ],
      "text/latex": [
       "A tibble: 3 × 8\n",
       "\\begin{tabular}{llllllll}\n",
       " lithology & n & mean\\_Density{[}g/cm3{]} & mean\\_Porosity{[}\\%{]} & mean\\_MS{[}m3/kg{]} & mean\\_NRM{[}A/m{]} & mean\\_RES{[}Ohm.m{]} & mean\\_Chargeability{[}ms{]}\\\\\n",
       " <fct> & <int> & <dbl> & <dbl> & <dbl> & <dbl> & <dbl> & <dbl>\\\\\n",
       "\\hline\n",
       "\t Igneous     & 213 & 2.789535 & 2.2687793 & 0.0219035573 & 1.40189862 & 12702.906 & 11.134845\\\\\n",
       "\t Metamorphic & 559 & 2.771118 & 0.4513059 & 0.0015630911 & 0.51801182 & 10096.520 &  5.917313\\\\\n",
       "\t Sedimentary & 141 & 2.657340 & 6.2145390 & 0.0001261087 & 0.01746351 &  3670.489 &  3.892787\\\\\n",
       "\\end{tabular}\n"
      ],
      "text/markdown": [
       "\n",
       "A tibble: 3 × 8\n",
       "\n",
       "| lithology &lt;fct&gt; | n &lt;int&gt; | mean_Density[g/cm3] &lt;dbl&gt; | mean_Porosity[%] &lt;dbl&gt; | mean_MS[m3/kg] &lt;dbl&gt; | mean_NRM[A/m] &lt;dbl&gt; | mean_RES[Ohm.m] &lt;dbl&gt; | mean_Chargeability[ms] &lt;dbl&gt; |\n",
       "|---|---|---|---|---|---|---|---|\n",
       "| Igneous     | 213 | 2.789535 | 2.2687793 | 0.0219035573 | 1.40189862 | 12702.906 | 11.134845 |\n",
       "| Metamorphic | 559 | 2.771118 | 0.4513059 | 0.0015630911 | 0.51801182 | 10096.520 |  5.917313 |\n",
       "| Sedimentary | 141 | 2.657340 | 6.2145390 | 0.0001261087 | 0.01746351 |  3670.489 |  3.892787 |\n",
       "\n"
      ],
      "text/plain": [
       "  lithology   n   mean_Density[g/cm3] mean_Porosity[%] mean_MS[m3/kg]\n",
       "1 Igneous     213 2.789535            2.2687793        0.0219035573  \n",
       "2 Metamorphic 559 2.771118            0.4513059        0.0015630911  \n",
       "3 Sedimentary 141 2.657340            6.2145390        0.0001261087  \n",
       "  mean_NRM[A/m] mean_RES[Ohm.m] mean_Chargeability[ms]\n",
       "1 1.40189862    12702.906       11.134845             \n",
       "2 0.51801182    10096.520        5.917313             \n",
       "3 0.01746351     3670.489        3.892787             "
      ]
     },
     "metadata": {},
     "output_type": "display_data"
    },
    {
     "name": "stderr",
     "output_type": "stream",
     "text": [
      "`summarise()` ungrouping output (override with `.groups` argument)\n",
      "\n"
     ]
    },
    {
     "data": {
      "text/html": [
       "<table>\n",
       "<caption>A tibble: 3 × 7</caption>\n",
       "<thead>\n",
       "\t<tr><th scope=col>lithology</th><th scope=col>density</th><th scope=col>porosity</th><th scope=col>MS</th><th scope=col>NRM</th><th scope=col>RES</th><th scope=col>chargeability</th></tr>\n",
       "\t<tr><th scope=col>&lt;fct&gt;</th><th scope=col>&lt;dbl&gt;</th><th scope=col>&lt;dbl&gt;</th><th scope=col>&lt;dbl&gt;</th><th scope=col>&lt;dbl&gt;</th><th scope=col>&lt;dbl&gt;</th><th scope=col>&lt;dbl&gt;</th></tr>\n",
       "</thead>\n",
       "<tbody>\n",
       "\t<tr><td>Igneous    </td><td>2.448</td><td>0.01</td><td>-5.60e-06</td><td>3.95e-05</td><td> 11.0</td><td>0.001</td></tr>\n",
       "\t<tr><td>Metamorphic</td><td>2.599</td><td>0.02</td><td>-5.64e-06</td><td>2.36e-05</td><td> 27.5</td><td>0.068</td></tr>\n",
       "\t<tr><td>Sedimentary</td><td>2.586</td><td>0.24</td><td>-1.17e-05</td><td>9.20e-05</td><td>137.0</td><td>0.272</td></tr>\n",
       "</tbody>\n",
       "</table>\n"
      ],
      "text/latex": [
       "A tibble: 3 × 7\n",
       "\\begin{tabular}{lllllll}\n",
       " lithology & density & porosity & MS & NRM & RES & chargeability\\\\\n",
       " <fct> & <dbl> & <dbl> & <dbl> & <dbl> & <dbl> & <dbl>\\\\\n",
       "\\hline\n",
       "\t Igneous     & 2.448 & 0.01 & -5.60e-06 & 3.95e-05 &  11.0 & 0.001\\\\\n",
       "\t Metamorphic & 2.599 & 0.02 & -5.64e-06 & 2.36e-05 &  27.5 & 0.068\\\\\n",
       "\t Sedimentary & 2.586 & 0.24 & -1.17e-05 & 9.20e-05 & 137.0 & 0.272\\\\\n",
       "\\end{tabular}\n"
      ],
      "text/markdown": [
       "\n",
       "A tibble: 3 × 7\n",
       "\n",
       "| lithology &lt;fct&gt; | density &lt;dbl&gt; | porosity &lt;dbl&gt; | MS &lt;dbl&gt; | NRM &lt;dbl&gt; | RES &lt;dbl&gt; | chargeability &lt;dbl&gt; |\n",
       "|---|---|---|---|---|---|---|\n",
       "| Igneous     | 2.448 | 0.01 | -5.60e-06 | 3.95e-05 |  11.0 | 0.001 |\n",
       "| Metamorphic | 2.599 | 0.02 | -5.64e-06 | 2.36e-05 |  27.5 | 0.068 |\n",
       "| Sedimentary | 2.586 | 0.24 | -1.17e-05 | 9.20e-05 | 137.0 | 0.272 |\n",
       "\n"
      ],
      "text/plain": [
       "  lithology   density porosity MS        NRM      RES   chargeability\n",
       "1 Igneous     2.448   0.01     -5.60e-06 3.95e-05  11.0 0.001        \n",
       "2 Metamorphic 2.599   0.02     -5.64e-06 2.36e-05  27.5 0.068        \n",
       "3 Sedimentary 2.586   0.24     -1.17e-05 9.20e-05 137.0 0.272        "
      ]
     },
     "metadata": {},
     "output_type": "display_data"
    },
    {
     "name": "stderr",
     "output_type": "stream",
     "text": [
      "`summarise()` ungrouping output (override with `.groups` argument)\n",
      "\n"
     ]
    },
    {
     "data": {
      "text/html": [
       "<table>\n",
       "<caption>A tibble: 3 × 7</caption>\n",
       "<thead>\n",
       "\t<tr><th scope=col>lithology</th><th scope=col>density</th><th scope=col>porosity</th><th scope=col>MS</th><th scope=col>NRM</th><th scope=col>RES</th><th scope=col>chargeability</th></tr>\n",
       "\t<tr><th scope=col>&lt;fct&gt;</th><th scope=col>&lt;dbl&gt;</th><th scope=col>&lt;dbl&gt;</th><th scope=col>&lt;dbl&gt;</th><th scope=col>&lt;dbl&gt;</th><th scope=col>&lt;dbl&gt;</th><th scope=col>&lt;dbl&gt;</th></tr>\n",
       "</thead>\n",
       "<tbody>\n",
       "\t<tr><td>Igneous    </td><td>3.734</td><td>21.75</td><td>0.53900</td><td>29.80</td><td>198000</td><td> 91.04</td></tr>\n",
       "\t<tr><td>Metamorphic</td><td>3.505</td><td> 9.39</td><td>0.10300</td><td>91.70</td><td>628000</td><td>179.80</td></tr>\n",
       "\t<tr><td>Sedimentary</td><td>2.935</td><td>16.28</td><td>0.00888</td><td> 1.17</td><td> 65000</td><td> 43.10</td></tr>\n",
       "</tbody>\n",
       "</table>\n"
      ],
      "text/latex": [
       "A tibble: 3 × 7\n",
       "\\begin{tabular}{lllllll}\n",
       " lithology & density & porosity & MS & NRM & RES & chargeability\\\\\n",
       " <fct> & <dbl> & <dbl> & <dbl> & <dbl> & <dbl> & <dbl>\\\\\n",
       "\\hline\n",
       "\t Igneous     & 3.734 & 21.75 & 0.53900 & 29.80 & 198000 &  91.04\\\\\n",
       "\t Metamorphic & 3.505 &  9.39 & 0.10300 & 91.70 & 628000 & 179.80\\\\\n",
       "\t Sedimentary & 2.935 & 16.28 & 0.00888 &  1.17 &  65000 &  43.10\\\\\n",
       "\\end{tabular}\n"
      ],
      "text/markdown": [
       "\n",
       "A tibble: 3 × 7\n",
       "\n",
       "| lithology &lt;fct&gt; | density &lt;dbl&gt; | porosity &lt;dbl&gt; | MS &lt;dbl&gt; | NRM &lt;dbl&gt; | RES &lt;dbl&gt; | chargeability &lt;dbl&gt; |\n",
       "|---|---|---|---|---|---|---|\n",
       "| Igneous     | 3.734 | 21.75 | 0.53900 | 29.80 | 198000 |  91.04 |\n",
       "| Metamorphic | 3.505 |  9.39 | 0.10300 | 91.70 | 628000 | 179.80 |\n",
       "| Sedimentary | 2.935 | 16.28 | 0.00888 |  1.17 |  65000 |  43.10 |\n",
       "\n"
      ],
      "text/plain": [
       "  lithology   density porosity MS      NRM   RES    chargeability\n",
       "1 Igneous     3.734   21.75    0.53900 29.80 198000  91.04       \n",
       "2 Metamorphic 3.505    9.39    0.10300 91.70 628000 179.80       \n",
       "3 Sedimentary 2.935   16.28    0.00888  1.17  65000  43.10       "
      ]
     },
     "metadata": {},
     "output_type": "display_data"
    },
    {
     "data": {
      "text/html": [
       "<table>\n",
       "<caption>A data.frame: 3 × 7</caption>\n",
       "<thead>\n",
       "\t<tr><th scope=col>lithology</th><th scope=col>density</th><th scope=col>porosity</th><th scope=col>MS</th><th scope=col>NRM</th><th scope=col>RES</th><th scope=col>chargeability</th></tr>\n",
       "\t<tr><th scope=col>&lt;fct&gt;</th><th scope=col>&lt;dbl&gt;</th><th scope=col>&lt;dbl&gt;</th><th scope=col>&lt;dbl&gt;</th><th scope=col>&lt;dbl&gt;</th><th scope=col>&lt;dbl&gt;</th><th scope=col>&lt;dbl&gt;</th></tr>\n",
       "</thead>\n",
       "<tbody>\n",
       "\t<tr><td>Igneous    </td><td>0.5</td><td> 9.6</td><td>24.6</td><td> 21.3</td><td>15.6</td><td> 8.2</td></tr>\n",
       "\t<tr><td>Metamorphic</td><td>0.3</td><td>20.8</td><td>65.9</td><td>177.0</td><td>62.2</td><td>30.4</td></tr>\n",
       "\t<tr><td>Sedimentary</td><td>0.1</td><td> 2.6</td><td>70.5</td><td> 67.0</td><td>17.7</td><td>11.0</td></tr>\n",
       "</tbody>\n",
       "</table>\n"
      ],
      "text/latex": [
       "A data.frame: 3 × 7\n",
       "\\begin{tabular}{lllllll}\n",
       " lithology & density & porosity & MS & NRM & RES & chargeability\\\\\n",
       " <fct> & <dbl> & <dbl> & <dbl> & <dbl> & <dbl> & <dbl>\\\\\n",
       "\\hline\n",
       "\t Igneous     & 0.5 &  9.6 & 24.6 &  21.3 & 15.6 &  8.2\\\\\n",
       "\t Metamorphic & 0.3 & 20.8 & 65.9 & 177.0 & 62.2 & 30.4\\\\\n",
       "\t Sedimentary & 0.1 &  2.6 & 70.5 &  67.0 & 17.7 & 11.0\\\\\n",
       "\\end{tabular}\n"
      ],
      "text/markdown": [
       "\n",
       "A data.frame: 3 × 7\n",
       "\n",
       "| lithology &lt;fct&gt; | density &lt;dbl&gt; | porosity &lt;dbl&gt; | MS &lt;dbl&gt; | NRM &lt;dbl&gt; | RES &lt;dbl&gt; | chargeability &lt;dbl&gt; |\n",
       "|---|---|---|---|---|---|---|\n",
       "| Igneous     | 0.5 |  9.6 | 24.6 |  21.3 | 15.6 |  8.2 |\n",
       "| Metamorphic | 0.3 | 20.8 | 65.9 | 177.0 | 62.2 | 30.4 |\n",
       "| Sedimentary | 0.1 |  2.6 | 70.5 |  67.0 | 17.7 | 11.0 |\n",
       "\n"
      ],
      "text/plain": [
       "  lithology   density porosity MS   NRM   RES  chargeability\n",
       "1 Igneous     0.5      9.6     24.6  21.3 15.6  8.2         \n",
       "2 Metamorphic 0.3     20.8     65.9 177.0 62.2 30.4         \n",
       "3 Sedimentary 0.1      2.6     70.5  67.0 17.7 11.0         "
      ]
     },
     "metadata": {},
     "output_type": "display_data"
    }
   ],
   "source": [
    "borehole_data_split <- initial_split(borehole_data_unscaled, prop = 0.75, strata = lithology)\n",
    "data_train <- training(borehole_data_split)\n",
    "data_test <- testing(borehole_data_split)\n",
    "\n",
    "\n",
    "# options(repr.plot.width = 15, repr.plot.height = 15)\n",
    "# train_pairs <- data_train %>%\n",
    "#     select(\"density\":\"chargeability\") %>%\n",
    "#     ggpairs() + \n",
    "#     theme(text = element_text(size = 20))\n",
    "# train_pairs\n",
    "\n",
    "data_summary <- data_train %>%\n",
    "    group_by(lithology) %>%\n",
    "    summarize(n = n(), \n",
    "              across(density:chargeability, mean, na.rm = TRUE)) %>%\n",
    "    rename(\n",
    "        \"lithology\" = \"lithology\",\n",
    "        \"n\" = \"n\",\n",
    "        \"mean_Density[g/cm3]\" = \"density\",\n",
    "        \"mean_Porosity[%]\" = \"porosity\",\n",
    "        \"mean_MS[m3/kg]\" = \"MS\",\n",
    "        \"mean_NRM[A/m]\" = \"NRM\",\n",
    "        \"mean_RES[Ohm.m]\" = \"RES\",\n",
    "        \"mean_Chargeability[ms]\" = \"chargeability\")\n",
    "\n",
    "data_summary\n",
    "\n",
    "\n",
    "# unbalanced data \n",
    "\n",
    "\n",
    "data_min <- data_train %>%\n",
    "    group_by(lithology) %>%\n",
    "    summarize(across(density:chargeability, min, na.rm = TRUE)) # %>%\n",
    "#     rename(\n",
    "#         \"min_Density[g/cm3]\" = \"density\",\n",
    "#         \"min_Porosity[%]\" = \"porosity\",\n",
    "#         \"min_MS[m3/kg]\" = \"MS\",\n",
    "#         \"min_NRM[A/m]\" = \"NRM\",\n",
    "#         \"min_RES[Ohm.m]\" = \"RES\",\n",
    "#         \"min_Chargeability[ms]\" = \"chargeability\")\n",
    "data_min\n",
    "\n",
    "\n",
    "data_max <- data_train %>%\n",
    "    group_by(lithology) %>%\n",
    "    summarize(across(density:chargeability, max, na.rm = TRUE))  # %>%\n",
    "#     rename(\n",
    "#         \"max_Density[g/cm3]\" = \"density\",\n",
    "#         \"max_Porosity[%]\" = \"porosity\",\n",
    "#         \"max_MS[m3/kg]\" = \"MS\",\n",
    "#         \"max_NRM[A/m]\" = \"NRM\",\n",
    "#         \"max_RES[Ohm.m]\" = \"RES\",\n",
    "#         \"max_Chargeability[ms]\" = \"chargeability\")\n",
    "data_max\n",
    "\n",
    "value_differences <- cbind(data_summary[1], round((data_max[2:7] - data_min[2:7]) / data_summary[3:8], 1))\n",
    "value_differences\n",
    "\n",
    "# levels(data_train$lithology)\n"
   ]
  },
  {
   "cell_type": "markdown",
   "metadata": {},
   "source": [
    "## New from Yun: \n",
    "## Except density, all other physical properties have a range of bigger than 10. Thus, we will log transformation for these predictors in the model recipe "
   ]
  },
  {
   "cell_type": "code",
   "execution_count": 25,
   "metadata": {},
   "outputs": [
    {
     "data": {
      "text/html": [
       "<table>\n",
       "<caption>A tibble: 21 × 7</caption>\n",
       "<thead>\n",
       "\t<tr><th scope=col>lithology</th><th scope=col>density</th><th scope=col>porosity</th><th scope=col>MS</th><th scope=col>NRM</th><th scope=col>RES</th><th scope=col>chargeability</th></tr>\n",
       "\t<tr><th scope=col>&lt;fct&gt;</th><th scope=col>&lt;dbl&gt;</th><th scope=col>&lt;dbl&gt;</th><th scope=col>&lt;dbl&gt;</th><th scope=col>&lt;dbl&gt;</th><th scope=col>&lt;dbl&gt;</th><th scope=col>&lt;dbl&gt;</th></tr>\n",
       "</thead>\n",
       "<tbody>\n",
       "\t<tr><td>Igneous    </td><td>2.590</td><td> 2.39</td><td>-5.60e-06</td><td>0.000313</td><td>31900</td><td>8.304</td></tr>\n",
       "\t<tr><td>Metamorphic</td><td>2.665</td><td> 0.35</td><td>-1.60e-06</td><td>0.000587</td><td> 3540</td><td>1.535</td></tr>\n",
       "\t<tr><td>Sedimentary</td><td>2.636</td><td>10.66</td><td>-1.51e-06</td><td>0.000392</td><td>  964</td><td>0.299</td></tr>\n",
       "\t<tr><td>⋮</td><td>⋮</td><td>⋮</td><td>⋮</td><td>⋮</td><td>⋮</td><td>⋮</td></tr>\n",
       "\t<tr><td>Metamorphic</td><td>2.634</td><td>1.24</td><td>-5.64e-06</td><td>0.000193</td><td> 7320</td><td>5.230</td></tr>\n",
       "\t<tr><td>Metamorphic</td><td>2.654</td><td>0.30</td><td>-2.10e-06</td><td>0.002510</td><td> 3470</td><td>2.906</td></tr>\n",
       "\t<tr><td>Metamorphic</td><td>2.644</td><td>0.67</td><td>-4.34e-06</td><td>0.000255</td><td>13200</td><td>2.330</td></tr>\n",
       "</tbody>\n",
       "</table>\n"
      ],
      "text/latex": [
       "A tibble: 21 × 7\n",
       "\\begin{tabular}{lllllll}\n",
       " lithology & density & porosity & MS & NRM & RES & chargeability\\\\\n",
       " <fct> & <dbl> & <dbl> & <dbl> & <dbl> & <dbl> & <dbl>\\\\\n",
       "\\hline\n",
       "\t Igneous     & 2.590 &  2.39 & -5.60e-06 & 0.000313 & 31900 & 8.304\\\\\n",
       "\t Metamorphic & 2.665 &  0.35 & -1.60e-06 & 0.000587 &  3540 & 1.535\\\\\n",
       "\t Sedimentary & 2.636 & 10.66 & -1.51e-06 & 0.000392 &   964 & 0.299\\\\\n",
       "\t ⋮ & ⋮ & ⋮ & ⋮ & ⋮ & ⋮ & ⋮\\\\\n",
       "\t Metamorphic & 2.634 & 1.24 & -5.64e-06 & 0.000193 &  7320 & 5.230\\\\\n",
       "\t Metamorphic & 2.654 & 0.30 & -2.10e-06 & 0.002510 &  3470 & 2.906\\\\\n",
       "\t Metamorphic & 2.644 & 0.67 & -4.34e-06 & 0.000255 & 13200 & 2.330\\\\\n",
       "\\end{tabular}\n"
      ],
      "text/markdown": [
       "\n",
       "A tibble: 21 × 7\n",
       "\n",
       "| lithology &lt;fct&gt; | density &lt;dbl&gt; | porosity &lt;dbl&gt; | MS &lt;dbl&gt; | NRM &lt;dbl&gt; | RES &lt;dbl&gt; | chargeability &lt;dbl&gt; |\n",
       "|---|---|---|---|---|---|---|\n",
       "| Igneous     | 2.590 |  2.39 | -5.60e-06 | 0.000313 | 31900 | 8.304 |\n",
       "| Metamorphic | 2.665 |  0.35 | -1.60e-06 | 0.000587 |  3540 | 1.535 |\n",
       "| Sedimentary | 2.636 | 10.66 | -1.51e-06 | 0.000392 |   964 | 0.299 |\n",
       "| ⋮ | ⋮ | ⋮ | ⋮ | ⋮ | ⋮ | ⋮ |\n",
       "| Metamorphic | 2.634 | 1.24 | -5.64e-06 | 0.000193 |  7320 | 5.230 |\n",
       "| Metamorphic | 2.654 | 0.30 | -2.10e-06 | 0.002510 |  3470 | 2.906 |\n",
       "| Metamorphic | 2.644 | 0.67 | -4.34e-06 | 0.000255 | 13200 | 2.330 |\n",
       "\n"
      ],
      "text/plain": [
       "   lithology   density porosity MS        NRM      RES   chargeability\n",
       "1  Igneous     2.590    2.39    -5.60e-06 0.000313 31900 8.304        \n",
       "2  Metamorphic 2.665    0.35    -1.60e-06 0.000587  3540 1.535        \n",
       "3  Sedimentary 2.636   10.66    -1.51e-06 0.000392   964 0.299        \n",
       "⋮  ⋮           ⋮       ⋮        ⋮         ⋮        ⋮     ⋮            \n",
       "19 Metamorphic 2.634   1.24     -5.64e-06 0.000193  7320 5.230        \n",
       "20 Metamorphic 2.654   0.30     -2.10e-06 0.002510  3470 2.906        \n",
       "21 Metamorphic 2.644   0.67     -4.34e-06 0.000255 13200 2.330        "
      ]
     },
     "metadata": {},
     "output_type": "display_data"
    },
    {
     "data": {
      "text/plain": [
       "Data Recipe\n",
       "\n",
       "Inputs:\n",
       "\n",
       "      role #variables\n",
       "   outcome          1\n",
       " predictor          6\n",
       "\n",
       "Operations:\n",
       "\n",
       "Log transformation on porosity, MS, NRM, RES, chargeability\n",
       "Scaling for all_predictors()\n",
       "Centering for all_predictors()"
      ]
     },
     "metadata": {},
     "output_type": "display_data"
    },
    {
     "name": "stderr",
     "output_type": "stream",
     "text": [
      "`summarise()` ungrouping output (override with `.groups` argument)\n",
      "\n"
     ]
    },
    {
     "data": {
      "text/html": [
       "<table>\n",
       "<caption>A tibble: 3 × 2</caption>\n",
       "<thead>\n",
       "\t<tr><th scope=col>lithology</th><th scope=col>n</th></tr>\n",
       "\t<tr><th scope=col>&lt;fct&gt;</th><th scope=col>&lt;int&gt;</th></tr>\n",
       "</thead>\n",
       "<tbody>\n",
       "\t<tr><td>Igneous    </td><td>212</td></tr>\n",
       "\t<tr><td>Metamorphic</td><td>555</td></tr>\n",
       "\t<tr><td>Sedimentary</td><td>125</td></tr>\n",
       "</tbody>\n",
       "</table>\n"
      ],
      "text/latex": [
       "A tibble: 3 × 2\n",
       "\\begin{tabular}{ll}\n",
       " lithology & n\\\\\n",
       " <fct> & <int>\\\\\n",
       "\\hline\n",
       "\t Igneous     & 212\\\\\n",
       "\t Metamorphic & 555\\\\\n",
       "\t Sedimentary & 125\\\\\n",
       "\\end{tabular}\n"
      ],
      "text/markdown": [
       "\n",
       "A tibble: 3 × 2\n",
       "\n",
       "| lithology &lt;fct&gt; | n &lt;int&gt; |\n",
       "|---|---|\n",
       "| Igneous     | 212 |\n",
       "| Metamorphic | 555 |\n",
       "| Sedimentary | 125 |\n",
       "\n"
      ],
      "text/plain": [
       "  lithology   n  \n",
       "1 Igneous     212\n",
       "2 Metamorphic 555\n",
       "3 Sedimentary 125"
      ]
     },
     "metadata": {},
     "output_type": "display_data"
    }
   ],
   "source": [
    "# balance and upsample\n",
    "\n",
    "# library(themis)\n",
    "\n",
    "negative_MS <- data_train %>%\n",
    "    filter(MS < 0)\n",
    "negative_MS\n",
    "\n",
    "new_training <- setdiff(data_train, negative_MS)\n",
    "\n",
    "test_recipe <- recipe(lithology ~ ., data = new_training) %>%\n",
    "#          step_upsample(lithology, over_ratio = 1, skip = FALSE) %>%\n",
    "         step_log(porosity, MS, NRM, RES, chargeability) %>%\n",
    "         step_scale(all_predictors()) %>%\n",
    "         step_center(all_predictors()) # %>%\n",
    "#          prep() %>%\n",
    "#          bake(new_training)\n",
    "\n",
    "test_recipe  \n",
    "\n",
    "new_trained <- test_recipe %>% \n",
    "    prep() %>%\n",
    "    bake(new_training)\n",
    "\n",
    "\n",
    "new_trained %>%\n",
    "    group_by(lithology) %>%\n",
    "    summarize(n = n())\n",
    "\n",
    "\n",
    "# training_recipe <- recipe(lithology ~ ., data = data_train) %>%\n",
    "#      step_upsample(lithology, over_ratio = 1, skip = FALSE) %>%\n",
    "#      step_log(porosity, MS, NRM, RES, chargeability) %>%\n",
    "#      step_scale(all_predictors()) %>%\n",
    "#      step_center(all_predictors())\n",
    "#      #prep()\n",
    "\n",
    "# training_recipe\n",
    "\n",
    "# data_trained <- training_recipe %>%\n",
    "#     prep() %>%\n",
    "#     bake(data_train) %>%\n",
    "#     filter(!is.na(lithology))\n",
    "\n",
    "\n",
    "\n",
    "# training_recipe_2 <- recipe(lithology ~ ., data = data_train) %>%\n",
    "# #      step_upsample(lithology, over_ratio = 1, skip = FALSE) %>%\n",
    "#      step_log(porosity, MS, NRM, RES, chargeability) %>%\n",
    "#      step_scale(all_predictors()) %>%\n",
    "#      step_center(all_predictors())\n",
    "#      #prep()\n",
    "\n",
    "# training_recipe_2 \n",
    "\n",
    "\n",
    "\n",
    "\n",
    "\n",
    "# data_trained_2 <- training_recipe_2 %>%\n",
    "#     prep() %>%\n",
    "#     bake(data_train) %>%\n",
    "#     filter(!is.na(lithology))\n",
    "\n",
    "# data_trained\n",
    "# data_trained_2\n",
    "\n",
    "\n",
    "\n"
   ]
  },
  {
   "cell_type": "markdown",
   "metadata": {},
   "source": [
    "## Hi Naijide: try vfold on data_trained and data_trained_2, see if upsample really increase the accuracy \n",
    "## then change recipe from all_predictors to just the two predictors  \n",
    "  \n",
    "  \n",
    "## I personally as a geologist, I think these two predictors are closely related to rock type, and use two predictor will be easy on the final visuallization \n",
    "## but, who knows, if just two_predictors significantly lower the accuracy compares to all_predictors(), then try add a third one (start with )\n"
   ]
  },
  {
   "cell_type": "code",
   "execution_count": 28,
   "metadata": {},
   "outputs": [
    {
     "data": {
      "text/html": [
       "<table>\n",
       "<caption>A tibble: 20 × 7</caption>\n",
       "<thead>\n",
       "\t<tr><th scope=col>neighbors</th><th scope=col>.metric</th><th scope=col>.estimator</th><th scope=col>mean</th><th scope=col>n</th><th scope=col>std_err</th><th scope=col>.config</th></tr>\n",
       "\t<tr><th scope=col>&lt;int&gt;</th><th scope=col>&lt;chr&gt;</th><th scope=col>&lt;chr&gt;</th><th scope=col>&lt;dbl&gt;</th><th scope=col>&lt;int&gt;</th><th scope=col>&lt;dbl&gt;</th><th scope=col>&lt;chr&gt;</th></tr>\n",
       "</thead>\n",
       "<tbody>\n",
       "\t<tr><td>2</td><td>accuracy</td><td>multiclass</td><td>0.8498337</td><td>5</td><td>0.01771466</td><td>Model01</td></tr>\n",
       "\t<tr><td>2</td><td>roc_auc </td><td>hand_till </td><td>0.9149028</td><td>5</td><td>0.01357698</td><td>Model01</td></tr>\n",
       "\t<tr><td>3</td><td>accuracy</td><td>multiclass</td><td>0.8756136</td><td>5</td><td>0.01152917</td><td>Model02</td></tr>\n",
       "\t<tr><td>⋮</td><td>⋮</td><td>⋮</td><td>⋮</td><td>⋮</td><td>⋮</td><td>⋮</td></tr>\n",
       "\t<tr><td>13</td><td>roc_auc </td><td>hand_till </td><td>0.9456554</td><td>5</td><td>0.01418799</td><td>Model09</td></tr>\n",
       "\t<tr><td>14</td><td>accuracy</td><td>multiclass</td><td>0.8532044</td><td>5</td><td>0.01415503</td><td>Model10</td></tr>\n",
       "\t<tr><td>14</td><td>roc_auc </td><td>hand_till </td><td>0.9457860</td><td>5</td><td>0.01449051</td><td>Model10</td></tr>\n",
       "</tbody>\n",
       "</table>\n"
      ],
      "text/latex": [
       "A tibble: 20 × 7\n",
       "\\begin{tabular}{lllllll}\n",
       " neighbors & .metric & .estimator & mean & n & std\\_err & .config\\\\\n",
       " <int> & <chr> & <chr> & <dbl> & <int> & <dbl> & <chr>\\\\\n",
       "\\hline\n",
       "\t 2 & accuracy & multiclass & 0.8498337 & 5 & 0.01771466 & Model01\\\\\n",
       "\t 2 & roc\\_auc  & hand\\_till  & 0.9149028 & 5 & 0.01357698 & Model01\\\\\n",
       "\t 3 & accuracy & multiclass & 0.8756136 & 5 & 0.01152917 & Model02\\\\\n",
       "\t ⋮ & ⋮ & ⋮ & ⋮ & ⋮ & ⋮ & ⋮\\\\\n",
       "\t 13 & roc\\_auc  & hand\\_till  & 0.9456554 & 5 & 0.01418799 & Model09\\\\\n",
       "\t 14 & accuracy & multiclass & 0.8532044 & 5 & 0.01415503 & Model10\\\\\n",
       "\t 14 & roc\\_auc  & hand\\_till  & 0.9457860 & 5 & 0.01449051 & Model10\\\\\n",
       "\\end{tabular}\n"
      ],
      "text/markdown": [
       "\n",
       "A tibble: 20 × 7\n",
       "\n",
       "| neighbors &lt;int&gt; | .metric &lt;chr&gt; | .estimator &lt;chr&gt; | mean &lt;dbl&gt; | n &lt;int&gt; | std_err &lt;dbl&gt; | .config &lt;chr&gt; |\n",
       "|---|---|---|---|---|---|---|\n",
       "| 2 | accuracy | multiclass | 0.8498337 | 5 | 0.01771466 | Model01 |\n",
       "| 2 | roc_auc  | hand_till  | 0.9149028 | 5 | 0.01357698 | Model01 |\n",
       "| 3 | accuracy | multiclass | 0.8756136 | 5 | 0.01152917 | Model02 |\n",
       "| ⋮ | ⋮ | ⋮ | ⋮ | ⋮ | ⋮ | ⋮ |\n",
       "| 13 | roc_auc  | hand_till  | 0.9456554 | 5 | 0.01418799 | Model09 |\n",
       "| 14 | accuracy | multiclass | 0.8532044 | 5 | 0.01415503 | Model10 |\n",
       "| 14 | roc_auc  | hand_till  | 0.9457860 | 5 | 0.01449051 | Model10 |\n",
       "\n"
      ],
      "text/plain": [
       "   neighbors .metric  .estimator mean      n std_err    .config\n",
       "1  2         accuracy multiclass 0.8498337 5 0.01771466 Model01\n",
       "2  2         roc_auc  hand_till  0.9149028 5 0.01357698 Model01\n",
       "3  3         accuracy multiclass 0.8756136 5 0.01152917 Model02\n",
       "⋮  ⋮         ⋮        ⋮          ⋮         ⋮ ⋮          ⋮      \n",
       "18 13        roc_auc  hand_till  0.9456554 5 0.01418799 Model09\n",
       "19 14        accuracy multiclass 0.8532044 5 0.01415503 Model10\n",
       "20 14        roc_auc  hand_till  0.9457860 5 0.01449051 Model10"
      ]
     },
     "metadata": {},
     "output_type": "display_data"
    }
   ],
   "source": [
    "\n",
    "training_vfold <- vfold_cv(new_training, v = 5, strata = lithology)\n",
    "\n",
    "knn_tune <- nearest_neighbor(weight_func = \"rectangular\", neighbors = tune()) %>%\n",
    "       set_engine(\"kknn\") %>%\n",
    "       set_mode(\"classification\")\n",
    "\n",
    "knn_results <- workflow() %>%\n",
    "       add_recipe(test_recipe) %>%\n",
    "       add_model(knn_tune) %>%\n",
    "       tune_grid(resamples = training_vfold, grid = 10) %>%\n",
    "       collect_metrics()\n",
    "\n",
    "knn_results"
   ]
  },
  {
   "cell_type": "code",
   "execution_count": null,
   "metadata": {},
   "outputs": [],
   "source": []
  },
  {
   "cell_type": "code",
   "execution_count": null,
   "metadata": {},
   "outputs": [],
   "source": []
  },
  {
   "cell_type": "code",
   "execution_count": null,
   "metadata": {},
   "outputs": [],
   "source": []
  },
  {
   "cell_type": "markdown",
   "metadata": {},
   "source": [
    "  \n",
    "In the next step, we visualized the data in a scatter plot of resistivity vs porosity as predictors and colored the rock categories.  \n",
    "\n",
    "\n",
    "### New from Yun: \n",
    "\n",
    "#### Now, we can proper visualize data without using any log() or scale_log() functions "
   ]
  },
  {
   "cell_type": "code",
   "execution_count": null,
   "metadata": {},
   "outputs": [],
   "source": [
    "options(repr.plot.width = 15, repr.plot.height = 8)\n",
    "initial_graph <- data_train %>%\n",
    "#     ggplot(aes(x = porosity, y = RES, color = lithology)) +\n",
    "#      scale_x_log10(labels = comma) +\n",
    "#      scale_y_log10(labels = comma) +\n",
    "#    ggplot(aes(x = log(porosity), y = log(RES), color = lithology)) +\n",
    "   ggplot(aes(x = porosity, y = RES, color = lithology)) +\n",
    "    geom_point() +\n",
    "    facet_grid(. ~ lithology) +\n",
    "    labs(title = \"The relationship between Resistivity and Porosity under three Lithology type\", x = \"Porosity [%]\", y = \"Resistivity [ohm.m]\") +\n",
    "    theme(text = element_text(size = 20), plot.title = element_text(hjust = 0.5))\n",
    "\n",
    "initial_graph\n",
    "\n",
    "\n",
    "\n",
    "current_graph <- data_trained %>%\n",
    "     ggplot(aes(x = porosity, y = RES, color = lithology)) +\n",
    "#    ggplot(aes(x = log(porosity), y = log(RES), color = lithology)) +\n",
    "#      scale_x_continuous(limits = c(-10, 10)) + \n",
    "#      scale_y_continuous(limits = c(-10, 10)) + \n",
    "#      scale_x_log10(labels = comma) +\n",
    "#      scale_y_log10(labels = comma) +\n",
    "    geom_point() +\n",
    "     facet_grid(. ~ lithology) +\n",
    "    labs(title = \"The relationship between Resistivity and Porosity under three Lithology type\", x = \"Porosity [%]\", y = \"Resistivity [ohm.m]\") +\n",
    "    theme(text = element_text(size = 20), plot.title = element_text(hjust = 0.5))\n",
    "\n",
    "current_graph "
   ]
  },
  {
   "cell_type": "markdown",
   "metadata": {},
   "source": [
    "### Methodology\n",
    "From the 84 columns in the raw data, we select and rename the 8 columns we need. They are: sample type, lithology, grain density, dry bulk density, saturated bulk density, porosity, magnetic susceptibility, natural remanent magnetization, electric resistivity and induced polarization chargeability.  \n",
    " \n",
    "Since Sample type and lithology are categorical variables, we mutate their column type into factor. We then filter the data and only keep the ones with “borehole” sample type and exclude the observation with no specific rock type (\"Other\"). We split the data into training sets and testing sets and perform an initial analysis on the training set.  \n",
    "  \n",
    "The group predicted that resistivity is inversely related to porosity, because the fluid that fills in the pores is generally more conductive than rock itself. The group also want to see if porosity and resistivity alone are sufficient to predict the rock type.  \n",
    "  "
   ]
  },
  {
   "cell_type": "markdown",
   "metadata": {},
   "source": [
    "### Preliminary Result \n",
    "  \n",
    "We observed that there is a linear relationship because the points on the scatterplot resemble close to a straight line. The two variables have a weak negative association when the lithology is Igneous because the points are more spread across the graph. There is a moderately strong negative association in the graph for Metamorphic and Sedimentary because as the percentage of Porosity increases, the Resistivity decreases.\n",
    "\n",
    "The primary data analysis confirmed that there is a weak negative linear relationship between the two factors. However, in the primary visualization, the classification of rock types based on only these two factors are not as distinctive as we imagined.   \n",
    "  \n",
    "The group will continue the model building with other necessary steps including standardization or add multiple predictors into the training set in the next step of the project development.   \n",
    "  \n",
    "If successful, our model can be used to predict rock formation in an underground setting where human accessibility is limited and only accessible by data acquisition equipment.  \n",
    "  \n",
    "\n"
   ]
  },
  {
   "cell_type": "markdown",
   "metadata": {},
   "source": [
    "### References\n",
    "Enkin, R.J., 2018. Canadian rock physical property database: first public release; Geological Survey of Canada, Open File 8460, 1 .zip file. https://doi.org/10.4095/313389\n",
    "\n"
   ]
  }
 ],
 "metadata": {
  "kernelspec": {
   "display_name": "R",
   "language": "R",
   "name": "ir"
  },
  "language_info": {
   "codemirror_mode": "r",
   "file_extension": ".r",
   "mimetype": "text/x-r-source",
   "name": "R",
   "pygments_lexer": "r",
   "version": "4.0.0"
  }
 },
 "nbformat": 4,
 "nbformat_minor": 5
}
