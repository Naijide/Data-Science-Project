{
 "cells": [
  {
   "cell_type": "code",
   "execution_count": 1,
   "metadata": {},
   "outputs": [
    {
     "name": "stderr",
     "output_type": "stream",
     "text": [
      "── \u001b[1mAttaching packages\u001b[22m ─────────────────────────────────────── tidyverse 1.3.0 ──\n",
      "\n",
      "\u001b[32m✔\u001b[39m \u001b[34mggplot2\u001b[39m 3.3.2     \u001b[32m✔\u001b[39m \u001b[34mpurrr  \u001b[39m 0.3.4\n",
      "\u001b[32m✔\u001b[39m \u001b[34mtibble \u001b[39m 3.0.3     \u001b[32m✔\u001b[39m \u001b[34mdplyr  \u001b[39m 1.0.2\n",
      "\u001b[32m✔\u001b[39m \u001b[34mtidyr  \u001b[39m 1.1.2     \u001b[32m✔\u001b[39m \u001b[34mstringr\u001b[39m 1.4.0\n",
      "\u001b[32m✔\u001b[39m \u001b[34mreadr  \u001b[39m 1.3.1     \u001b[32m✔\u001b[39m \u001b[34mforcats\u001b[39m 0.5.0\n",
      "\n",
      "Warning message:\n",
      "“package ‘ggplot2’ was built under R version 4.0.1”\n",
      "Warning message:\n",
      "“package ‘tibble’ was built under R version 4.0.2”\n",
      "Warning message:\n",
      "“package ‘tidyr’ was built under R version 4.0.2”\n",
      "Warning message:\n",
      "“package ‘dplyr’ was built under R version 4.0.2”\n",
      "── \u001b[1mConflicts\u001b[22m ────────────────────────────────────────── tidyverse_conflicts() ──\n",
      "\u001b[31m✖\u001b[39m \u001b[34mdplyr\u001b[39m::\u001b[32mfilter()\u001b[39m masks \u001b[34mstats\u001b[39m::filter()\n",
      "\u001b[31m✖\u001b[39m \u001b[34mdplyr\u001b[39m::\u001b[32mlag()\u001b[39m    masks \u001b[34mstats\u001b[39m::lag()\n",
      "\n",
      "Warning message:\n",
      "“package ‘tidymodels’ was built under R version 4.0.2”\n",
      "── \u001b[1mAttaching packages\u001b[22m ────────────────────────────────────── tidymodels 0.1.1 ──\n",
      "\n",
      "\u001b[32m✔\u001b[39m \u001b[34mbroom    \u001b[39m 0.7.0      \u001b[32m✔\u001b[39m \u001b[34mrecipes  \u001b[39m 0.1.13\n",
      "\u001b[32m✔\u001b[39m \u001b[34mdials    \u001b[39m 0.0.9      \u001b[32m✔\u001b[39m \u001b[34mrsample  \u001b[39m 0.0.7 \n",
      "\u001b[32m✔\u001b[39m \u001b[34minfer    \u001b[39m 0.5.4      \u001b[32m✔\u001b[39m \u001b[34mtune     \u001b[39m 0.1.1 \n",
      "\u001b[32m✔\u001b[39m \u001b[34mmodeldata\u001b[39m 0.0.2      \u001b[32m✔\u001b[39m \u001b[34mworkflows\u001b[39m 0.2.0 \n",
      "\u001b[32m✔\u001b[39m \u001b[34mparsnip  \u001b[39m 0.1.3      \u001b[32m✔\u001b[39m \u001b[34myardstick\u001b[39m 0.0.7 \n",
      "\n",
      "Warning message:\n",
      "“package ‘broom’ was built under R version 4.0.2”\n",
      "Warning message:\n",
      "“package ‘dials’ was built under R version 4.0.2”\n",
      "Warning message:\n",
      "“package ‘infer’ was built under R version 4.0.3”\n",
      "Warning message:\n",
      "“package ‘modeldata’ was built under R version 4.0.1”\n",
      "Warning message:\n",
      "“package ‘parsnip’ was built under R version 4.0.2”\n",
      "Warning message:\n",
      "“package ‘recipes’ was built under R version 4.0.1”\n",
      "Warning message:\n",
      "“package ‘tune’ was built under R version 4.0.2”\n",
      "Warning message:\n",
      "“package ‘workflows’ was built under R version 4.0.2”\n",
      "Warning message:\n",
      "“package ‘yardstick’ was built under R version 4.0.2”\n",
      "── \u001b[1mConflicts\u001b[22m ───────────────────────────────────────── tidymodels_conflicts() ──\n",
      "\u001b[31m✖\u001b[39m \u001b[34mscales\u001b[39m::\u001b[32mdiscard()\u001b[39m masks \u001b[34mpurrr\u001b[39m::discard()\n",
      "\u001b[31m✖\u001b[39m \u001b[34mdplyr\u001b[39m::\u001b[32mfilter()\u001b[39m   masks \u001b[34mstats\u001b[39m::filter()\n",
      "\u001b[31m✖\u001b[39m \u001b[34mrecipes\u001b[39m::\u001b[32mfixed()\u001b[39m  masks \u001b[34mstringr\u001b[39m::fixed()\n",
      "\u001b[31m✖\u001b[39m \u001b[34mdplyr\u001b[39m::\u001b[32mlag()\u001b[39m      masks \u001b[34mstats\u001b[39m::lag()\n",
      "\u001b[31m✖\u001b[39m \u001b[34myardstick\u001b[39m::\u001b[32mspec()\u001b[39m masks \u001b[34mreadr\u001b[39m::spec()\n",
      "\u001b[31m✖\u001b[39m \u001b[34mrecipes\u001b[39m::\u001b[32mstep()\u001b[39m   masks \u001b[34mstats\u001b[39m::step()\n",
      "\n",
      "Registered S3 method overwritten by 'GGally':\n",
      "  method from   \n",
      "  +.gg   ggplot2\n",
      "\n"
     ]
    }
   ],
   "source": [
    "library(tidyverse)\n",
    "library(repr)\n",
    "library(tidymodels)\n",
    "library(GGally)\n",
    "options(repr.matrix.max.rows = 6)\n",
    "set.seed(100)"
   ]
  },
  {
   "cell_type": "code",
   "execution_count": 2,
   "metadata": {},
   "outputs": [
    {
     "name": "stderr",
     "output_type": "stream",
     "text": [
      "Parsed with column specification:\n",
      "cols(\n",
      "  .default = col_character(),\n",
      "  `Date Mapped (yyyy/mm/dd) *` = \u001b[32mcol_double()\u001b[39m,\n",
      "  `Lat Deg` = \u001b[32mcol_double()\u001b[39m,\n",
      "  `Long Deg` = \u001b[32mcol_double()\u001b[39m,\n",
      "  `UTM zone` = \u001b[32mcol_double()\u001b[39m,\n",
      "  Easting = \u001b[32mcol_double()\u001b[39m,\n",
      "  Northing = \u001b[32mcol_double()\u001b[39m,\n",
      "  `Method Precision (m)*` = \u001b[32mcol_double()\u001b[39m,\n",
      "  `Year *` = \u001b[32mcol_double()\u001b[39m,\n",
      "  `Lab Date` = \u001b[32mcol_double()\u001b[39m,\n",
      "  `GRAIN DEN Sample Value [g/cm3]` = \u001b[32mcol_double()\u001b[39m,\n",
      "  `DRY BULK DEN Sample Value [g/cm3]` = \u001b[32mcol_double()\u001b[39m,\n",
      "  `SAT BULK DEN Sample Value [g/cm3]` = \u001b[32mcol_double()\u001b[39m,\n",
      "  `POR Sample Value [%]` = \u001b[32mcol_double()\u001b[39m,\n",
      "  `MS Sample Value [SI A/m / A/m]` = \u001b[32mcol_double()\u001b[39m,\n",
      "  `NRM Sample Value [A/m]` = \u001b[32mcol_double()\u001b[39m,\n",
      "  `KN50 Sample Value` = \u001b[32mcol_double()\u001b[39m,\n",
      "  `Local Field [uT]` = \u001b[32mcol_double()\u001b[39m,\n",
      "  KN = \u001b[32mcol_double()\u001b[39m,\n",
      "  `RES Sample Value [Ohm.m]` = \u001b[32mcol_double()\u001b[39m,\n",
      "  `CHG Sample Value [ms]` = \u001b[32mcol_double()\u001b[39m\n",
      ")\n",
      "\n",
      "See spec(...) for full column specifications.\n",
      "\n"
     ]
    }
   ],
   "source": [
    "url <- \"https://raw.githubusercontent.com/yxing6/DSCI_100_Project_Group4/main/data/of_8460_database.csv\"\n",
    "rock_data_raw <- read_csv(url)"
   ]
  },
  {
   "cell_type": "code",
   "execution_count": 3,
   "metadata": {},
   "outputs": [
    {
     "data": {
      "text/html": [
       "<table>\n",
       "<caption>A tibble: 1215 × 7</caption>\n",
       "<thead>\n",
       "\t<tr><th scope=col>lithology</th><th scope=col>density</th><th scope=col>porosity</th><th scope=col>MS</th><th scope=col>NRM</th><th scope=col>RES</th><th scope=col>chargeability</th></tr>\n",
       "\t<tr><th scope=col>&lt;fct&gt;</th><th scope=col>&lt;dbl&gt;</th><th scope=col>&lt;dbl&gt;</th><th scope=col>&lt;dbl&gt;</th><th scope=col>&lt;dbl&gt;</th><th scope=col>&lt;dbl&gt;</th><th scope=col>&lt;dbl&gt;</th></tr>\n",
       "</thead>\n",
       "<tbody>\n",
       "\t<tr><td>Igneous</td><td>2.931</td><td>0.41</td><td>0.00118</td><td>0.029</td><td>  7960</td><td>46.4</td></tr>\n",
       "\t<tr><td>Igneous</td><td>2.770</td><td>0.28</td><td>0.07900</td><td>4.810</td><td>135000</td><td>19.5</td></tr>\n",
       "\t<tr><td>Igneous</td><td>2.754</td><td>0.28</td><td>0.01260</td><td>0.352</td><td> 51800</td><td> 1.6</td></tr>\n",
       "\t<tr><td>⋮</td><td>⋮</td><td>⋮</td><td>⋮</td><td>⋮</td><td>⋮</td><td>⋮</td></tr>\n",
       "\t<tr><td>Metamorphic</td><td>2.660</td><td>0.34</td><td>-7.08e-06</td><td>0.000162</td><td> 18600</td><td> 1.015</td></tr>\n",
       "\t<tr><td>Metamorphic</td><td>2.791</td><td>0.16</td><td> 1.68e-04</td><td>0.000401</td><td> 27100</td><td> 8.026</td></tr>\n",
       "\t<tr><td>Metamorphic</td><td>2.811</td><td>0.36</td><td> 7.39e-02</td><td>5.720000</td><td>437000</td><td>12.850</td></tr>\n",
       "</tbody>\n",
       "</table>\n"
      ],
      "text/latex": [
       "A tibble: 1215 × 7\n",
       "\\begin{tabular}{lllllll}\n",
       " lithology & density & porosity & MS & NRM & RES & chargeability\\\\\n",
       " <fct> & <dbl> & <dbl> & <dbl> & <dbl> & <dbl> & <dbl>\\\\\n",
       "\\hline\n",
       "\t Igneous & 2.931 & 0.41 & 0.00118 & 0.029 &   7960 & 46.4\\\\\n",
       "\t Igneous & 2.770 & 0.28 & 0.07900 & 4.810 & 135000 & 19.5\\\\\n",
       "\t Igneous & 2.754 & 0.28 & 0.01260 & 0.352 &  51800 &  1.6\\\\\n",
       "\t ⋮ & ⋮ & ⋮ & ⋮ & ⋮ & ⋮ & ⋮\\\\\n",
       "\t Metamorphic & 2.660 & 0.34 & -7.08e-06 & 0.000162 &  18600 &  1.015\\\\\n",
       "\t Metamorphic & 2.791 & 0.16 &  1.68e-04 & 0.000401 &  27100 &  8.026\\\\\n",
       "\t Metamorphic & 2.811 & 0.36 &  7.39e-02 & 5.720000 & 437000 & 12.850\\\\\n",
       "\\end{tabular}\n"
      ],
      "text/markdown": [
       "\n",
       "A tibble: 1215 × 7\n",
       "\n",
       "| lithology &lt;fct&gt; | density &lt;dbl&gt; | porosity &lt;dbl&gt; | MS &lt;dbl&gt; | NRM &lt;dbl&gt; | RES &lt;dbl&gt; | chargeability &lt;dbl&gt; |\n",
       "|---|---|---|---|---|---|---|\n",
       "| Igneous | 2.931 | 0.41 | 0.00118 | 0.029 |   7960 | 46.4 |\n",
       "| Igneous | 2.770 | 0.28 | 0.07900 | 4.810 | 135000 | 19.5 |\n",
       "| Igneous | 2.754 | 0.28 | 0.01260 | 0.352 |  51800 |  1.6 |\n",
       "| ⋮ | ⋮ | ⋮ | ⋮ | ⋮ | ⋮ | ⋮ |\n",
       "| Metamorphic | 2.660 | 0.34 | -7.08e-06 | 0.000162 |  18600 |  1.015 |\n",
       "| Metamorphic | 2.791 | 0.16 |  1.68e-04 | 0.000401 |  27100 |  8.026 |\n",
       "| Metamorphic | 2.811 | 0.36 |  7.39e-02 | 5.720000 | 437000 | 12.850 |\n",
       "\n"
      ],
      "text/plain": [
       "     lithology   density porosity MS        NRM      RES    chargeability\n",
       "1    Igneous     2.931   0.41     0.00118   0.029      7960 46.4         \n",
       "2    Igneous     2.770   0.28     0.07900   4.810    135000 19.5         \n",
       "3    Igneous     2.754   0.28     0.01260   0.352     51800  1.6         \n",
       "⋮    ⋮           ⋮       ⋮        ⋮         ⋮        ⋮      ⋮            \n",
       "1213 Metamorphic 2.660   0.34     -7.08e-06 0.000162  18600  1.015       \n",
       "1214 Metamorphic 2.791   0.16      1.68e-04 0.000401  27100  8.026       \n",
       "1215 Metamorphic 2.811   0.36      7.39e-02 5.720000 437000 12.850       "
      ]
     },
     "metadata": {},
     "output_type": "display_data"
    }
   ],
   "source": [
    "borehole_data_raw <- rock_data_raw %>% \n",
    "    select(\"Location Type *\", \"MIRA Master Litho 1\", \"GRAIN DEN Sample Value [g/cm3]\",\n",
    "           \"POR Sample Value [%]\",\"MS Sample Value [SI A/m / A/m]\",\n",
    "           \"NRM Sample Value [A/m]\",\"RES Sample Value [Ohm.m]\",\"CHG Sample Value [ms]\") %>%\n",
    "    rename(\"sample_type\" = \"Location Type *\",\n",
    "          \"lithology\" = \"MIRA Master Litho 1\",\n",
    "           \"density\" = \"GRAIN DEN Sample Value [g/cm3]\",\n",
    "           \"porosity\" = \"POR Sample Value [%]\",\n",
    "           \"MS\" = \"MS Sample Value [SI A/m / A/m]\",\n",
    "           \"NRM\" = \"NRM Sample Value [A/m]\",\n",
    "           \"RES\" = \"RES Sample Value [Ohm.m]\",\n",
    "           \"chargeability\" = \"CHG Sample Value [ms]\") %>%\n",
    "    filter(lithology != \"Other\", sample_type == \"Borehole\") %>%\n",
    "    mutate(sample_type = as_factor(sample_type), lithology = as_factor(lithology)) %>%\n",
    "    select(-sample_type) %>%\n",
    "    na.omit()\n",
    "    \n",
    "borehole_data_raw"
   ]
  },
  {
   "cell_type": "code",
   "execution_count": 4,
   "metadata": {},
   "outputs": [
    {
     "name": "stderr",
     "output_type": "stream",
     "text": [
      "`summarise()` ungrouping output (override with `.groups` argument)\n",
      "\n"
     ]
    },
    {
     "data": {
      "text/html": [
       "<table>\n",
       "<caption>A tibble: 3 × 8</caption>\n",
       "<thead>\n",
       "\t<tr><th scope=col>lithology</th><th scope=col>n</th><th scope=col>mean_Density[g/cm3]</th><th scope=col>mean_Porosity[%]</th><th scope=col>mean_MS[m3/kg]</th><th scope=col>mean_NRM[A/m]</th><th scope=col>mean_RES[Ohm.m]</th><th scope=col>mean_Chargeability[ms]</th></tr>\n",
       "\t<tr><th scope=col>&lt;fct&gt;</th><th scope=col>&lt;int&gt;</th><th scope=col>&lt;dbl&gt;</th><th scope=col>&lt;dbl&gt;</th><th scope=col>&lt;dbl&gt;</th><th scope=col>&lt;dbl&gt;</th><th scope=col>&lt;dbl&gt;</th><th scope=col>&lt;dbl&gt;</th></tr>\n",
       "</thead>\n",
       "<tbody>\n",
       "\t<tr><td>Igneous    </td><td>213</td><td>2.805258</td><td>2.2292958</td><td>0.022633525</td><td>1.33363195</td><td>13261.170</td><td>11.572268</td></tr>\n",
       "\t<tr><td>Metamorphic</td><td>559</td><td>2.770982</td><td>0.4470483</td><td>0.001708148</td><td>0.52407663</td><td> 9808.564</td><td> 5.686354</td></tr>\n",
       "\t<tr><td>Sedimentary</td><td>141</td><td>2.657965</td><td>5.8538298</td><td>0.000232826</td><td>0.02095233</td><td> 3736.071</td><td> 3.906858</td></tr>\n",
       "</tbody>\n",
       "</table>\n"
      ],
      "text/latex": [
       "A tibble: 3 × 8\n",
       "\\begin{tabular}{llllllll}\n",
       " lithology & n & mean\\_Density{[}g/cm3{]} & mean\\_Porosity{[}\\%{]} & mean\\_MS{[}m3/kg{]} & mean\\_NRM{[}A/m{]} & mean\\_RES{[}Ohm.m{]} & mean\\_Chargeability{[}ms{]}\\\\\n",
       " <fct> & <int> & <dbl> & <dbl> & <dbl> & <dbl> & <dbl> & <dbl>\\\\\n",
       "\\hline\n",
       "\t Igneous     & 213 & 2.805258 & 2.2292958 & 0.022633525 & 1.33363195 & 13261.170 & 11.572268\\\\\n",
       "\t Metamorphic & 559 & 2.770982 & 0.4470483 & 0.001708148 & 0.52407663 &  9808.564 &  5.686354\\\\\n",
       "\t Sedimentary & 141 & 2.657965 & 5.8538298 & 0.000232826 & 0.02095233 &  3736.071 &  3.906858\\\\\n",
       "\\end{tabular}\n"
      ],
      "text/markdown": [
       "\n",
       "A tibble: 3 × 8\n",
       "\n",
       "| lithology &lt;fct&gt; | n &lt;int&gt; | mean_Density[g/cm3] &lt;dbl&gt; | mean_Porosity[%] &lt;dbl&gt; | mean_MS[m3/kg] &lt;dbl&gt; | mean_NRM[A/m] &lt;dbl&gt; | mean_RES[Ohm.m] &lt;dbl&gt; | mean_Chargeability[ms] &lt;dbl&gt; |\n",
       "|---|---|---|---|---|---|---|---|\n",
       "| Igneous     | 213 | 2.805258 | 2.2292958 | 0.022633525 | 1.33363195 | 13261.170 | 11.572268 |\n",
       "| Metamorphic | 559 | 2.770982 | 0.4470483 | 0.001708148 | 0.52407663 |  9808.564 |  5.686354 |\n",
       "| Sedimentary | 141 | 2.657965 | 5.8538298 | 0.000232826 | 0.02095233 |  3736.071 |  3.906858 |\n",
       "\n"
      ],
      "text/plain": [
       "  lithology   n   mean_Density[g/cm3] mean_Porosity[%] mean_MS[m3/kg]\n",
       "1 Igneous     213 2.805258            2.2292958        0.022633525   \n",
       "2 Metamorphic 559 2.770982            0.4470483        0.001708148   \n",
       "3 Sedimentary 141 2.657965            5.8538298        0.000232826   \n",
       "  mean_NRM[A/m] mean_RES[Ohm.m] mean_Chargeability[ms]\n",
       "1 1.33363195    13261.170       11.572268             \n",
       "2 0.52407663     9808.564        5.686354             \n",
       "3 0.02095233     3736.071        3.906858             "
      ]
     },
     "metadata": {},
     "output_type": "display_data"
    }
   ],
   "source": [
    "borehole_data_split <- initial_split(borehole_data_raw, prop = 0.75, strata = lithology)\n",
    "data_train <- training(borehole_data_split)\n",
    "data_test <- testing(borehole_data_split)\n",
    "\n",
    "\n",
    "data_summary <- data_train %>%\n",
    "    group_by(lithology) %>%\n",
    "    summarize(n = n(), \n",
    "              across(density:chargeability, mean, na.rm = TRUE)) %>%\n",
    "    rename(\n",
    "        \"lithology\" = \"lithology\",\n",
    "        \"n\" = \"n\",\n",
    "        \"mean_Density[g/cm3]\" = \"density\",\n",
    "        \"mean_Porosity[%]\" = \"porosity\",\n",
    "        \"mean_MS[m3/kg]\" = \"MS\",\n",
    "        \"mean_NRM[A/m]\" = \"NRM\",\n",
    "        \"mean_RES[Ohm.m]\" = \"RES\",\n",
    "        \"mean_Chargeability[ms]\" = \"chargeability\")\n",
    "\n",
    "data_summary\n"
   ]
  },
  {
   "cell_type": "code",
   "execution_count": 16,
   "metadata": {},
   "outputs": [
    {
     "data": {
      "text/html": [
       "<table>\n",
       "<caption>A tibble: 887 × 7</caption>\n",
       "<thead>\n",
       "\t<tr><th scope=col>lithology</th><th scope=col>density</th><th scope=col>porosity</th><th scope=col>MS</th><th scope=col>NRM</th><th scope=col>RES</th><th scope=col>chargeability</th></tr>\n",
       "\t<tr><th scope=col>&lt;fct&gt;</th><th scope=col>&lt;dbl&gt;</th><th scope=col>&lt;dbl&gt;</th><th scope=col>&lt;dbl&gt;</th><th scope=col>&lt;dbl&gt;</th><th scope=col>&lt;dbl&gt;</th><th scope=col>&lt;dbl&gt;</th></tr>\n",
       "</thead>\n",
       "<tbody>\n",
       "\t<tr><td>Igneous</td><td>2.931</td><td>0.41</td><td>0.00118</td><td>0.029</td><td>  7960</td><td>46.4</td></tr>\n",
       "\t<tr><td>Igneous</td><td>2.770</td><td>0.28</td><td>0.07900</td><td>4.810</td><td>135000</td><td>19.5</td></tr>\n",
       "\t<tr><td>Igneous</td><td>2.754</td><td>0.28</td><td>0.01260</td><td>0.352</td><td> 51800</td><td> 1.6</td></tr>\n",
       "\t<tr><td>⋮</td><td>⋮</td><td>⋮</td><td>⋮</td><td>⋮</td><td>⋮</td><td>⋮</td></tr>\n",
       "\t<tr><td>Metamorphic</td><td>2.663</td><td>0.30</td><td>8.78e-05</td><td>0.000795</td><td> 23900</td><td> 1.159</td></tr>\n",
       "\t<tr><td>Metamorphic</td><td>2.791</td><td>0.16</td><td>1.68e-04</td><td>0.000401</td><td> 27100</td><td> 8.026</td></tr>\n",
       "\t<tr><td>Metamorphic</td><td>2.811</td><td>0.36</td><td>7.39e-02</td><td>5.720000</td><td>437000</td><td>12.850</td></tr>\n",
       "</tbody>\n",
       "</table>\n"
      ],
      "text/latex": [
       "A tibble: 887 × 7\n",
       "\\begin{tabular}{lllllll}\n",
       " lithology & density & porosity & MS & NRM & RES & chargeability\\\\\n",
       " <fct> & <dbl> & <dbl> & <dbl> & <dbl> & <dbl> & <dbl>\\\\\n",
       "\\hline\n",
       "\t Igneous & 2.931 & 0.41 & 0.00118 & 0.029 &   7960 & 46.4\\\\\n",
       "\t Igneous & 2.770 & 0.28 & 0.07900 & 4.810 & 135000 & 19.5\\\\\n",
       "\t Igneous & 2.754 & 0.28 & 0.01260 & 0.352 &  51800 &  1.6\\\\\n",
       "\t ⋮ & ⋮ & ⋮ & ⋮ & ⋮ & ⋮ & ⋮\\\\\n",
       "\t Metamorphic & 2.663 & 0.30 & 8.78e-05 & 0.000795 &  23900 &  1.159\\\\\n",
       "\t Metamorphic & 2.791 & 0.16 & 1.68e-04 & 0.000401 &  27100 &  8.026\\\\\n",
       "\t Metamorphic & 2.811 & 0.36 & 7.39e-02 & 5.720000 & 437000 & 12.850\\\\\n",
       "\\end{tabular}\n"
      ],
      "text/markdown": [
       "\n",
       "A tibble: 887 × 7\n",
       "\n",
       "| lithology &lt;fct&gt; | density &lt;dbl&gt; | porosity &lt;dbl&gt; | MS &lt;dbl&gt; | NRM &lt;dbl&gt; | RES &lt;dbl&gt; | chargeability &lt;dbl&gt; |\n",
       "|---|---|---|---|---|---|---|\n",
       "| Igneous | 2.931 | 0.41 | 0.00118 | 0.029 |   7960 | 46.4 |\n",
       "| Igneous | 2.770 | 0.28 | 0.07900 | 4.810 | 135000 | 19.5 |\n",
       "| Igneous | 2.754 | 0.28 | 0.01260 | 0.352 |  51800 |  1.6 |\n",
       "| ⋮ | ⋮ | ⋮ | ⋮ | ⋮ | ⋮ | ⋮ |\n",
       "| Metamorphic | 2.663 | 0.30 | 8.78e-05 | 0.000795 |  23900 |  1.159 |\n",
       "| Metamorphic | 2.791 | 0.16 | 1.68e-04 | 0.000401 |  27100 |  8.026 |\n",
       "| Metamorphic | 2.811 | 0.36 | 7.39e-02 | 5.720000 | 437000 | 12.850 |\n",
       "\n"
      ],
      "text/plain": [
       "    lithology   density porosity MS       NRM      RES    chargeability\n",
       "1   Igneous     2.931   0.41     0.00118  0.029      7960 46.4         \n",
       "2   Igneous     2.770   0.28     0.07900  4.810    135000 19.5         \n",
       "3   Igneous     2.754   0.28     0.01260  0.352     51800  1.6         \n",
       "⋮   ⋮           ⋮       ⋮        ⋮        ⋮        ⋮      ⋮            \n",
       "885 Metamorphic 2.663   0.30     8.78e-05 0.000795  23900  1.159       \n",
       "886 Metamorphic 2.791   0.16     1.68e-04 0.000401  27100  8.026       \n",
       "887 Metamorphic 2.811   0.36     7.39e-02 5.720000 437000 12.850       "
      ]
     },
     "metadata": {},
     "output_type": "display_data"
    },
    {
     "name": "stderr",
     "output_type": "stream",
     "text": [
      "Warning message in bake.step_log(x$steps[[i]], new_data = training):\n",
      "“NaNs produced”\n",
      "Warning message in bake.step_log(x$steps[[i]], new_data = training):\n",
      "“NaNs produced”\n"
     ]
    },
    {
     "data": {
      "text/html": [
       "<table>\n",
       "<caption>A tibble: 887 × 3</caption>\n",
       "<thead>\n",
       "\t<tr><th scope=col>porosity</th><th scope=col>RES</th><th scope=col>lithology</th></tr>\n",
       "\t<tr><th scope=col>&lt;dbl&gt;</th><th scope=col>&lt;dbl&gt;</th><th scope=col>&lt;fct&gt;</th></tr>\n",
       "</thead>\n",
       "<tbody>\n",
       "\t<tr><td>-0.2729655</td><td>7.611392</td><td>Igneous</td></tr>\n",
       "\t<tr><td>-0.5440413</td><td>9.806590</td><td>Igneous</td></tr>\n",
       "\t<tr><td>-0.5440413</td><td>9.063792</td><td>Igneous</td></tr>\n",
       "\t<tr><td>⋮</td><td>⋮</td><td>⋮</td></tr>\n",
       "\t<tr><td>-0.4950012</td><td> 8.463967</td><td>Metamorphic</td></tr>\n",
       "\t<tr><td>-0.9418159</td><td> 8.561408</td><td>Metamorphic</td></tr>\n",
       "\t<tr><td>-0.3654072</td><td>10.717486</td><td>Metamorphic</td></tr>\n",
       "</tbody>\n",
       "</table>\n"
      ],
      "text/latex": [
       "A tibble: 887 × 3\n",
       "\\begin{tabular}{lll}\n",
       " porosity & RES & lithology\\\\\n",
       " <dbl> & <dbl> & <fct>\\\\\n",
       "\\hline\n",
       "\t -0.2729655 & 7.611392 & Igneous\\\\\n",
       "\t -0.5440413 & 9.806590 & Igneous\\\\\n",
       "\t -0.5440413 & 9.063792 & Igneous\\\\\n",
       "\t ⋮ & ⋮ & ⋮\\\\\n",
       "\t -0.4950012 &  8.463967 & Metamorphic\\\\\n",
       "\t -0.9418159 &  8.561408 & Metamorphic\\\\\n",
       "\t -0.3654072 & 10.717486 & Metamorphic\\\\\n",
       "\\end{tabular}\n"
      ],
      "text/markdown": [
       "\n",
       "A tibble: 887 × 3\n",
       "\n",
       "| porosity &lt;dbl&gt; | RES &lt;dbl&gt; | lithology &lt;fct&gt; |\n",
       "|---|---|---|\n",
       "| -0.2729655 | 7.611392 | Igneous |\n",
       "| -0.5440413 | 9.806590 | Igneous |\n",
       "| -0.5440413 | 9.063792 | Igneous |\n",
       "| ⋮ | ⋮ | ⋮ |\n",
       "| -0.4950012 |  8.463967 | Metamorphic |\n",
       "| -0.9418159 |  8.561408 | Metamorphic |\n",
       "| -0.3654072 | 10.717486 | Metamorphic |\n",
       "\n"
      ],
      "text/plain": [
       "    porosity   RES       lithology  \n",
       "1   -0.2729655 7.611392  Igneous    \n",
       "2   -0.5440413 9.806590  Igneous    \n",
       "3   -0.5440413 9.063792  Igneous    \n",
       "⋮   ⋮          ⋮         ⋮          \n",
       "885 -0.4950012  8.463967 Metamorphic\n",
       "886 -0.9418159  8.561408 Metamorphic\n",
       "887 -0.3654072 10.717486 Metamorphic"
      ]
     },
     "metadata": {},
     "output_type": "display_data"
    },
    {
     "data": {
      "text/html": [
       "<table>\n",
       "<caption>A tibble: 9 × 7</caption>\n",
       "<thead>\n",
       "\t<tr><th scope=col>neighbors</th><th scope=col>.metric</th><th scope=col>.estimator</th><th scope=col>mean</th><th scope=col>n</th><th scope=col>std_err</th><th scope=col>.config</th></tr>\n",
       "\t<tr><th scope=col>&lt;int&gt;</th><th scope=col>&lt;chr&gt;</th><th scope=col>&lt;chr&gt;</th><th scope=col>&lt;dbl&gt;</th><th scope=col>&lt;int&gt;</th><th scope=col>&lt;dbl&gt;</th><th scope=col>&lt;chr&gt;</th></tr>\n",
       "</thead>\n",
       "<tbody>\n",
       "\t<tr><td>2</td><td>accuracy</td><td>multiclass</td><td>0.7373163</td><td>5</td><td>0.011885558</td><td>Model1</td></tr>\n",
       "\t<tr><td>4</td><td>accuracy</td><td>multiclass</td><td>0.7689302</td><td>5</td><td>0.005429084</td><td>Model2</td></tr>\n",
       "\t<tr><td>5</td><td>accuracy</td><td>multiclass</td><td>0.7745163</td><td>5</td><td>0.004727964</td><td>Model3</td></tr>\n",
       "\t<tr><td>⋮</td><td>⋮</td><td>⋮</td><td>⋮</td><td>⋮</td><td>⋮</td><td>⋮</td></tr>\n",
       "\t<tr><td>10</td><td>accuracy</td><td>multiclass</td><td>0.7880885</td><td>5</td><td>0.011009499</td><td>Model7</td></tr>\n",
       "\t<tr><td>12</td><td>accuracy</td><td>multiclass</td><td>0.7846985</td><td>5</td><td>0.013479498</td><td>Model8</td></tr>\n",
       "\t<tr><td>15</td><td>accuracy</td><td>multiclass</td><td>0.7813342</td><td>5</td><td>0.009857985</td><td>Model9</td></tr>\n",
       "</tbody>\n",
       "</table>\n"
      ],
      "text/latex": [
       "A tibble: 9 × 7\n",
       "\\begin{tabular}{lllllll}\n",
       " neighbors & .metric & .estimator & mean & n & std\\_err & .config\\\\\n",
       " <int> & <chr> & <chr> & <dbl> & <int> & <dbl> & <chr>\\\\\n",
       "\\hline\n",
       "\t 2 & accuracy & multiclass & 0.7373163 & 5 & 0.011885558 & Model1\\\\\n",
       "\t 4 & accuracy & multiclass & 0.7689302 & 5 & 0.005429084 & Model2\\\\\n",
       "\t 5 & accuracy & multiclass & 0.7745163 & 5 & 0.004727964 & Model3\\\\\n",
       "\t ⋮ & ⋮ & ⋮ & ⋮ & ⋮ & ⋮ & ⋮\\\\\n",
       "\t 10 & accuracy & multiclass & 0.7880885 & 5 & 0.011009499 & Model7\\\\\n",
       "\t 12 & accuracy & multiclass & 0.7846985 & 5 & 0.013479498 & Model8\\\\\n",
       "\t 15 & accuracy & multiclass & 0.7813342 & 5 & 0.009857985 & Model9\\\\\n",
       "\\end{tabular}\n"
      ],
      "text/markdown": [
       "\n",
       "A tibble: 9 × 7\n",
       "\n",
       "| neighbors &lt;int&gt; | .metric &lt;chr&gt; | .estimator &lt;chr&gt; | mean &lt;dbl&gt; | n &lt;int&gt; | std_err &lt;dbl&gt; | .config &lt;chr&gt; |\n",
       "|---|---|---|---|---|---|---|\n",
       "| 2 | accuracy | multiclass | 0.7373163 | 5 | 0.011885558 | Model1 |\n",
       "| 4 | accuracy | multiclass | 0.7689302 | 5 | 0.005429084 | Model2 |\n",
       "| 5 | accuracy | multiclass | 0.7745163 | 5 | 0.004727964 | Model3 |\n",
       "| ⋮ | ⋮ | ⋮ | ⋮ | ⋮ | ⋮ | ⋮ |\n",
       "| 10 | accuracy | multiclass | 0.7880885 | 5 | 0.011009499 | Model7 |\n",
       "| 12 | accuracy | multiclass | 0.7846985 | 5 | 0.013479498 | Model8 |\n",
       "| 15 | accuracy | multiclass | 0.7813342 | 5 | 0.009857985 | Model9 |\n",
       "\n"
      ],
      "text/plain": [
       "  neighbors .metric  .estimator mean      n std_err     .config\n",
       "1 2         accuracy multiclass 0.7373163 5 0.011885558 Model1 \n",
       "2 4         accuracy multiclass 0.7689302 5 0.005429084 Model2 \n",
       "3 5         accuracy multiclass 0.7745163 5 0.004727964 Model3 \n",
       "⋮ ⋮         ⋮        ⋮          ⋮         ⋮ ⋮           ⋮      \n",
       "7 10        accuracy multiclass 0.7880885 5 0.011009499 Model7 \n",
       "8 12        accuracy multiclass 0.7846985 5 0.013479498 Model8 \n",
       "9 15        accuracy multiclass 0.7813342 5 0.009857985 Model9 "
      ]
     },
     "metadata": {},
     "output_type": "display_data"
    },
    {
     "data": {
      "image/png": "[encoded data removed]",
      "text/plain": [
       "plot without title"
      ]
     },
     "metadata": {
      "image/png": {
       "height": 420,
       "width": 420
      }
     },
     "output_type": "display_data"
    }
   ],
   "source": [
    "negative_MS <- data_train %>%\n",
    "    filter(MS < 0)\n",
    "\n",
    "new_training <- setdiff(data_train, negative_MS)\n",
    "new_training\n",
    "\n",
    "new_trained <- test_recipe %>% \n",
    "    prep() %>%\n",
    "    bake(new_training)\n",
    "new_trained\n",
    "\n",
    "test_recipe <- recipe(lithology ~ porosity+RES, data = new_trained) %>%\n",
    "         step_log(all_predictors()) %>%\n",
    "         step_scale(all_predictors()) %>%\n",
    "         step_center(all_predictors())\n",
    "\n",
    "training_vfold <- vfold_cv(new_training, v = 5, strata = lithology)\n",
    "\n",
    "knn_tune <- nearest_neighbor(weight_func = \"rectangular\", neighbors = tune()) %>%\n",
    "       set_engine(\"kknn\") %>%\n",
    "       set_mode(\"classification\")\n",
    "\n",
    "knn_results <- workflow() %>%\n",
    "       add_recipe(test_recipe) %>%\n",
    "       add_model(knn_tune) %>%\n",
    "       tune_grid(resamples = training_vfold) %>%\n",
    "       collect_metrics()\n",
    "\n",
    "accuracies <- knn_results %>% \n",
    "      filter(.metric == \"accuracy\")\n",
    "accuracies\n",
    "\n",
    "accuracy_versus_k <- ggplot(accuracies, aes(x = neighbors, y = mean))+\n",
    "      geom_point() +\n",
    "      geom_line() +\n",
    "      labs(x = \"Neighbors\", y = \"Accuracy Estimate\") +\n",
    "      scale_x_continuous(breaks = seq(0, 14, by = 1)) +  # adjusting the x-axis\n",
    "      scale_y_continuous(limits = c(0.4, 1.0)) # adjusting the y-axis\n",
    "accuracy_versus_k"
   ]
  },
  {
   "cell_type": "code",
   "execution_count": null,
   "metadata": {},
   "outputs": [],
   "source": []
  }
 ],
 "metadata": {
  "kernelspec": {
   "display_name": "R",
   "language": "R",
   "name": "ir"
  },
  "language_info": {
   "codemirror_mode": "r",
   "file_extension": ".r",
   "mimetype": "text/x-r-source",
   "name": "R",
   "pygments_lexer": "r",
   "version": "4.0.0"
  }
 },
 "nbformat": 4,
 "nbformat_minor": 4
}
